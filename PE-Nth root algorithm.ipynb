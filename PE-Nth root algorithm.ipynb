{
 "cells": [
  {
   "cell_type": "markdown",
   "id": "184b5bb3",
   "metadata": {},
   "source": [
    "# Python everything, exercise:\n",
    "## Nth root algorithm for computing $\\sqrt[n] a$\n",
    "**Nth root algorithm** computes the *nth root* of a given positive number $a$ by\n",
    " 1) $x_0 \\leftarrow$ some initial guess <br>\n",
    " 2) for $k=0,1,2...$ do: <br>\n",
    "$\\;\\;\\;\\;\\Large x_{k+1}=\\frac{1}{n}((n-1)x_k+\\frac{a}{x^{n-1}_k})$\n",
    "\n",
    "YouTube Channel: **@ostad-ai**\n",
    "<br>The Python code is at: https://github.com/ostad-ai/Python-Everything"
   ]
  },
  {
   "cell_type": "code",
   "execution_count": 1,
   "id": "80c175d2",
   "metadata": {},
   "outputs": [],
   "source": [
    "def nth_root(a,n=2,x0=1,iter=20):\n",
    "    xk=x0\n",
    "    n1=n-1\n",
    "    for _ in range(iter):\n",
    "        xk=(n1*xk+a/xk**n1)/n\n",
    "    return xk"
   ]
  },
  {
   "cell_type": "code",
   "execution_count": 2,
   "id": "d757f8ac",
   "metadata": {},
   "outputs": [
    {
     "name": "stdout",
     "output_type": "stream",
     "text": [
      "3th root of 2 is:1.2599210498948732\n"
     ]
    }
   ],
   "source": [
    "a=2\n",
    "n=3\n",
    "print(f'{n}th root of {a} is:{nth_root(a,n)}')"
   ]
  },
  {
   "cell_type": "code",
   "execution_count": null,
   "id": "9f4031b3",
   "metadata": {},
   "outputs": [],
   "source": []
  }
 ],
 "metadata": {
  "kernelspec": {
   "display_name": "Python 3 (ipykernel)",
   "language": "python",
   "name": "python3"
  },
  "language_info": {
   "codemirror_mode": {
    "name": "ipython",
    "version": 3
   },
   "file_extension": ".py",
   "mimetype": "text/x-python",
   "name": "python",
   "nbconvert_exporter": "python",
   "pygments_lexer": "ipython3",
   "version": "3.11.1"
  }
 },
 "nbformat": 4,
 "nbformat_minor": 5
}
