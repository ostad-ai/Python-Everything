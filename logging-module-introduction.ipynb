{
 "cells": [
  {
   "cell_type": "markdown",
   "id": "d6ea1456",
   "metadata": {},
   "source": [
    "# Python: Everything\n",
    "18) **Logging module Introduction:** Using logging functions to create logging systems<br>\n",
    "آشنایی سنجانه رخدادنگاری: بهره‌گیری از کارکنشهای رخدادنگاری، برای آفرینش سامانه‌های رخدادنگاری\n",
    "<br> **Hint:** Each cell in this Notebook should be run separately<br>\n",
    "نکته: هر یاخته در این نوتبوک، بهتر است که جداگانه دوانده شود\n",
    "<br>Instagram: @words.persian\n",
    "<br>https://github.com/ostad-ai/Python-Everything\n",
    "<br> Slides in English:\n",
    "https://www.pinterest.com/HamedShahHosseini/programming-languages/"
   ]
  },
  {
   "cell_type": "markdown",
   "id": "46daad57",
   "metadata": {},
   "source": [
    "These functions: debug(), info(), warning(), error(), and critical() are usually used for showing or recording events.<br>\n",
    "پنج کارکنش بالا را میتوان برای نمایش یا آگاشتِ رویدادها، به کار برد"
   ]
  },
  {
   "cell_type": "code",
   "execution_count": 1,
   "id": "1e79f6f2",
   "metadata": {},
   "outputs": [
    {
     "name": "stderr",
     "output_type": "stream",
     "text": [
      "WARNING:root:It is a mild warning\n"
     ]
    }
   ],
   "source": [
    "# simple example: نمونه ساده\n",
    "# as you see, the info message is not shown\n",
    "# because the default logging level is warning\n",
    "# پیغام آگاهی -اینفو- نشان داده نمیشود \n",
    "#زیرا، تراز رخدادنگاری وادنگ، روی هشدار -وارنینگ- است\n",
    "import logging\n",
    "logging.warning('It is a mild warning')\n",
    "logging.info('It is an info. message')"
   ]
  },
  {
   "cell_type": "code",
   "execution_count": 2,
   "id": "b966d1a7",
   "metadata": {},
   "outputs": [
    {
     "name": "stderr",
     "output_type": "stream",
     "text": [
      "WARNING:root:It is a mild warning\n",
      "INFO:root:It is an info. message\n"
     ]
    }
   ],
   "source": [
    "# simple example with changing the default level:\n",
    "# now the info message is also shown\n",
    "# because the loggeing level is set to: INFO\n",
    "# نمونه ساده با دگرش دادن تراز وادنگ\n",
    "# اکنون پیغام آگاهی -اینفو- نیز دیده میشود\n",
    "# زیرا، تراز رخدادنگاری را، آگاهی -اینفو- گذاشتیم\n",
    "import logging\n",
    "logging.basicConfig(level=logging.INFO,force=True)\n",
    "logging.warning('It is a mild warning')\n",
    "logging.info('It is an info. message')"
   ]
  },
  {
   "cell_type": "code",
   "execution_count": 7,
   "id": "5f202e7f",
   "metadata": {},
   "outputs": [
    {
     "name": "stderr",
     "output_type": "stream",
     "text": [
      "ERROR:__main__:It is a serious error\n"
     ]
    }
   ],
   "source": [
    "# simple example to get an instance of the Logger class:\n",
    "# نمونه ساده برای گرفتن یک گونه‌سار از رده رُخدادنگار لاگر\n",
    "import logging\n",
    "logger=logging.getLogger(__name__)\n",
    "logger.error('It is a serious error')"
   ]
  },
  {
   "cell_type": "code",
   "execution_count": 8,
   "id": "ffb973a0",
   "metadata": {},
   "outputs": [
    {
     "name": "stderr",
     "output_type": "stream",
     "text": [
      "CRITICAL:MyLog:It is a cirtical situation\n"
     ]
    }
   ],
   "source": [
    "# simple example with a user-defined name:\n",
    "# نمونه ساده با یک نام کاربر-شناسانده\n",
    "import logging\n",
    "logger=logging.getLogger('MyLog')\n",
    "logger.critical('It is a cirtical situation')"
   ]
  },
  {
   "cell_type": "code",
   "execution_count": 9,
   "id": "9e2a47b4",
   "metadata": {},
   "outputs": [
    {
     "name": "stderr",
     "output_type": "stream",
     "text": [
      "2022-12-18 15:25:01,357 - INFO - Starting....\n",
      "2022-12-18 15:25:01,357 - WARNING - It is an important warning\n",
      "2022-12-18 15:25:01,367 - INFO - Finished!\n"
     ]
    }
   ],
   "source": [
    "# using date/time in the messages\n",
    "# بهره‌گیری از روزمَه/زمان در پیغامها\n",
    "import logging\n",
    "FORMAT='%(asctime) s - %(levelname)s - %(message)s'\n",
    "logging.basicConfig(format=FORMAT,level=logging.INFO,force=True)\n",
    "logger=logging.getLogger('MyLog')\n",
    "logger.setLevel(logging.INFO)\n",
    "logger.info('Starting....')\n",
    "logger.warning('It is an important warning')\n",
    "logger.info('Finished!')"
   ]
  },
  {
   "cell_type": "code",
   "execution_count": 11,
   "id": "3f6f3b62",
   "metadata": {},
   "outputs": [
    {
     "name": "stderr",
     "output_type": "stream",
     "text": [
      "2022-12-18 15:51:38,054 - DEBUG - This is only for debugging\n",
      "2022-12-18 15:51:38,054 - INFO - So, this is only an info message\n",
      "2022-12-18 15:51:38,054 - WARNING - And this is only for warning\n",
      "2022-12-18 15:51:38,064 - ERROR - Finally, in Persian: بچه بدی شدی ها\n"
     ]
    }
   ],
   "source": [
    "# logging into a log file\n",
    "# رخدادنگاری تووی یک پرونده رخدادگان\n",
    "import logging\n",
    "logger=logging.getLogger('myfileLogger')\n",
    "fhandler=logging.FileHandler(filename='mylog.log',encoding='utf-8')\n",
    "FORMAT='%(asctime) s - %(levelname)s - %(message)s'\n",
    "fhandler.setFormatter(logging.Formatter(FORMAT))\n",
    "logger.addHandler(fhandler)\n",
    "logger.setLevel(logging.DEBUG) #choose other levels to see difference\n",
    "logger.debug('This is only for debugging')\n",
    "logger.info('So, this is only an info message')\n",
    "logger.warning('And this is only for warning')\n",
    "logger.error('Finally, in Persian: بچه بدی شدی ها')\n",
    "#removing the handler\n",
    "# ورداشتن رسیدگی‌گر\n",
    "logger.removeHandler(fhandler)\n",
    "fhandler.close()"
   ]
  },
  {
   "cell_type": "code",
   "execution_count": null,
   "id": "a14e1d25",
   "metadata": {},
   "outputs": [],
   "source": []
  }
 ],
 "metadata": {
  "kernelspec": {
   "display_name": "Python 3 (ipykernel)",
   "language": "python",
   "name": "python3"
  },
  "language_info": {
   "codemirror_mode": {
    "name": "ipython",
    "version": 3
   },
   "file_extension": ".py",
   "mimetype": "text/x-python",
   "name": "python",
   "nbconvert_exporter": "python",
   "pygments_lexer": "ipython3",
   "version": "3.8.10"
  }
 },
 "nbformat": 4,
 "nbformat_minor": 5
}
