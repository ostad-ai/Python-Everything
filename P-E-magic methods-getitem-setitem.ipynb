{
 "cells": [
  {
   "cell_type": "markdown",
   "id": "b3c0145c",
   "metadata": {},
   "source": [
    "# Python: Everything\n",
    "- 24) **Magic methods, __getitem__ and __setitem__:** These methods may be implemented in a class to override the default ones for indexing and assignment, respectively.\n",
    "<br>----------------------------------------------\n",
    "<br> https://www.pinterest.com/HamedShahHosseini/programming-languages/\n",
    "<br>https://github.com/ostad-ai/Python-Everything"
   ]
  },
  {
   "cell_type": "markdown",
   "id": "35474859",
   "metadata": {},
   "source": [
    "Let's apply **indexing** to a list."
   ]
  },
  {
   "cell_type": "code",
   "execution_count": 1,
   "id": "2191568a",
   "metadata": {},
   "outputs": [
    {
     "name": "stdout",
     "output_type": "stream",
     "text": [
      "The list: [2, 3, 5, 7, 11, 13]\n",
      "List item at index 2 using indexing:5\n",
      "List item at index 2 using getitem:5\n",
      "--------------------\n",
      "The dictionary: {'one': 'hello', 'two': 'world', 'three': 'bye'}\n",
      "Dict. value at key two, using keying: world\n",
      "Dict. value at key two, using getitem: world\n"
     ]
    }
   ],
   "source": [
    "# both self[key] and self.__getitem__(key) are the same\n",
    "primes=[2,3,5,7,11,13]\n",
    "dicts={'one':'hello','two':'world','three':'bye'}\n",
    "i=2; dkey='two'\n",
    "print(f'The list: {primes}')\n",
    "print(f'List item at index {i} using indexing:{primes[i]}')\n",
    "print(f'List item at index {i} using getitem:{primes.__getitem__(i)}')\n",
    "print('--------------------')\n",
    "print(f'The dictionary: {dicts}')\n",
    "print(f'Dict. value at key {dkey}, using keying: {dicts[dkey]}')\n",
    "print(f'Dict. value at key {dkey}, using getitem: {dicts.__getitem__(dkey)}')"
   ]
  },
  {
   "cell_type": "markdown",
   "id": "8d2a1b9c",
   "metadata": {},
   "source": [
    "Defining **getitem** method in a class to use indexing on the class instances."
   ]
  },
  {
   "cell_type": "code",
   "execution_count": 2,
   "id": "4d6eeae4",
   "metadata": {},
   "outputs": [
    {
     "name": "stdout",
     "output_type": "stream",
     "text": [
      "Student Jim is 27\n"
     ]
    }
   ],
   "source": [
    "# we define __getitem__ in our class\n",
    "class Students:\n",
    "    def __init__(self,name,age):\n",
    "        self.records={name: age}\n",
    "    def __getitem__(self,key):\n",
    "        return self.records[key]\n",
    "name,age='Jim',27\n",
    "std=Students(name,age)\n",
    "# now we can get an item from the instance by instance[key]\n",
    "print(f\"Student {name} is {std[name]}\")"
   ]
  },
  {
   "cell_type": "markdown",
   "id": "e5eece6b",
   "metadata": {},
   "source": [
    "Defining **setitem** method in a class which gets *key* and *value* as its arguments, to use assigment in the class instances."
   ]
  },
  {
   "cell_type": "code",
   "execution_count": 3,
   "id": "07a58317",
   "metadata": {},
   "outputs": [
    {
     "name": "stdout",
     "output_type": "stream",
     "text": [
      "Jim is 27 years old with major CS\n",
      "Julia is 21 years old with major EE\n",
      "Smith is 32 years old with major CS\n"
     ]
    }
   ],
   "source": [
    "# we define both __getitem__ and __setitem__ in our class\n",
    "class Students2:\n",
    "    def __init__(self,name,age_major):\n",
    "        self.records={}\n",
    "        self.records[name]=age_major\n",
    "    def __getitem__(self,key):\n",
    "        return self.records[key]\n",
    "    def __setitem__(self,key,value):\n",
    "        self.records[key]=[value[0],value[1]]\n",
    "name,age_major='Jim',[27,'CS']\n",
    "std2=Students2(name,age_major)\n",
    "# now we can assign items by instance[key]=value\n",
    "std2['Julia']=[21,'EE']\n",
    "std2['Smith']=[32,'CS']\n",
    "for key in std2.records.keys():\n",
    "    print(f'{key} is {std2[key][0]} years old with major {std2[key][1]}')"
   ]
  },
  {
   "cell_type": "code",
   "execution_count": null,
   "id": "22275727",
   "metadata": {},
   "outputs": [],
   "source": []
  }
 ],
 "metadata": {
  "kernelspec": {
   "display_name": "Python 3 (ipykernel)",
   "language": "python",
   "name": "python3"
  },
  "language_info": {
   "codemirror_mode": {
    "name": "ipython",
    "version": 3
   },
   "file_extension": ".py",
   "mimetype": "text/x-python",
   "name": "python",
   "nbconvert_exporter": "python",
   "pygments_lexer": "ipython3",
   "version": "3.8.10"
  }
 },
 "nbformat": 4,
 "nbformat_minor": 5
}
