{
 "cells": [
  {
   "cell_type": "markdown",
   "metadata": {},
   "source": [
    "# Python Everything:\n",
    "6) *Strings* in Python: Introduction.\n",
    "\n",
    "# رشته ها در پایتون: آشنایی \n",
    "By Hamed Shah-Hosseini<br>\n",
    "The code is at: https://github.com/ostad-ai/Python-Everything"
   ]
  },
  {
   "cell_type": "markdown",
   "metadata": {},
   "source": [
    "Strings in Python are a sequence of characters\n",
    "- enclosed by single or double quotation marks:\n",
    "\n",
    "رشته ها در پایتون، دنباله‌ای از نویسه ها هستند\n",
    "- که با ماریک های بازگفت تک یا دوگانه، دربرگرفته شده"
   ]
  },
  {
   "cell_type": "markdown",
   "metadata": {},
   "source": [
    "Strings encloded with ' and \" are the same <br>\n",
    "رشته ‌ها دربرگرفته شده با ' یا \" ، یکسان هستند"
   ]
  },
  {
   "cell_type": "code",
   "execution_count": 3,
   "metadata": {},
   "outputs": [
    {
     "data": {
      "text/plain": [
       "True"
      ]
     },
     "execution_count": 3,
     "metadata": {},
     "output_type": "execute_result"
    }
   ],
   "source": [
    "s='hello world'\n",
    "s2=\"hello world\"\n",
    "s==s2"
   ]
  },
  {
   "cell_type": "markdown",
   "metadata": {},
   "source": [
    "Accessing characters of a string:\n",
    "<br> دسترسی به نویسه های یک رشته"
   ]
  },
  {
   "cell_type": "code",
   "execution_count": 32,
   "metadata": {},
   "outputs": [
    {
     "name": "stdout",
     "output_type": "stream",
     "text": [
      "h, e, l, l, o,  , w, o, r, l, d, \n",
      "\n",
      "h; e; l; l; o;  ; w; o; r; l; d; "
     ]
    }
   ],
   "source": [
    "for char in s:\n",
    "    print(char,end=', ')\n",
    "    \n",
    "print('\\n') # new line\n",
    "\n",
    "for i in range(len(s)):\n",
    "    print(s[i],end='; ')"
   ]
  },
  {
   "cell_type": "markdown",
   "metadata": {},
   "source": [
    "Replacing old substrings with new one:\n",
    "<br> جایگزینی زیررشته های کهنه با نو"
   ]
  },
  {
   "cell_type": "code",
   "execution_count": 9,
   "metadata": {},
   "outputs": [
    {
     "name": "stdout",
     "output_type": "stream",
     "text": [
      "original: hello world\n",
      "new one: helloworld\n"
     ]
    }
   ],
   "source": [
    "s_no_space=s.replace(' ', '')\n",
    "print('original:',s)\n",
    "print('new one:', s_no_space)"
   ]
  },
  {
   "cell_type": "markdown",
   "metadata": {},
   "source": [
    "Spliting a string based on a separator:\n",
    "<br>شکاندن یک رشته برپایه یک جداگر"
   ]
  },
  {
   "cell_type": "code",
   "execution_count": 25,
   "metadata": {},
   "outputs": [
    {
     "name": "stdout",
     "output_type": "stream",
     "text": [
      "['hello', 'world']\n"
     ]
    }
   ],
   "source": [
    "separator=' '\n",
    "print(s.split(separator))"
   ]
  },
  {
   "cell_type": "code",
   "execution_count": 14,
   "metadata": {},
   "outputs": [
    {
     "name": "stdout",
     "output_type": "stream",
     "text": [
      "Original: hello world\n",
      "To upper: HELLO WORLD\n",
      "To lower:  hello world\n",
      "To title: Hello World\n",
      "To capitalize: Hello world\n"
     ]
    }
   ],
   "source": [
    "print('Original:',s)\n",
    "print('To upper:', s.upper())\n",
    "print('To lower: ',s.lower())\n",
    "print('To title:',s.title())\n",
    "print('To capitalize:',s.capitalize())"
   ]
  },
  {
   "cell_type": "markdown",
   "metadata": {},
   "source": [
    "Concatenating strings:\n",
    "<br>بهم چسباندن رشته ها"
   ]
  },
  {
   "cell_type": "code",
   "execution_count": 33,
   "metadata": {},
   "outputs": [
    {
     "name": "stdout",
     "output_type": "stream",
     "text": [
      "To concatenate:  hello world, it's me, bye\n"
     ]
    }
   ],
   "source": [
    "s3=', it\\'s me'\n",
    "s4=', bye'\n",
    "print('To concatenate: ',s+s3+s4)"
   ]
  },
  {
   "cell_type": "code",
   "execution_count": null,
   "metadata": {},
   "outputs": [],
   "source": []
  }
 ],
 "metadata": {
  "kernelspec": {
   "display_name": "Python 3",
   "language": "python",
   "name": "python3"
  },
  "language_info": {
   "codemirror_mode": {
    "name": "ipython",
    "version": 3
   },
   "file_extension": ".py",
   "mimetype": "text/x-python",
   "name": "python",
   "nbconvert_exporter": "python",
   "pygments_lexer": "ipython3",
   "version": "3.8.3"
  }
 },
 "nbformat": 4,
 "nbformat_minor": 4
}
