{
 "cells": [
  {
   "cell_type": "markdown",
   "id": "d6fc0aa1",
   "metadata": {},
   "source": [
    "# Python: Everything\n",
    "- 15) **Class introduction:** Class definition, class variable, and instance variable\n",
    "<br> Instagram: @words.persian\n",
    "<br>https://github.com/ostad-ai/Python-Everything\n",
    "<br> https://www.pinterest.com/HamedShahHosseini/programming-languages/python"
   ]
  },
  {
   "cell_type": "markdown",
   "id": "50b80bee",
   "metadata": {},
   "source": [
    "**Class:** classes are used to define objects we need in our program. In other words, classes define how to construct objects.<br> A class definition begins with keyword **class**.\n",
    "<br>\n",
    "**رده:** رده‌ها برای شناساندن پرموته‌هایی که در برنامه نیاز داریم، به کار میروند. به زبان دیگر، رده‌ها میگویند که چگونه پرموته‌ها برهمساخته میشوند\n",
    "<br>\n",
    "یک شناسانش رده، با کلیدواژه کلاس آغاز میشود\n",
    "<br>\n",
    "رده: class\n",
    "<br>\n",
    "پرموته: object"
   ]
  },
  {
   "cell_type": "markdown",
   "id": "998d59f2",
   "metadata": {},
   "source": [
    "A class can have properties (data attributes) and methods (functions).<br>\n",
    "یک رده، میتواند هم داشتار (بربستهای داده) هایی داشته باشد و هم روش (کارکنش) هایی \n",
    "- To create an object (instance) of a class, we call the name of the class. If the method __init__ exists in your class; then, this method is called at the time of instantiation. <br>\n",
    "برای آفریدن یک پرموته (یا گونه‌سار) از یک رده، نام رده را فراخوانی میکنیم. اگر روش اینیت در رده ما باشد، آنگاه، این روش، در آغاز گونه‌سارسازی، فراخوانی میشود\n",
    "- Every method of class begins with parameter **self** which refers to the current instance of class. <br>\n",
    "هر روشِ رده با پَراسنجه (پارامتر) سلف آغاز میشود، که به گونه‌سار کنونی رده، روی میآورد "
   ]
  },
  {
   "cell_type": "code",
   "execution_count": 38,
   "id": "e9e85658",
   "metadata": {},
   "outputs": [
    {
     "name": "stdout",
     "output_type": "stream",
     "text": [
      "Hello World\n",
      "درود جهان\n"
     ]
    }
   ],
   "source": [
    "#defining a class\n",
    "# شناسانش یک رده\n",
    "class HelloWorld:\n",
    "    english='Hello World' # a class variable\n",
    "    persian='درود جهان'     # a class variable\n",
    "\n",
    "#creating an object (instance) of the class    \n",
    "myclass=HelloWorld() \n",
    "\n",
    "# accessing a property of the class\n",
    "print(myclass.english) \n",
    "print(myclass.persian)"
   ]
  },
  {
   "cell_type": "code",
   "execution_count": 39,
   "id": "4c724158",
   "metadata": {},
   "outputs": [],
   "source": [
    "# a simple method defined in the following class\n",
    "# یک روش ساده شناسانده شده در رده زیر\n",
    "class Simple:\n",
    "    # a method(function) to add\n",
    "    def add(self,x,y):  # a method( function)\n",
    "        return x+y"
   ]
  },
  {
   "cell_type": "code",
   "execution_count": 40,
   "id": "5e1a6357",
   "metadata": {},
   "outputs": [
    {
     "data": {
      "text/plain": [
       "12"
      ]
     },
     "execution_count": 40,
     "metadata": {},
     "output_type": "execute_result"
    }
   ],
   "source": [
    "# using an instance of the class to add numbers\n",
    "# بهره‌گیری از گونه‌سار رده داده شده، برای افزای شماره‌ها\n",
    "addxy=Simple()\n",
    "addxy.add(5,7)"
   ]
  },
  {
   "cell_type": "code",
   "execution_count": 41,
   "id": "3f4c2626",
   "metadata": {},
   "outputs": [],
   "source": [
    "# use of __init__ method in the class definition\n",
    "# بهره‌گیری از روش اینیت در شناسانش رده\n",
    "class Greeting:\n",
    "    def __init__(self,lang='Persian'):\n",
    "        self.lang=lang  #instance variable\n",
    "    def hello(self):\n",
    "        if self.lang=='Persian':\n",
    "            print('درود جهان')\n",
    "        elif self.lang=='English':\n",
    "            print('Hello World')\n",
    "        else:\n",
    "            print('Unknown language\\nزبان ناشناخته')"
   ]
  },
  {
   "cell_type": "code",
   "execution_count": 42,
   "id": "e97ed5e8",
   "metadata": {},
   "outputs": [
    {
     "name": "stdout",
     "output_type": "stream",
     "text": [
      "درود جهان\n"
     ]
    }
   ],
   "source": [
    "# using an instance of the class and call its method\n",
    "# بهره‌گیری از یک گونه‌سار از رده، و فراخوانی روش آن\n",
    "greeting=Greeting()\n",
    "greeting.hello()"
   ]
  },
  {
   "cell_type": "code",
   "execution_count": 43,
   "id": "58b825f1",
   "metadata": {},
   "outputs": [
    {
     "name": "stdout",
     "output_type": "stream",
     "text": [
      "Hello World\n"
     ]
    }
   ],
   "source": [
    "# let's try with another language\n",
    "# بیاییم با زبان دیگر بیازماییم\n",
    "greeting=Greeting('English')\n",
    "greeting.hello()"
   ]
  },
  {
   "cell_type": "markdown",
   "id": "7a30c242",
   "metadata": {},
   "source": [
    "**Class variable:** is shared by all instances of the class<br>\n",
    "**دگرنده رده**: که با همه گونه‌سارهای رده، همبخشی شده است\n",
    "<br>**Instance variable:** is unique to each instance of the class<br>\n",
    "**دگرنده گونه‌سار:** که برای هر گونه‌سار رده، یکتا است"
   ]
  },
  {
   "cell_type": "code",
   "execution_count": 44,
   "id": "39e2ebee",
   "metadata": {},
   "outputs": [],
   "source": [
    "# A class with __init__ method, \n",
    "# having both class and instance variables\n",
    "# یک رده با روش اینیت، دارای دگرنده رده و دگرنده گونه‌سار\n",
    "class Person:\n",
    "    NumberofInstances=0  #class variable\n",
    "    def __init__(self,name,age):\n",
    "        self.name=name #instance variable\n",
    "        self.age=age   #instance variable\n",
    "        Person.NumberofInstances+=1\n",
    "    def isOld(self):\n",
    "        if self.age>60:\n",
    "            return True\n",
    "        else:\n",
    "            return False"
   ]
  },
  {
   "cell_type": "code",
   "execution_count": 45,
   "id": "743c4cbc",
   "metadata": {},
   "outputs": [
    {
     "name": "stdout",
     "output_type": "stream",
     "text": [
      "Number of people:3\n",
      "Emilia is young\n",
      "Persia is old\n",
      "Ostad is old\n"
     ]
    }
   ],
   "source": [
    "# creating instances of the above class\n",
    "# آفریدن گونه‌سارهایی از رده بالا\n",
    "persons=[]\n",
    "persons.append(Person('Emilia',36))\n",
    "persons.append(Person('Persia',2500))\n",
    "persons.append(Person('Ostad',120))\n",
    "print('Number of people:'+\\\n",
    "      f'{Person.NumberofInstances}')\n",
    "for person in persons:\n",
    "    if person.isOld():\n",
    "        print(person.name,'is old')\n",
    "    else:\n",
    "        print(person.name,'is young')"
   ]
  },
  {
   "cell_type": "code",
   "execution_count": null,
   "id": "131f1f98",
   "metadata": {},
   "outputs": [],
   "source": []
  }
 ],
 "metadata": {
  "kernelspec": {
   "display_name": "Python 3",
   "language": "python",
   "name": "python3"
  },
  "language_info": {
   "codemirror_mode": {
    "name": "ipython",
    "version": 3
   },
   "file_extension": ".py",
   "mimetype": "text/x-python",
   "name": "python",
   "nbconvert_exporter": "python",
   "pygments_lexer": "ipython3",
   "version": "3.8.3"
  }
 },
 "nbformat": 4,
 "nbformat_minor": 5
}
