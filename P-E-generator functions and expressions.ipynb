{
 "cells": [
  {
   "cell_type": "markdown",
   "id": "b3c0145c",
   "metadata": {},
   "source": [
    "# Python: Everything\n",
    "- 29) **Generator Functions and expressions** \n",
    "    - A generator function with *yield* keyword\n",
    "    - Creating an infinite sequence\n",
    "    - Generator expressions and its comparison with list comprehension\n",
    "   \n",
    "<br>----------------------------------------------\n",
    "<br> https://www.pinterest.com/HamedShahHosseini/programming-languages/\n",
    "<br>https://github.com/ostad-ai/Python-Everything"
   ]
  },
  {
   "cell_type": "markdown",
   "id": "5aa91cce",
   "metadata": {},
   "source": [
    "**Generator function** is a function that returns a generator object when calling, which we can iterate over. Therefore, we can use the generator in a *for*-loop or with the **next()** method. For function to be a generator, we use the keyword **yield** for returning values instead of keyword **return**. <br>It is reminded that a *generator* is also an *iterator* (**lazy iterator**).\n",
    "<br> Let's create a generator function with *yield*."
   ]
  },
  {
   "cell_type": "code",
   "execution_count": 1,
   "id": "553e933d",
   "metadata": {},
   "outputs": [
    {
     "name": "stdout",
     "output_type": "stream",
     "text": [
      "Hello\n",
      "World\n",
      "Bye\n"
     ]
    }
   ],
   "source": [
    "def message():\n",
    "    yield 'Hello'\n",
    "    yield 'World'\n",
    "    yield 'Bye'\n",
    "for msg in message():\n",
    "    print(msg)"
   ]
  },
  {
   "cell_type": "markdown",
   "id": "782488e4",
   "metadata": {},
   "source": [
    "We can iterate over a generator with **next()**. But, when we reach the end of iteration, the **StopIteration** is raised."
   ]
  },
  {
   "cell_type": "code",
   "execution_count": 2,
   "id": "13a04c88",
   "metadata": {},
   "outputs": [
    {
     "name": "stdout",
     "output_type": "stream",
     "text": [
      "Hello\n",
      "World\n",
      "Bye\n"
     ]
    },
    {
     "ename": "StopIteration",
     "evalue": "",
     "output_type": "error",
     "traceback": [
      "\u001b[1;31m---------------------------------------------------------------------------\u001b[0m",
      "\u001b[1;31mStopIteration\u001b[0m                             Traceback (most recent call last)",
      "\u001b[1;32m~\\AppData\\Local\\Temp/ipykernel_1152/3173665499.py\u001b[0m in \u001b[0;36m<module>\u001b[1;34m\u001b[0m\n\u001b[0;32m      3\u001b[0m \u001b[0mm\u001b[0m\u001b[1;33m=\u001b[0m\u001b[0mmessage\u001b[0m\u001b[1;33m(\u001b[0m\u001b[1;33m)\u001b[0m\u001b[1;33m\u001b[0m\u001b[1;33m\u001b[0m\u001b[0m\n\u001b[0;32m      4\u001b[0m \u001b[1;32mwhile\u001b[0m \u001b[1;32mTrue\u001b[0m\u001b[1;33m:\u001b[0m\u001b[1;33m\u001b[0m\u001b[1;33m\u001b[0m\u001b[0m\n\u001b[1;32m----> 5\u001b[1;33m     \u001b[0mprint\u001b[0m\u001b[1;33m(\u001b[0m\u001b[0mnext\u001b[0m\u001b[1;33m(\u001b[0m\u001b[0mm\u001b[0m\u001b[1;33m)\u001b[0m\u001b[1;33m)\u001b[0m\u001b[1;33m\u001b[0m\u001b[1;33m\u001b[0m\u001b[0m\n\u001b[0m",
      "\u001b[1;31mStopIteration\u001b[0m: "
     ]
    }
   ],
   "source": [
    "# if we use next() forever and the iteration stops, we get out of the function\n",
    "# which finally we get an exception, as we see in the code below\n",
    "m=message()\n",
    "while True:\n",
    "    print(next(m))"
   ]
  },
  {
   "cell_type": "markdown",
   "id": "4fcd06b4",
   "metadata": {},
   "source": [
    "One way to handle the exception **StopIteration** while using **next()** with a generator, is to employ *try-except* clause as shown below:"
   ]
  },
  {
   "cell_type": "code",
   "execution_count": 3,
   "id": "d75192e4",
   "metadata": {},
   "outputs": [
    {
     "name": "stdout",
     "output_type": "stream",
     "text": [
      "Hello\n",
      "World\n",
      "Bye\n"
     ]
    }
   ],
   "source": [
    "m=message()\n",
    "while True:\n",
    "    try:\n",
    "        print(next(m))\n",
    "    except StopIteration:\n",
    "        break"
   ]
  },
  {
   "cell_type": "markdown",
   "id": "0ed88013",
   "metadata": {},
   "source": [
    "Let's see what calling a generator function returns: It is a **generator object**"
   ]
  },
  {
   "cell_type": "code",
   "execution_count": 10,
   "id": "162048e8",
   "metadata": {},
   "outputs": [
    {
     "name": "stdout",
     "output_type": "stream",
     "text": [
      "<class 'generator'>\n"
     ]
    }
   ],
   "source": [
    "# a call to generator function returns a generator object,\n",
    "# which we can iterate over it\n",
    "m=message()\n",
    "print(type(m))"
   ]
  },
  {
   "cell_type": "markdown",
   "id": "93a48ef2",
   "metadata": {},
   "source": [
    "Another example of using generator function in a *for-loop*:"
   ]
  },
  {
   "cell_type": "code",
   "execution_count": 5,
   "id": "568f3eb5",
   "metadata": {},
   "outputs": [
    {
     "name": "stdout",
     "output_type": "stream",
     "text": [
      "Germany\n",
      "Italy\n",
      "France\n",
      "Norway\n",
      "Iran\n",
      "Switzerland\n",
      "Canada\n"
     ]
    }
   ],
   "source": [
    "def country_names():\n",
    "    names=['Germany','Italy','France','Norway','Iran','Switzerland','Canada']\n",
    "    for name in names:\n",
    "        yield name\n",
    "for name in country_names():\n",
    "    print(name)"
   ]
  },
  {
   "cell_type": "markdown",
   "id": "71f2fb65",
   "metadata": {},
   "source": [
    "We are able to create an **inifinite sequence** with a generator function:"
   ]
  },
  {
   "cell_type": "code",
   "execution_count": 6,
   "id": "aaeab2a8",
   "metadata": {},
   "outputs": [
    {
     "name": "stdout",
     "output_type": "stream",
     "text": [
      "1, 3, 5, 7, 9, 11, 13, 15, 17, 19, 21, 23, "
     ]
    }
   ],
   "source": [
    "def infinite_odd(start=1):\n",
    "    odd=start\n",
    "    while True:\n",
    "        yield odd\n",
    "        odd+=2\n",
    "#calling the generator function returns a generator (iterator)\n",
    "odds=infinite_odd()\n",
    "for i in range(12):\n",
    "    print(next(odds),end=', ')"
   ]
  },
  {
   "cell_type": "markdown",
   "id": "07bfc59d",
   "metadata": {},
   "source": [
    "Another example of infinite sequence with a generator function, this time, **Fibonacci** numbers:\n",
    "<br> $F_0=0, F_1=1,$\n",
    "<br>and $F_n=F_{n-1}+F_{n-2}$ for $n>1$"
   ]
  },
  {
   "cell_type": "code",
   "execution_count": 7,
   "id": "4f0a27f9",
   "metadata": {},
   "outputs": [
    {
     "name": "stdout",
     "output_type": "stream",
     "text": [
      "0, 1, 1, 2, 3, 5, 8, 13, 21, 34, 55, 89, "
     ]
    }
   ],
   "source": [
    "def infinite_fibo():\n",
    "    f0,f1=0,1\n",
    "    while True:\n",
    "        yield f0\n",
    "        f0,f1=f1,f0+f1\n",
    "#calling the generator function returns a generator (iterator)        \n",
    "fibos=infinite_fibo()\n",
    "for i in range(12):\n",
    "    print(next(fibos),end=', ')"
   ]
  },
  {
   "cell_type": "markdown",
   "id": "46919829",
   "metadata": {},
   "source": [
    "Generator expressions are another way to create generators, but it needs less code to use in comparison to generator functions.\n",
    "<br> A Generator expression is like a list comprehension with this difference that we use parentheses instead of brackets. Generator expressions are slower to use than list comprehensions but are more memory efficient."
   ]
  },
  {
   "cell_type": "code",
   "execution_count": 8,
   "id": "0622be3c",
   "metadata": {},
   "outputs": [
    {
     "name": "stdout",
     "output_type": "stream",
     "text": [
      "List comprehension creates list:\n",
      " [1, 3, 5, 7, 9, 11, 13, 15, 17, 19, 21, 23, 25, 27, 29, 31, 33, 35, 37, 39]\n",
      "-----------------------\n",
      "Generator expression creates generator object:\n",
      " <generator object <genexpr> at 0x000000000534F820>\n"
     ]
    }
   ],
   "source": [
    "odds_lc=[2*i+1 for i in range(1000)] # list comprehension\n",
    "odds_ge=(2*i+1 for i in range(1000)) # generator expression\n",
    "print(f'List comprehension creates list:\\n {odds_lc[:20]}')\n",
    "print('-----------------------')\n",
    "print(f'Generator expression creates generator object:\\n {odds_ge}')"
   ]
  },
  {
   "cell_type": "markdown",
   "id": "c1648ae5",
   "metadata": {},
   "source": [
    "It is a good time to compare the memory size of both the list comprehension and the generator expression. \n",
    "<br> The size of generator expression does not increase with number of its elements, but the size of list comprehension increases with the number of its elements"
   ]
  },
  {
   "cell_type": "code",
   "execution_count": 9,
   "id": "1004dd57",
   "metadata": {},
   "outputs": [
    {
     "name": "stdout",
     "output_type": "stream",
     "text": [
      "Size of list comprehension in bytes: 9016\n",
      "Size of generator expression in bytes: 112\n"
     ]
    }
   ],
   "source": [
    "import sys\n",
    "print(f'Size of list comprehension in bytes: {sys.getsizeof(odds_lc)}')\n",
    "print(f'Size of generator expression in bytes: {sys.getsizeof(odds_ge)}')"
   ]
  },
  {
   "cell_type": "code",
   "execution_count": null,
   "id": "1d4822cd",
   "metadata": {},
   "outputs": [],
   "source": []
  }
 ],
 "metadata": {
  "kernelspec": {
   "display_name": "Python 3 (ipykernel)",
   "language": "python",
   "name": "python3"
  },
  "language_info": {
   "codemirror_mode": {
    "name": "ipython",
    "version": 3
   },
   "file_extension": ".py",
   "mimetype": "text/x-python",
   "name": "python",
   "nbconvert_exporter": "python",
   "pygments_lexer": "ipython3",
   "version": "3.11.1"
  }
 },
 "nbformat": 4,
 "nbformat_minor": 5
}
