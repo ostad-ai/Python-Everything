{
 "cells": [
  {
   "cell_type": "markdown",
   "id": "e25be1e8",
   "metadata": {},
   "source": [
    "# Python: Everything\n",
    "- 14) **Pickle module introducton:** Saving Python object into a file as byte stream and restoring it back into object<br>\n",
    "آشنایی با سنجانه ترشی: انبار کردن پرموته پایتون در یک پرونده به گونه جویبار هشتدویی و بازیابی آن به گونه پرموته\n",
    "<br>----------------------------------------------\n",
    "<br> Instagram: @words.persian\n",
    "<br>https://github.com/ostad-ai/Python-Everything"
   ]
  },
  {
   "cell_type": "code",
   "execution_count": 1,
   "id": "61114657",
   "metadata": {},
   "outputs": [],
   "source": [
    "import pickle"
   ]
  },
  {
   "cell_type": "code",
   "execution_count": 3,
   "id": "8cd654d8",
   "metadata": {},
   "outputs": [
    {
     "name": "stdout",
     "output_type": "stream",
     "text": [
      "{'hello': 'dorood', 'world': 'jahaan', 'bye': 'bedrood'}\n"
     ]
    }
   ],
   "source": [
    "original={'hello':'dorood','world':'jahaan', 'bye':'bedrood'}\n",
    "print(original)"
   ]
  },
  {
   "cell_type": "code",
   "execution_count": 9,
   "id": "fed51de4",
   "metadata": {},
   "outputs": [],
   "source": [
    "# save your data into a pickle file as a byte stream\n",
    "# انبار کردن داده در یک پرونده ترشی، به گونه جویبار هشتدویی\n",
    "file_path='./mydata.pkl'\n",
    "with open(file_path,'wb') as file:\n",
    "    pickle.dump(original,file)"
   ]
  },
  {
   "cell_type": "code",
   "execution_count": 10,
   "id": "18184d82",
   "metadata": {},
   "outputs": [
    {
     "name": "stdout",
     "output_type": "stream",
     "text": [
      "{'hello': 'dorood', 'world': 'jahaan', 'bye': 'bedrood'}\n"
     ]
    }
   ],
   "source": [
    "# loading saved data from a pickle file\n",
    "# بار کردن داده انبار شده، از یک پرونده ترشی\n",
    "with open(file_path,'rb') as file:\n",
    "    data=pickle.load(file)\n",
    "print(data)"
   ]
  },
  {
   "cell_type": "code",
   "execution_count": null,
   "id": "efe0363c",
   "metadata": {},
   "outputs": [],
   "source": []
  }
 ],
 "metadata": {
  "kernelspec": {
   "display_name": "Python 3",
   "language": "python",
   "name": "python3"
  },
  "language_info": {
   "codemirror_mode": {
    "name": "ipython",
    "version": 3
   },
   "file_extension": ".py",
   "mimetype": "text/x-python",
   "name": "python",
   "nbconvert_exporter": "python",
   "pygments_lexer": "ipython3",
   "version": "3.8.3"
  }
 },
 "nbformat": 4,
 "nbformat_minor": 5
}
