{
 "cells": [
  {
   "cell_type": "markdown",
   "id": "f189c3fd",
   "metadata": {},
   "source": [
    "# Python: Everything\n",
    "- 2) Lists: Copying\n",
    "<br>----------------------------------------------\n",
    "<br> By Hamed Shah-Hosseini\n",
    "<br> https://github.com/ostad-ai/Python-Everything\n",
    "<br> https://www.pinterest.com/HamedShahHosseini/programming-languages/python\n",
    "<br> Explanation in **Persian** language at Instagram: @words.persian"
   ]
  },
  {
   "cell_type": "markdown",
   "id": "78beeaf8",
   "metadata": {},
   "source": [
    "To copy a list with keyword $list$ or : , as shown below:"
   ]
  },
  {
   "cell_type": "code",
   "execution_count": 17,
   "id": "e2fa4e97",
   "metadata": {},
   "outputs": [
    {
     "name": "stdout",
     "output_type": "stream",
     "text": [
      "86545920 for [1, 2, 3, 'hello', 'world']\n",
      "82048192 for [1, 2, 3, 'hello', 'world']\n",
      "86545152 for [1, 2, 3, 'hello', 'world']\n"
     ]
    }
   ],
   "source": [
    "mylist=[1,2,3,'hello','world']\n",
    "mylist2=list(mylist)\n",
    "mylist3=mylist[:]\n",
    "print(f'{id(mylist)} for {mylist}')\n",
    "print(f'{id(mylist2)} for {mylist2}')\n",
    "print(f'{id(mylist3)} for {mylist3}')"
   ]
  },
  {
   "cell_type": "markdown",
   "id": "71985d4c",
   "metadata": {},
   "source": [
    "To copy a list with $copy$:"
   ]
  },
  {
   "cell_type": "code",
   "execution_count": 18,
   "id": "0ddc46e1",
   "metadata": {},
   "outputs": [
    {
     "name": "stdout",
     "output_type": "stream",
     "text": [
      "86541312 for [1, 2, 3, 'hello', 'world']\n",
      "82025600 for [1, 2, 3, 'hello', 'world']\n"
     ]
    }
   ],
   "source": [
    "mylist=[1,2,3,'hello','world']\n",
    "mylist2=mylist.copy()\n",
    "print(f'{id(mylist)} for {mylist}')\n",
    "print(f'{id(mylist2)} for {mylist2}')"
   ]
  },
  {
   "cell_type": "markdown",
   "id": "574d3a0b",
   "metadata": {},
   "source": [
    "To copy a nested list, we should use $deepcopy$:"
   ]
  },
  {
   "cell_type": "code",
   "execution_count": 19,
   "id": "b02995f7",
   "metadata": {},
   "outputs": [
    {
     "name": "stdout",
     "output_type": "stream",
     "text": [
      "82028352 for [[1, 2, 3], ['hello', 'world']]\n",
      "86534144 for [[1, 2, 3], ['hello', 'world']]\n"
     ]
    }
   ],
   "source": [
    "from copy import deepcopy\n",
    "mylist=[[1,2,3],['hello','world']]\n",
    "mylist2=deepcopy(mylist)\n",
    "print(f'{id(mylist)} for {mylist}')\n",
    "print(f'{id(mylist2)} for {mylist2}')"
   ]
  },
  {
   "cell_type": "code",
   "execution_count": null,
   "id": "9dd1d861",
   "metadata": {},
   "outputs": [],
   "source": []
  }
 ],
 "metadata": {
  "kernelspec": {
   "display_name": "Python 3 (ipykernel)",
   "language": "python",
   "name": "python3"
  },
  "language_info": {
   "codemirror_mode": {
    "name": "ipython",
    "version": 3
   },
   "file_extension": ".py",
   "mimetype": "text/x-python",
   "name": "python",
   "nbconvert_exporter": "python",
   "pygments_lexer": "ipython3",
   "version": "3.8.10"
  }
 },
 "nbformat": 4,
 "nbformat_minor": 5
}
