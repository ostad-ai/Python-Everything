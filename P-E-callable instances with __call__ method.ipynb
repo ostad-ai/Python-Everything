{
 "cells": [
  {
   "cell_type": "markdown",
   "id": "b3c0145c",
   "metadata": {},
   "source": [
    "# Python: Everything\n",
    "- 26) **Create callable instances with magic method $\\_ call \\_$:** \n",
    "<br>----------------------------------------------\n",
    "<br> https://www.pinterest.com/HamedShahHosseini/programming-languages/\n",
    "<br>https://github.com/ostad-ai/Python-Everything"
   ]
  },
  {
   "cell_type": "markdown",
   "id": "35474859",
   "metadata": {},
   "source": [
    "**Callable:** is an object that can be called like a function in Python. To create a callable object, we define a custom class in which we implement the $\\_ call \\_$ magic method.\n",
    "<Br>Hint: To check if an object is callable or not, we employ the built-in function **callable()**.\n",
    "<br> With callable classes, we can keep the **state** between calls, hold in memory the values obtained so far by calling the object, or writing user-friendly APIs."
   ]
  },
  {
   "cell_type": "markdown",
   "id": "b1ade53a",
   "metadata": {},
   "source": [
    "A simple callable object is created below. We define a callable class to compute a base raised to the given power (exponent):"
   ]
  },
  {
   "cell_type": "code",
   "execution_count": 40,
   "id": "0ca133a8",
   "metadata": {},
   "outputs": [
    {
     "name": "stdout",
     "output_type": "stream",
     "text": [
      "5 to the power 2 is: 25\n",
      "5 to the power 3 is: 125\n"
     ]
    }
   ],
   "source": [
    "# a base to the power given at the instantiation \n",
    "class Power:\n",
    "    def __init__(self,pow=2):\n",
    "        self.pow=pow\n",
    "    def __call__(self,base):\n",
    "        return base**self.pow\n",
    "power_2=Power()\n",
    "power_3=Power(3)\n",
    "x=5\n",
    "# calling class instance like a function\n",
    "print(f'{x} to the power 2 is: {power_2(x)}')\n",
    "print(f'{x} to the power 3 is: {power_3(x)}')"
   ]
  },
  {
   "cell_type": "markdown",
   "id": "f040af3e",
   "metadata": {},
   "source": [
    "Let's define a callable class for polynomials"
   ]
  },
  {
   "cell_type": "code",
   "execution_count": 38,
   "id": "b25be9e7",
   "metadata": {},
   "outputs": [
    {
     "name": "stdout",
     "output_type": "stream",
     "text": [
      "The value of polynomial at x=2.2 is: 19.92\n",
      "The value of polynomial at x=0 is: 1\n"
     ]
    }
   ],
   "source": [
    "# polynomial is a0+a1*x+a2*x^2+a3*x^3+...\n",
    "# coefficients=[a0,a1,a2,a3,...]\n",
    "class Poly:\n",
    "    def __init__(self,*coefficients):\n",
    "        self.coeffs=coefficients\n",
    "    def __call__(self,x):\n",
    "        result=0\n",
    "        for power,coeff in enumerate(self.coeffs):\n",
    "            result+=coeff*x**power\n",
    "        return result\n",
    "p1=Poly(1,2,3) # 1+2x+3x^2\n",
    "x=2.2\n",
    "print(f'The value of polynomial at x={x} is: {p1(x)}')\n",
    "x=0\n",
    "print(f'The value of polynomial at x={x} is: {p1(x)}')"
   ]
  },
  {
   "cell_type": "markdown",
   "id": "5412d346",
   "metadata": {},
   "source": [
    "Having a callable class to define a **line** by ite slope and intercept:"
   ]
  },
  {
   "cell_type": "code",
   "execution_count": 22,
   "id": "374e3084",
   "metadata": {},
   "outputs": [
    {
     "data": {
      "image/png": "[encoded data removed]",
      "text/plain": [
       "<Figure size 432x288 with 1 Axes>"
      ]
     },
     "metadata": {
      "needs_background": "light"
     },
     "output_type": "display_data"
    }
   ],
   "source": [
    "import numpy as np\n",
    "from matplotlib import pyplot as plt\n",
    "# define line as: y=mx+b\n",
    "class Line:\n",
    "    def __init__(self,slope,intercept):\n",
    "        self.m=slope\n",
    "        self.b=intercept\n",
    "    def __call__(self,x):\n",
    "        return self.m*x+self.b\n",
    "line1=Line(5,3); line2=Line(-3,5)\n",
    "xs=np.linspace(-5,5,100)\n",
    "line1_np,line2_np=np.vectorize(line1),np.vectorize(line2)\n",
    "plt.plot(xs,line1_np(xs))\n",
    "plt.plot(xs,line2_np(xs))\n",
    "plt.show()"
   ]
  },
  {
   "cell_type": "markdown",
   "id": "8d2a1b9c",
   "metadata": {},
   "source": [
    "In the following, we define a callable class which computs the average of a stream of numeric values.\n",
    "<br>One way is to divide the summation of the all values by the number of values. But, there is a better way to compute a running average by:\n",
    "<br>$average_{new}=\\frac{1}{n+1}(average_{old}\\cdot n+value_{new})$, where $n$ is the number of values before the new value comes."
   ]
  },
  {
   "cell_type": "code",
   "execution_count": 14,
   "id": "95a219d4",
   "metadata": {},
   "outputs": [
    {
     "name": "stdout",
     "output_type": "stream",
     "text": [
      "5 is average of [5]\n",
      "4.0 is average of [5, 3]\n",
      "6.0 is average of [5, 3, 10]\n"
     ]
    }
   ],
   "source": [
    "class Average:\n",
    "    def __init__(self):\n",
    "        self.n=0\n",
    "        self.average=None\n",
    "    def __call__(self,value):        \n",
    "        if self.n==0:\n",
    "            self.average=value\n",
    "        else:\n",
    "            self.average=(self.average*self.n+value)/(self.n+1)\n",
    "        self.n+=1\n",
    "        return self.average\n",
    "    \n",
    "# creating an instance of a class\n",
    "ave_stream=Average()\n",
    "# calling the class instance, like a function\n",
    "numbers=[5,3,10]\n",
    "for i in range(len(numbers)):\n",
    "    print(f'{ave_stream(numbers[i])} is average of {numbers[:i+1]}')"
   ]
  },
  {
   "cell_type": "code",
   "execution_count": null,
   "id": "22275727",
   "metadata": {},
   "outputs": [],
   "source": []
  }
 ],
 "metadata": {
  "kernelspec": {
   "display_name": "Python 3 (ipykernel)",
   "language": "python",
   "name": "python3"
  },
  "language_info": {
   "codemirror_mode": {
    "name": "ipython",
    "version": 3
   },
   "file_extension": ".py",
   "mimetype": "text/x-python",
   "name": "python",
   "nbconvert_exporter": "python",
   "pygments_lexer": "ipython3",
   "version": "3.8.10"
  }
 },
 "nbformat": 4,
 "nbformat_minor": 5
}
