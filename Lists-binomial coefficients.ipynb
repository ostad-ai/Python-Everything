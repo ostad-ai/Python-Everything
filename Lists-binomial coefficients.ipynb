{
 "cells": [
  {
   "cell_type": "markdown",
   "id": "c74ffdc5",
   "metadata": {},
   "source": [
    "# Python: Everything\n",
    "- Lists\n",
    "    - Example: Khayyam-Pascal's triangle\n",
    "<br>\n",
    "<br>$\\binom{n}{k}=\\binom{n-1}{k}+\\binom{n-1}{k-1}$\n",
    "<br>\n",
    "- <br> https://github.com/ostad-ai/Python-Everything"
   ]
  },
  {
   "cell_type": "markdown",
   "id": "35a33f56",
   "metadata": {},
   "source": [
    "First, we define a two-dimensional list with all ones.\n",
    "<br>Then, we use the above rule:"
   ]
  },
  {
   "cell_type": "code",
   "execution_count": 4,
   "id": "4ea9ccc0",
   "metadata": {},
   "outputs": [
    {
     "name": "stdout",
     "output_type": "stream",
     "text": [
      "1\n",
      "1 1\n",
      "1 2 1\n",
      "1 3 3 1\n",
      "1 4 6 4 1\n",
      "1 5 10 10 5 1\n",
      "1 6 15 20 15 6 1\n",
      "1 7 21 35 35 21 7 1\n",
      "1 8 28 56 70 56 28 8 1\n",
      "1 9 36 84 126 126 84 36 9 1\n"
     ]
    }
   ],
   "source": [
    "N=10  #no. of rows of the triangle\n",
    "binomials=[[1 for k in range(n+1)] for n in range(N)]\n",
    "for n in range(2,N):\n",
    "    for k in range(1,n):\n",
    "        binomials[n][k]=binomials[n-1][k]+binomials[n-1][k-1]\n",
    "for n in range(N):\n",
    "    print(*binomials[n])"
   ]
  },
  {
   "cell_type": "code",
   "execution_count": null,
   "id": "9c7ef14f",
   "metadata": {},
   "outputs": [],
   "source": []
  }
 ],
 "metadata": {
  "kernelspec": {
   "display_name": "Python 3 (ipykernel)",
   "language": "python",
   "name": "python3"
  },
  "language_info": {
   "codemirror_mode": {
    "name": "ipython",
    "version": 3
   },
   "file_extension": ".py",
   "mimetype": "text/x-python",
   "name": "python",
   "nbconvert_exporter": "python",
   "pygments_lexer": "ipython3",
   "version": "3.8.10"
  }
 },
 "nbformat": 4,
 "nbformat_minor": 5
}
