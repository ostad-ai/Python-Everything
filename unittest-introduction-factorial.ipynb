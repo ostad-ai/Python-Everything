{
 "cells": [
  {
   "cell_type": "markdown",
   "id": "2439b6b7",
   "metadata": {},
   "source": [
    "# Python: Everything\n",
    "- 19) **unittest module, introduction:** Using unittest module to write unit tests<br>\n",
    "بهره‌گیری از سنجانه یگان‌آزمون برای نوشتن آزمونهای یگان\n",
    "<br>Instagram: @words.persian\n",
    "<br>https://github.com/ostad-ai/Python-Everything\n",
    "<br> Slides in English:\n",
    "https://www.pinterest.com/HamedShahHosseini/programming-languages/"
   ]
  },
  {
   "cell_type": "markdown",
   "id": "d5223140",
   "metadata": {},
   "source": [
    "Unittest module can be used for test automation. We can write **unit tests** for testing individual components, or **integration tests** for testing the whole application. <br>\n",
    "سنجانه یگان‌آزمون برای خودکارسازی آزمون، میتواند به کار رود. ما میتوانیم **آزمونهای یگان**، برای آزمودن هَمنه‌های تکال بنویسیم؛ یا میتوانیم **آزمونهای یکپارچگی**، برای آزمودن همه کاربرد بنویسیم"
   ]
  },
  {
   "cell_type": "code",
   "execution_count": 3,
   "id": "17ad46b9",
   "metadata": {},
   "outputs": [],
   "source": [
    "# importing the module\n",
    "# درونبَری سنجانه\n",
    "import unittest"
   ]
  },
  {
   "cell_type": "markdown",
   "id": "8b53ae23",
   "metadata": {},
   "source": [
    "Definition of the factorial of a positive integer:<br>\n",
    "$n!=1\\cdot2\\cdots(n-1)\\cdot n$"
   ]
  },
  {
   "cell_type": "code",
   "execution_count": 17,
   "id": "ef99135f",
   "metadata": {},
   "outputs": [],
   "source": [
    "#defining factorial for a non-negative number (integer)\n",
    "# شناساندن ساختگرین برای یک شماره نا-ناینده (دُریَست)\n",
    "def factorial(n):\n",
    "    if n==0 or n==1:\n",
    "        return 1\n",
    "    else:\n",
    "        fact=1\n",
    "        for i in range(2,n+1):\n",
    "            fact*=i\n",
    "        return fact"
   ]
  },
  {
   "cell_type": "code",
   "execution_count": 18,
   "id": "6bdfc3ea",
   "metadata": {},
   "outputs": [
    {
     "name": "stdout",
     "output_type": "stream",
     "text": [
      "factorial(5)=120\n"
     ]
    }
   ],
   "source": [
    "#testing manually\n",
    "# آزمودن دستی\n",
    "n=5\n",
    "print(f'factorial({n})={factorial(n)}')"
   ]
  },
  {
   "cell_type": "markdown",
   "id": "b4a8d0fb",
   "metadata": {},
   "source": [
    "Test automation with unittest by defining a class having test methods<br>\n",
    "خودکارسازی آزمون به یاری یگان‌آزمون، با شناساندن یک رده که دارای روشهای آزمون است"
   ]
  },
  {
   "cell_type": "code",
   "execution_count": 20,
   "id": "70de15e7",
   "metadata": {},
   "outputs": [
    {
     "name": "stderr",
     "output_type": "stream",
     "text": [
      "test_float (__main__.TestFactorial) ... ok\n",
      "test_int_negative (__main__.TestFactorial) ... FAIL\n",
      "test_int_positive_zero (__main__.TestFactorial) ... ok\n",
      "test_string (__main__.TestFactorial) ... ok\n",
      "\n",
      "======================================================================\n",
      "FAIL: test_int_negative (__main__.TestFactorial)\n",
      "----------------------------------------------------------------------\n",
      "Traceback (most recent call last):\n",
      "  File \"C:\\Users\\alborz5\\AppData\\Local\\Temp/ipykernel_8764/2690000969.py\", line 16, in test_int_negative\n",
      "    factorial(-5)\n",
      "AssertionError: ValueError not raised\n",
      "\n",
      "----------------------------------------------------------------------\n",
      "Ran 4 tests in 0.004s\n",
      "\n",
      "FAILED (failures=1)\n"
     ]
    }
   ],
   "source": [
    "# we define a class, which inherits from TestCase.\n",
    "# then, each test function is defined in this class\n",
    "# with its named started with test, and self as its parameter.\n",
    "# we assume for an invalid input, factorial raises a relevant error\n",
    "# یک رده میشناسانیم، که از تستکیس، مُردری میبرد\n",
    "# سپس، کارکنشهای آزمون را، در این رده، میشناسانیم، که نامشان باید با تست، آغاز شود، و پَراسنجه سلف را بگیرد\n",
    "# میانگاریم که برای یک درنهاد(اینپوت) بی‌پشتوانه، ساختگرین، ایرنگ وابسته را برخیزاند\n",
    "class TestFactorial(unittest.TestCase):\n",
    "    def test_int_positive_zero(self):\n",
    "        self.assertEqual(factorial(5),120)\n",
    "        self.assertEqual(factorial(3),6)\n",
    "        self.assertEqual(factorial(0),1)\n",
    "        self.assertEqual(factorial(1),1)\n",
    "    def test_int_negative(self):\n",
    "        with self.assertRaises(ValueError):\n",
    "            factorial(-5)\n",
    "    def test_float(self):\n",
    "        with self.assertRaises(TypeError):\n",
    "            factorial(3.7)        \n",
    "    def test_string(self):\n",
    "        with self.assertRaises(TypeError):\n",
    "            factorial('hello')\n",
    "            \n",
    "# running the test in Notebook\n",
    "# دواندن آزمون\n",
    "test_suite = unittest.TestSuite()\n",
    "test_suite.addTest(unittest.makeSuite(TestFactorial))\n",
    "_=unittest.TextTestRunner(verbosity=2).run(test_suite)"
   ]
  },
  {
   "cell_type": "markdown",
   "id": "dd084289",
   "metadata": {},
   "source": [
    "We see the test with negative integer has failed, so we need to modify our factorial to deal with it<br>\n",
    "میبینیم که آزمون برای دُریست ناینده، شکست میخورد، پس ما نیاز به سنجیده‌سازی ساختگرین خود داریم"
   ]
  },
  {
   "cell_type": "code",
   "execution_count": 9,
   "id": "4d1841fe",
   "metadata": {},
   "outputs": [],
   "source": [
    "#second version of our factorial to deal with negative numbers\n",
    "# پَچین دوم ساختگرین ما، برای سروکار داشتن با شماره‌های ناینده\n",
    "def factorial_v2(n):\n",
    "    if n<0:\n",
    "        raise ValueError('Negative number is not allowed!!!')\n",
    "    elif n==0 or n==1:\n",
    "        return 1\n",
    "    else:\n",
    "        fact=1\n",
    "        for i in range(2,n+1):\n",
    "            fact*=i\n",
    "        return fact"
   ]
  },
  {
   "cell_type": "code",
   "execution_count": 21,
   "id": "663e80cf",
   "metadata": {},
   "outputs": [
    {
     "name": "stderr",
     "output_type": "stream",
     "text": [
      "test_float (__main__.TestFactorial_v2) ... ok\n",
      "test_int_negative (__main__.TestFactorial_v2) ... ok\n",
      "test_int_positive_zero (__main__.TestFactorial_v2) ... ok\n",
      "test_string (__main__.TestFactorial_v2) ... ok\n",
      "\n",
      "----------------------------------------------------------------------\n",
      "Ran 4 tests in 0.011s\n",
      "\n",
      "OK\n"
     ]
    }
   ],
   "source": [
    "# test cases for second version of our factorial\n",
    "# رخآمدهای آزمون برای پچین دوم ساختگرین ما\n",
    "class TestFactorial_v2(unittest.TestCase):\n",
    "    def test_int_positive_zero(self):\n",
    "        self.assertEqual(factorial_v2(5),120)\n",
    "        self.assertEqual(factorial_v2(3),6)\n",
    "        self.assertEqual(factorial_v2(0),1)\n",
    "        self.assertEqual(factorial_v2(1),1)\n",
    "    def test_int_negative(self):\n",
    "        with self.assertRaises(ValueError):\n",
    "            factorial_v2(-5)\n",
    "    def test_float(self):\n",
    "        with self.assertRaises(TypeError):\n",
    "            factorial_v2(3.7)        \n",
    "    def test_string(self):\n",
    "        with self.assertRaises(TypeError):\n",
    "            factorial_v2('hello')\n",
    "            \n",
    "test_suite = unittest.TestSuite()\n",
    "test_suite.addTest(unittest.makeSuite(TestFactorial_v2))\n",
    "_=unittest.TextTestRunner(verbosity=2).run(test_suite)"
   ]
  },
  {
   "cell_type": "markdown",
   "id": "53532cdf",
   "metadata": {},
   "source": [
    "Now, we see that our factorial passes all the tests.<br>\n",
    "اینک، میبینیم که ساختگرین ما، همه آزمونها را از سر میگذراند"
   ]
  },
  {
   "cell_type": "code",
   "execution_count": 27,
   "id": "66ca7eeb",
   "metadata": {},
   "outputs": [],
   "source": [
    "# exercise: uncomment a line below to manually check \n",
    "# our factorial: version 1 and version 2, with a negative number\n",
    "# ورزه: یکی از دستورهای زیر را بی-منشداشت کنید، تا ببینید\n",
    "# کارکنشهای ساختگرین: پچین یک و پچین دو، در برابر شماره ناینده، چه میکنند \n",
    "#factorial(-5)\n",
    "#factorial_v2(-5)"
   ]
  },
  {
   "cell_type": "code",
   "execution_count": null,
   "id": "3ef5ed5f",
   "metadata": {},
   "outputs": [],
   "source": []
  }
 ],
 "metadata": {
  "kernelspec": {
   "display_name": "Python 3 (ipykernel)",
   "language": "python",
   "name": "python3"
  },
  "language_info": {
   "codemirror_mode": {
    "name": "ipython",
    "version": 3
   },
   "file_extension": ".py",
   "mimetype": "text/x-python",
   "name": "python",
   "nbconvert_exporter": "python",
   "pygments_lexer": "ipython3",
   "version": "3.8.10"
  }
 },
 "nbformat": 4,
 "nbformat_minor": 5
}
