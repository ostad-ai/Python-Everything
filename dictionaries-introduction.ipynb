{
 "cells": [
  {
   "cell_type": "markdown",
   "id": "f189c3fd",
   "metadata": {},
   "source": [
    "# Python: Everything\n",
    "- 10) Dictionaries in Python: Introduction\n",
    "<br>----------------------------------------------\n",
    "## واژه‌نامه‌ها در پایتون: آشنایی\n",
    "---\n",
    "By Hamed Shah-Hosseini\n",
    "<br>The whole code:\n",
    "    - https://github.com/ostad-ai/Python-Everything\n",
    "\n",
    " Explanation in **English**:\n",
    "    -    https://www.pinterest.com/HamedShahHosseini/programming-languages/python\n",
    "\n",
    " Explanation in **Persian**:\n",
    "     - https://www.instagram.com/words.persian"
   ]
  },
  {
   "cell_type": "markdown",
   "id": "a92677dd",
   "metadata": {},
   "source": [
    "To create an empty dictionary: There are two ways\n",
    "<br> دو راه برای آفریدن یک واژه‌نامه تهی"
   ]
  },
  {
   "cell_type": "code",
   "execution_count": 4,
   "id": "d6d42a98",
   "metadata": {},
   "outputs": [
    {
     "name": "stdout",
     "output_type": "stream",
     "text": [
      "First dicttionary: {}\n",
      "Second dicttionary: {}\n",
      "Length of an empty dictionary is: 0\n"
     ]
    }
   ],
   "source": [
    "mydict=dict()\n",
    "mydict2={}\n",
    "print(f'First dicttionary: {mydict}')\n",
    "print(f'Second dicttionary: {mydict2}')\n",
    "print(f'Length of an empty dictionary is: {len(mydict)}')"
   ]
  },
  {
   "cell_type": "markdown",
   "id": "78beeaf8",
   "metadata": {},
   "source": [
    "To create and initialize a dictionary:\n",
    "<br> برای آفریدن و آغازدهی یک واژه‌نامه"
   ]
  },
  {
   "cell_type": "code",
   "execution_count": 8,
   "id": "e2fa4e97",
   "metadata": {},
   "outputs": [
    {
     "name": "stdout",
     "output_type": "stream",
     "text": [
      "{'Germany': 'Berlin', 'France': 'Paris', 'Iran': 'Tehran', 'Norway': 'Oslo'}\n"
     ]
    }
   ],
   "source": [
    "mydict={'Germany':'Berlin','France':'Paris',\n",
    "        'Iran': 'Tehran','Norway':'Oslo'}\n",
    "print(mydict)"
   ]
  },
  {
   "cell_type": "markdown",
   "id": "71985d4c",
   "metadata": {},
   "source": [
    "To access items: <key,value> in a dictionary:<br>\n",
    "دسترسی همانک‌ها در یک واژه‌نامه"
   ]
  },
  {
   "cell_type": "code",
   "execution_count": 27,
   "id": "0ddc46e1",
   "metadata": {},
   "outputs": [
    {
     "name": "stdout",
     "output_type": "stream",
     "text": [
      "------------first way\n",
      "The capital of Germany is Berlin\n",
      "The capital of Iran is Tehran\n",
      "The capital of Norway is Oslo\n",
      "The capital of Japan is Tokyo\n",
      "------------second way\n",
      "The capital of Germany is Berlin\n",
      "The capital of Iran is Tehran\n",
      "The capital of Norway is Oslo\n",
      "The capital of Japan is Tokyo\n"
     ]
    }
   ],
   "source": [
    "# using items\n",
    "print('------------first way')\n",
    "for k,v in mydict.items():\n",
    "    print(f'The capital of {k} is {v}')\n",
    "# using keys\n",
    "print('------------second way')\n",
    "for k in mydict.keys():\n",
    "#for k in mydict: # could use this instead of above\n",
    "    print(f'The capital of {k} is {mydict[k]}')"
   ]
  },
  {
   "cell_type": "markdown",
   "id": "574d3a0b",
   "metadata": {},
   "source": [
    "To add items to a dictionary: <br>\n",
    "افزودن همانک‌ها به یک واژه‌نامه"
   ]
  },
  {
   "cell_type": "code",
   "execution_count": 38,
   "id": "f82c994a",
   "metadata": {},
   "outputs": [
    {
     "name": "stdout",
     "output_type": "stream",
     "text": [
      "{'one': 'یک', 'two': 'دو', 'three': 'سه', 'Japan': 'Tokyo'}\n"
     ]
    }
   ],
   "source": [
    "mydict['Japan']='Tokyo'\n",
    "# if the key exists, its value is updated (overwritten)\n",
    "print(mydict)"
   ]
  },
  {
   "cell_type": "markdown",
   "id": "e7fc17b5",
   "metadata": {},
   "source": [
    "To remove items from a dictionary using $pop(key)$ or $popitem()$: <br>\n",
    "برای ورداشتن همانک‌ها از یک واژه‌نامه"
   ]
  },
  {
   "cell_type": "code",
   "execution_count": 29,
   "id": "b5b46206",
   "metadata": {},
   "outputs": [
    {
     "name": "stdout",
     "output_type": "stream",
     "text": [
      "Before removal: {'hello': 'dorood', 'world': 'jahaan', 'goodbye': 'bedrood'}\n",
      "After removal: {'world': 'jahaan', 'goodbye': 'bedrood'}\n"
     ]
    }
   ],
   "source": [
    "mydict2={'hello':'dorood', 'world': 'jahaan','goodbye':'bedrood'}\n",
    "print('Before removal:',mydict2)\n",
    "# by using they key, if the key not exists, it gives KeyError\n",
    "mydict2.pop('hello')\n",
    "#mydict2.popitem()  # it removes the last item inserted\n",
    "print('After removal:', mydict2)"
   ]
  },
  {
   "cell_type": "markdown",
   "id": "136b1de1",
   "metadata": {},
   "source": [
    "To copy a shallow dictionary:<br>\n",
    "    برای رونوشت از یک واژه‌نامه پایاب"
   ]
  },
  {
   "cell_type": "code",
   "execution_count": 25,
   "id": "b02995f7",
   "metadata": {},
   "outputs": [
    {
     "name": "stdout",
     "output_type": "stream",
     "text": [
      "ID=82359744 for {'orange': 10, 'apple': 12, 'melon': 21}\n",
      "ID=82355712 for {'orange': 10, 'apple': 12, 'melon': 21}\n"
     ]
    }
   ],
   "source": [
    "#using builtin function copy()\n",
    "mydict2={'orange':10,'apple':12,'melon':21}\n",
    "mydict3=mydict2.copy()\n",
    "print(f'ID={id(mydict2)} for {mydict2}')\n",
    "print(f'ID={id(mydict3)} for {mydict3}')"
   ]
  },
  {
   "cell_type": "code",
   "execution_count": 30,
   "id": "9dd1d861",
   "metadata": {},
   "outputs": [
    {
     "name": "stdout",
     "output_type": "stream",
     "text": [
      "ID=81500608 for {'orange': 10, 'apple': 12, 'melon': 21}\n",
      "ID=81375808 for {'orange': 10, 'apple': 12, 'melon': 21}\n"
     ]
    }
   ],
   "source": [
    "#using function dict()\n",
    "mydict2={'orange':10,'apple':12,'melon':21}\n",
    "mydict3=dict(mydict2)\n",
    "print(f'ID={id(mydict2)} for {mydict2}')\n",
    "print(f'ID={id(mydict3)} for {mydict3}')"
   ]
  },
  {
   "cell_type": "code",
   "execution_count": null,
   "id": "b8f6fe17",
   "metadata": {},
   "outputs": [],
   "source": []
  }
 ],
 "metadata": {
  "kernelspec": {
   "display_name": "Python 3 (ipykernel)",
   "language": "python",
   "name": "python3"
  },
  "language_info": {
   "codemirror_mode": {
    "name": "ipython",
    "version": 3
   },
   "file_extension": ".py",
   "mimetype": "text/x-python",
   "name": "python",
   "nbconvert_exporter": "python",
   "pygments_lexer": "ipython3",
   "version": "3.8.10"
  }
 },
 "nbformat": 4,
 "nbformat_minor": 5
}
