{
 "cells": [
  {
   "cell_type": "markdown",
   "id": "184b5bb3",
   "metadata": {},
   "source": [
    "# Python everything, exercise:\n",
    "## Heron's method for computing $\\sqrt x$\n",
    "**Heron's method** computes the *square root* of a given positive number $x$ by\n",
    " 1) $x_0 \\leftarrow$ some initial guess <br>\n",
    " 2) for $n=0,1,2...$ do: <br>\n",
    "$\\;\\;\\;\\; x_{n+1}=x_n+\\frac{1}{2}(x_n+\\frac{x}{x_n})$\n",
    "\n",
    "YouTube Channel: **@ostad-ai**\n",
    "<br>The Python code is at: https://github.com/ostad-ai/Python-Everything"
   ]
  },
  {
   "cell_type": "code",
   "execution_count": 1,
   "id": "fd90eea8",
   "metadata": {},
   "outputs": [],
   "source": [
    "def heron(x,x0=1,iter=20):\n",
    "    xn=x0\n",
    "    for n in range(iter):\n",
    "        xn=(xn+x/xn)/2\n",
    "    return xn"
   ]
  },
  {
   "cell_type": "code",
   "execution_count": 2,
   "id": "9addfedc",
   "metadata": {},
   "outputs": [
    {
     "name": "stdout",
     "output_type": "stream",
     "text": [
      "Square root of 2 = 1.414213562373095\n"
     ]
    }
   ],
   "source": [
    "x=2\n",
    "print(f'Square root of {x} = {heron(x)}')"
   ]
  },
  {
   "cell_type": "code",
   "execution_count": null,
   "id": "bca39723",
   "metadata": {},
   "outputs": [],
   "source": []
  }
 ],
 "metadata": {
  "kernelspec": {
   "display_name": "Python 3 (ipykernel)",
   "language": "python",
   "name": "python3"
  },
  "language_info": {
   "codemirror_mode": {
    "name": "ipython",
    "version": 3
   },
   "file_extension": ".py",
   "mimetype": "text/x-python",
   "name": "python",
   "nbconvert_exporter": "python",
   "pygments_lexer": "ipython3",
   "version": "3.11.1"
  }
 },
 "nbformat": 4,
 "nbformat_minor": 5
}
