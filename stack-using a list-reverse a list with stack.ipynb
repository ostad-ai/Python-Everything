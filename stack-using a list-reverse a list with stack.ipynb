{
 "cells": [
  {
   "cell_type": "markdown",
   "metadata": {},
   "source": [
    "# Python: Everything\n",
    "- 5) Stack: Using lists in python as stacks, with an example to reverse a list\n",
    "<br>----------------------------------------------\n",
    "<br> By Hamed Shah-Hosseini\n",
    "<br> https://github.com/ostad-ai/Python-Everything"
   ]
  },
  {
   "cell_type": "markdown",
   "metadata": {},
   "source": [
    "**Stack:** A linear data structure which uses two functions *push* and *pop*. \n",
    "- The *push* adds the item at the top of stack\n",
    "- The *pop*, returns the item at the top of stack and removes it from stack."
   ]
  },
  {
   "cell_type": "code",
   "execution_count": 21,
   "metadata": {},
   "outputs": [
    {
     "name": "stdout",
     "output_type": "stream",
     "text": [
      "The stack after three pushes: ['hello', 'world', 'bye']\n"
     ]
    }
   ],
   "source": [
    "mystack=[] #define an empty stack as a list\n",
    "# to push items into stack\n",
    "mystack.append('hello')\n",
    "mystack.append('world')\n",
    "mystack.append('bye')\n",
    "print('The stack after three pushes:',mystack)"
   ]
  },
  {
   "cell_type": "code",
   "execution_count": 16,
   "metadata": {},
   "outputs": [
    {
     "name": "stdout",
     "output_type": "stream",
     "text": [
      "The stack before the pop: ['hello', 'world', 'bye']\n",
      "The item at top: bye\n",
      "The stack after the pop: ['hello', 'world']\n"
     ]
    }
   ],
   "source": [
    "# the last item is the the first to pop: Last-in First-out\n",
    "print('The stack before the pop:',mystack)\n",
    "item_at_top=mystack.pop()\n",
    "print('The item at top:',item_at_top)\n",
    "print('The stack after the pop:',mystack)"
   ]
  },
  {
   "cell_type": "code",
   "execution_count": 19,
   "metadata": {},
   "outputs": [
    {
     "name": "stdout",
     "output_type": "stream",
     "text": [
      "Original list: [1, 2, 3, 4, 5, 6]\n",
      "Reversed list: [6, 5, 4, 3, 2, 1]\n"
     ]
    }
   ],
   "source": [
    "# to reverse a list by stack\n",
    "mylist=[1,2,3,4,5,6]\n",
    "#---to push item into stack, use append\n",
    "#---to pop item from stack, use pop\n",
    "stack=[]\n",
    "mylist2=[]\n",
    "for item in mylist:\n",
    "    stack.append(item)\n",
    "for i in range(len(stack)):\n",
    "    mylist2.append(stack.pop())\n",
    "#---print lists\n",
    "print('Original list:',mylist)\n",
    "print('Reversed list:',mylist2)"
   ]
  },
  {
   "cell_type": "markdown",
   "metadata": {},
   "source": [
    "**Hint:** We could use *reverse* to reverse a list in place:"
   ]
  },
  {
   "cell_type": "code",
   "execution_count": 25,
   "metadata": {},
   "outputs": [
    {
     "name": "stdout",
     "output_type": "stream",
     "text": [
      "Original list is revered:  [6, 5, 4, 3, 2, 1]\n"
     ]
    }
   ],
   "source": [
    "mylist=[1,2,3,4,5,6]\n",
    "mylist.reverse() #in-place reverse\n",
    "print('Original list is revered: ',mylist)"
   ]
  },
  {
   "cell_type": "markdown",
   "metadata": {},
   "source": [
    "**Hint:** Another way to reverse a list:\n",
    "<br>The original list does not change"
   ]
  },
  {
   "cell_type": "code",
   "execution_count": 23,
   "metadata": {},
   "outputs": [
    {
     "name": "stdout",
     "output_type": "stream",
     "text": [
      "Original list: [1, 2, 3, 4, 5, 6]\n",
      "Reversed list: [6, 5, 4, 3, 2, 1]\n"
     ]
    }
   ],
   "source": [
    "mylist=[1,2,3,4,5,6]\n",
    "mylist2=mylist[::-1]\n",
    "print('Original list:',mylist)\n",
    "print('Reversed list:',mylist2)"
   ]
  },
  {
   "cell_type": "code",
   "execution_count": null,
   "metadata": {},
   "outputs": [],
   "source": []
  }
 ],
 "metadata": {
  "kernelspec": {
   "display_name": "Python 3",
   "language": "python",
   "name": "python3"
  },
  "language_info": {
   "codemirror_mode": {
    "name": "ipython",
    "version": 3
   },
   "file_extension": ".py",
   "mimetype": "text/x-python",
   "name": "python",
   "nbconvert_exporter": "python",
   "pygments_lexer": "ipython3",
   "version": "3.8.3"
  }
 },
 "nbformat": 4,
 "nbformat_minor": 5
}
