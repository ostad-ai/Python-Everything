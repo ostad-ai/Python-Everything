{
 "cells": [
  {
   "cell_type": "markdown",
   "id": "e84d1705",
   "metadata": {},
   "source": [
    "# Python: Everything\n",
    "- 23) **Lambda expression:** Defining anonymous functions with lambda expressions <br>\n",
    "پیداگفت‌های لاندا: شناساندن کارکنشهای بی‌نام با لاندا\n",
    "<br>----------------------------------------------\n",
    "<br> Instagram: @words.persian\n",
    "<br>https://github.com/ostad-ai/Python-Everything\n",
    "<br>https://www.pinterest.com/HamedShahHosseini/programming-languages/python"
   ]
  },
  {
   "cell_type": "markdown",
   "id": "f283f332",
   "metadata": {},
   "source": [
    "Syntax:<br>\n",
    "**lambda** *parameters*: *expression*"
   ]
  },
  {
   "cell_type": "code",
   "execution_count": 13,
   "id": "04cdcb53",
   "metadata": {},
   "outputs": [
    {
     "data": {
      "text/plain": [
       "<function __main__.<lambda>(x)>"
      ]
     },
     "execution_count": 13,
     "metadata": {},
     "output_type": "execute_result"
    }
   ],
   "source": [
    "# a lambda expression\n",
    "# یک پیداگفت لاندا\n",
    "lambda x:x+1"
   ]
  },
  {
   "cell_type": "code",
   "execution_count": 14,
   "id": "81b26ab3",
   "metadata": {},
   "outputs": [
    {
     "data": {
      "text/plain": [
       "6"
      ]
     },
     "execution_count": 14,
     "metadata": {},
     "output_type": "execute_result"
    }
   ],
   "source": [
    "#to use lambda function, we may name it\n",
    "# بهره‌گیری از کارکنش لاندا، با دادن نام به آن\n",
    "xp1=lambda x: x+1\n",
    "xp1(5)"
   ]
  },
  {
   "cell_type": "code",
   "execution_count": 15,
   "id": "01e8d81f",
   "metadata": {},
   "outputs": [
    {
     "data": {
      "text/plain": [
       "6"
      ]
     },
     "execution_count": 15,
     "metadata": {},
     "output_type": "execute_result"
    }
   ],
   "source": [
    "# or we could instantly call it\n",
    "# یا فراخوانی درجای آن، به گونه زیر\n",
    "(lambda x:x+1)(5)"
   ]
  },
  {
   "cell_type": "code",
   "execution_count": 62,
   "id": "f2c25741",
   "metadata": {},
   "outputs": [
    {
     "data": {
      "text/plain": [
       "13"
      ]
     },
     "execution_count": 62,
     "metadata": {},
     "output_type": "execute_result"
    }
   ],
   "source": [
    "# lambda functions can take several arguments\n",
    "# کارکنشهای لاندا میتوانند چندین جستار هم بگیرند\n",
    "sumxy=lambda x,y: x+y\n",
    "# equivalent form using def\n",
    "# def sumxy(x,y):\n",
    "#     return x+y\n",
    "sumxy(5,8)"
   ]
  },
  {
   "cell_type": "code",
   "execution_count": 66,
   "id": "a776d5bc",
   "metadata": {},
   "outputs": [
    {
     "data": {
      "text/plain": [
       "10"
      ]
     },
     "execution_count": 66,
     "metadata": {},
     "output_type": "execute_result"
    }
   ],
   "source": [
    "# having variable number of arguments\n",
    "# داشتن شمار دگرنده از جستارها\n",
    "sumvals=lambda *args: args[-1] if len(args)==1 else args[-1]+sumvals(*args[:-1])\n",
    "# could simply use\n",
    "# sumvals=lambda *args: sum(args)\n",
    "sumvals(1,2,3,4)"
   ]
  },
  {
   "cell_type": "code",
   "execution_count": 63,
   "id": "7f54f34d",
   "metadata": {},
   "outputs": [
    {
     "name": "stdout",
     "output_type": "stream",
     "text": [
      "Original numbers:  [1, 2, 3, 4, 5, 6]\n",
      "Squaring numbers:  [1, 4, 9, 16, 25, 36]\n",
      "Filtering (show even numbers): [2, 4, 6]\n"
     ]
    }
   ],
   "source": [
    "# using lambda with builtin functions: map and filter\n",
    "# بهره‌گیری از لاندا با کارکنشهای درون-ساخته\n",
    "numbers=[1,2,3,4,5,6]\n",
    "print('Original numbers: ',numbers)\n",
    "print('Squaring numbers: ',list(map(lambda x:x**2,numbers)))\n",
    "print('Filtering (show even numbers):',\n",
    "      list(filter(lambda x: x%2==0,numbers)))"
   ]
  },
  {
   "cell_type": "code",
   "execution_count": 50,
   "id": "c79e7275",
   "metadata": {},
   "outputs": [
    {
     "data": {
      "text/plain": [
       "[3, 6, 1, 4, 2, 5]"
      ]
     },
     "execution_count": 50,
     "metadata": {},
     "output_type": "execute_result"
    }
   ],
   "source": [
    "# working with key functions in Python such as:\n",
    "# کار کردن با کارکنشهای کلید، در پایتون\n",
    "# sorted, min, and max\n",
    "mylist=[1,2,3,4,5,6]\n",
    "#sort based on their remainders of division by 3 \n",
    "sorted(mylist,key=lambda x:x%3)"
   ]
  },
  {
   "cell_type": "code",
   "execution_count": 64,
   "id": "d89cd489",
   "metadata": {},
   "outputs": [
    {
     "data": {
      "text/plain": [
       "(120, 120)"
      ]
     },
     "execution_count": 64,
     "metadata": {},
     "output_type": "execute_result"
    }
   ],
   "source": [
    "#Example: two ways to define factorial with lambda\n",
    "# نمونه: دو راه شناساندن ساختگرین با لاندا\n",
    "fact1=(lambda n:(lambda f,n:f(f,n))(lambda f,n:n*f(f,n-1) if n>1 else 1,n))\n",
    "fact2=lambda n: n*fact2(n-1) if n>1 else 1\n",
    "fact1(5),fact2(5)"
   ]
  },
  {
   "cell_type": "code",
   "execution_count": null,
   "id": "607f6eba",
   "metadata": {},
   "outputs": [],
   "source": []
  }
 ],
 "metadata": {
  "kernelspec": {
   "display_name": "Python 3 (ipykernel)",
   "language": "python",
   "name": "python3"
  },
  "language_info": {
   "codemirror_mode": {
    "name": "ipython",
    "version": 3
   },
   "file_extension": ".py",
   "mimetype": "text/x-python",
   "name": "python",
   "nbconvert_exporter": "python",
   "pygments_lexer": "ipython3",
   "version": "3.8.10"
  }
 },
 "nbformat": 4,
 "nbformat_minor": 5
}
