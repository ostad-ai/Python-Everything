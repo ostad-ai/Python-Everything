{
 "cells": [
  {
   "cell_type": "markdown",
   "metadata": {},
   "source": [
    "# Python Everything:\n",
    "8) **Showing polynomials in Jupyter Notebook**\n",
    "<br>Also, writing functions to add and multiply two polynomials $p(x)$ and $q(x).$\n",
    "<br>**Hint:** Here, polynomials are represented by *lists*.\n",
    "<br>\n",
    "<br> $p(x)=a_0+a_1x+a_2x^2+a_3x^3+...+a_nx^n$\n",
    "# نمایش بُلنامی‌ها، در جوپیتر نوتبوک\n",
    "By Hamed Shah-Hosseini<br>\n",
    "Explanation in English:<br>\n",
    "https://www.pinterest.com/HamedShahHosseini/programming-languages/python\n",
    "<br> Explanation in Persian: https://www.instagram.com/words.persian\n",
    "<br>The code is at: https://github.com/ostad-ai/Python-Everything"
   ]
  },
  {
   "cell_type": "code",
   "execution_count": 27,
   "metadata": {},
   "outputs": [],
   "source": [
    "from IPython.display import Math, display"
   ]
  },
  {
   "cell_type": "code",
   "execution_count": 28,
   "metadata": {},
   "outputs": [],
   "source": [
    "# the function to show polynomials represented by lists\n",
    "def show(poly,variable='x'):\n",
    "    s=''\n",
    "    for power,coef in enumerate(poly):\n",
    "        if coef==0: continue\n",
    "        if power==0:\n",
    "            s+=f'{coef}+'\n",
    "        elif power==1:\n",
    "            s+=f'{coef}{variable}+'\n",
    "        else:\n",
    "            s+=f'{coef}{variable}^{{{power}}}+'\n",
    "    display(Math(s[:-1]))"
   ]
  },
  {
   "cell_type": "markdown",
   "metadata": {},
   "source": [
    "ِExample of displaying polynomials:<br>\n",
    "نمونه‌ای از نمایش بُلنامی‌ها"
   ]
  },
  {
   "cell_type": "code",
   "execution_count": 30,
   "metadata": {},
   "outputs": [
    {
     "data": {
      "text/latex": [
       "$\\displaystyle 1+3x+7x^{2}+11x^{3}+3x^{11}$"
      ],
      "text/plain": [
       "<IPython.core.display.Math object>"
      ]
     },
     "metadata": {},
     "output_type": "display_data"
    }
   ],
   "source": [
    "poly1=[1,3,7,11,0,0,0,0,0,0,0,3]\n",
    "show(poly1)"
   ]
  },
  {
   "cell_type": "code",
   "execution_count": 12,
   "metadata": {},
   "outputs": [
    {
     "data": {
      "text/latex": [
       "$\\displaystyle 4+8x^{2}+10x^{4}$"
      ],
      "text/plain": [
       "<IPython.core.display.Math object>"
      ]
     },
     "metadata": {},
     "output_type": "display_data"
    },
    {
     "data": {
      "text/latex": [
       "$\\displaystyle 4+8y^{2}+10y^{4}$"
      ],
      "text/plain": [
       "<IPython.core.display.Math object>"
      ]
     },
     "metadata": {},
     "output_type": "display_data"
    }
   ],
   "source": [
    "poly2=[4,0,8,0,10]\n",
    "show(poly2,'x')\n",
    "show(poly2,'y')"
   ]
  },
  {
   "cell_type": "code",
   "execution_count": 13,
   "metadata": {},
   "outputs": [],
   "source": [
    "# adding two polynomials P and Q\n",
    "# P and Q are represented by lists\n",
    "def add_polys(P,Q):\n",
    "    m=len(P)\n",
    "    n=len(Q)\n",
    "    if m < n:\n",
    "        result=Q.copy()\n",
    "        for i in range(m):\n",
    "            result[i]+=P[i]\n",
    "    else:\n",
    "        result=P.copy()\n",
    "        for i in range(n):\n",
    "            result[i]+=Q[i]\n",
    "    return result"
   ]
  },
  {
   "cell_type": "markdown",
   "metadata": {},
   "source": [
    "Example of adding two polynomials: <br>\n",
    "نمونه‌ای از افزا کردن دو بُلنامی"
   ]
  },
  {
   "cell_type": "code",
   "execution_count": 21,
   "metadata": {},
   "outputs": [
    {
     "data": {
      "text/latex": [
       "$\\displaystyle 1+3x+7x^{2}+11x^{3}+3x^{11}$"
      ],
      "text/plain": [
       "<IPython.core.display.Math object>"
      ]
     },
     "metadata": {},
     "output_type": "display_data"
    },
    {
     "data": {
      "text/latex": [
       "$\\displaystyle 4+8x^{2}+10x^{4}$"
      ],
      "text/plain": [
       "<IPython.core.display.Math object>"
      ]
     },
     "metadata": {},
     "output_type": "display_data"
    },
    {
     "name": "stdout",
     "output_type": "stream",
     "text": [
      "The summation:\n"
     ]
    },
    {
     "data": {
      "text/latex": [
       "$\\displaystyle 5+3x+15x^{2}+11x^{3}+10x^{4}+3x^{11}$"
      ],
      "text/plain": [
       "<IPython.core.display.Math object>"
      ]
     },
     "metadata": {},
     "output_type": "display_data"
    }
   ],
   "source": [
    "poly1_add_poly2=add_polys(poly1,poly2)\n",
    "show(poly1)\n",
    "show(poly2)\n",
    "print('The summation:')\n",
    "show(poly1_add_poly2)"
   ]
  },
  {
   "cell_type": "code",
   "execution_count": 20,
   "metadata": {},
   "outputs": [],
   "source": [
    "# multiplying two polynomials P and Q\n",
    "# P and Q are represented by lists\n",
    "def mult_polys(P,Q):\n",
    "    m=len(P)\n",
    "    n=len(Q)\n",
    "    R=[0]*(m+n-1)\n",
    "    for i in range(m):\n",
    "        for j in range(n):\n",
    "            R[i+j]+=P[i]*Q[j]\n",
    "    return R"
   ]
  },
  {
   "cell_type": "markdown",
   "metadata": {},
   "source": [
    "Example of multiplying two polynomials: <br>\n",
    "نمونه‌ای از چندینکرد دو بُلنامی"
   ]
  },
  {
   "cell_type": "code",
   "execution_count": 23,
   "metadata": {},
   "outputs": [
    {
     "data": {
      "text/latex": [
       "$\\displaystyle 1+3x+7x^{2}+11x^{3}+3x^{11}$"
      ],
      "text/plain": [
       "<IPython.core.display.Math object>"
      ]
     },
     "metadata": {},
     "output_type": "display_data"
    },
    {
     "data": {
      "text/latex": [
       "$\\displaystyle 4+8x^{2}+10x^{4}$"
      ],
      "text/plain": [
       "<IPython.core.display.Math object>"
      ]
     },
     "metadata": {},
     "output_type": "display_data"
    },
    {
     "name": "stdout",
     "output_type": "stream",
     "text": [
      "The multiplication:\n"
     ]
    },
    {
     "data": {
      "text/latex": [
       "$\\displaystyle 4+12x+36x^{2}+68x^{3}+66x^{4}+118x^{5}+70x^{6}+110x^{7}+12x^{11}+24x^{13}+30x^{15}$"
      ],
      "text/plain": [
       "<IPython.core.display.Math object>"
      ]
     },
     "metadata": {},
     "output_type": "display_data"
    }
   ],
   "source": [
    "show(poly1); show(poly2)\n",
    "poly1_mult_poly2=mult_polys(poly1,poly2)\n",
    "print('The multiplication:')\n",
    "show(poly1_mult_poly2)"
   ]
  },
  {
   "cell_type": "code",
   "execution_count": 25,
   "metadata": {},
   "outputs": [
    {
     "name": "stdout",
     "output_type": "stream",
     "text": [
      "The multiplication:\n"
     ]
    },
    {
     "data": {
      "text/latex": [
       "$\\displaystyle 4.0+12.0x+36.0x^{2}+68.0x^{3}+66.0x^{4}+118.0x^{5}+70.0x^{6}+110.0x^{7}+12.0x^{11}+24.0x^{13}+30.0x^{15}$"
      ],
      "text/plain": [
       "<IPython.core.display.Math object>"
      ]
     },
     "metadata": {},
     "output_type": "display_data"
    }
   ],
   "source": [
    "# you can check the multiplication with numpy polynomial\n",
    "from numpy.polynomial.polynomial import polymul\n",
    "print('The multiplication:')\n",
    "show(polymul(poly1,poly2))"
   ]
  },
  {
   "cell_type": "code",
   "execution_count": null,
   "metadata": {},
   "outputs": [],
   "source": []
  }
 ],
 "metadata": {
  "kernelspec": {
   "display_name": "Python 3",
   "language": "python",
   "name": "python3"
  },
  "language_info": {
   "codemirror_mode": {
    "name": "ipython",
    "version": 3
   },
   "file_extension": ".py",
   "mimetype": "text/x-python",
   "name": "python",
   "nbconvert_exporter": "python",
   "pygments_lexer": "ipython3",
   "version": "3.8.3"
  }
 },
 "nbformat": 4,
 "nbformat_minor": 4
}
