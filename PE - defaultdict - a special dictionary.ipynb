{
 "cells": [
  {
   "cell_type": "markdown",
   "id": "184b5bb3",
   "metadata": {},
   "source": [
    "# Python everything:\n",
    "## defaultdict in python\n",
    "The **defaultdict** is a subclass of Python's **dict** that automatically initializes a default value for missing keys. \n",
    " - It takes a factory function (like `list`, `int`, `float`, or `set`) to generate the default value when a key is accessed for the first time (for a non-existing key). This avoids `KeyError` and eliminates the need to manually check or initialize keys, making code cleaner and more efficient.\n",
    "  - We can import **defaultdict** from module **collections**.\n",
    "\n",
    "<hr>  \n",
    "\n",
    "In the following, we bring some examples of using `defaultdict`.\n",
    "<hr>\n",
    "<br>https://github.com/ostad-ai/Python-Everything\n",
    "<br>The Explanation in English: https://www.pinterest.com/HamedShahHosseini/programming-languages/python"
   ]
  },
  {
   "cell_type": "code",
   "execution_count": 1,
   "id": "fd90eea8",
   "metadata": {},
   "outputs": [],
   "source": [
    "# Import the required module\n",
    "from collections import defaultdict"
   ]
  },
  {
   "cell_type": "code",
   "execution_count": 2,
   "id": "9addfedc",
   "metadata": {},
   "outputs": [
    {
     "name": "stdout",
     "output_type": "stream",
     "text": [
      "We get KeyError for accessing a non-existing key:\n"
     ]
    },
    {
     "ename": "KeyError",
     "evalue": "'fruits'",
     "output_type": "error",
     "traceback": [
      "\u001b[1;31m---------------------------------------------------------------------------\u001b[0m",
      "\u001b[1;31mKeyError\u001b[0m                                  Traceback (most recent call last)",
      "Cell \u001b[1;32mIn[2], line 6\u001b[0m\n\u001b[0;32m      4\u001b[0m \u001b[38;5;66;03m# Try to access to a key that doesn't exist\u001b[39;00m\n\u001b[0;32m      5\u001b[0m \u001b[38;5;28mprint\u001b[39m(\u001b[38;5;124m'\u001b[39m\u001b[38;5;124mWe get KeyError for accessing a non-existing key:\u001b[39m\u001b[38;5;124m'\u001b[39m)\n\u001b[1;32m----> 6\u001b[0m \u001b[43md_empty\u001b[49m\u001b[43m[\u001b[49m\u001b[38;5;124;43m'\u001b[39;49m\u001b[38;5;124;43mfruits\u001b[39;49m\u001b[38;5;124;43m'\u001b[39;49m\u001b[43m]\u001b[49m  \u001b[38;5;66;03m# ❌ KeyError!\u001b[39;00m\n",
      "\u001b[1;31mKeyError\u001b[0m: 'fruits'"
     ]
    }
   ],
   "source": [
    "# Let's define an empry dictionary first\n",
    "d_empty = {}\n",
    "\n",
    "# Try to access to a key that doesn't exist\n",
    "print('We get KeyError for accessing a non-existing key:')\n",
    "d_empty['fruits']  # ❌ KeyError!"
   ]
  },
  {
   "cell_type": "code",
   "execution_count": 3,
   "id": "bca39723",
   "metadata": {},
   "outputs": [
    {
     "name": "stdout",
     "output_type": "stream",
     "text": [
      "We get no KeyError for accessing a non-existing key:\n"
     ]
    },
    {
     "data": {
      "text/plain": [
       "[]"
      ]
     },
     "execution_count": 3,
     "metadata": {},
     "output_type": "execute_result"
    }
   ],
   "source": [
    "# Let's do the example above this time by defaultdict with values of lists\n",
    "dd_empty=defaultdict(list) # Automatically creates empty list for new keys\n",
    "# Try to access to a key that doeesn't exists return the empty list\n",
    "print('We get no KeyError for accessing a non-existing key:')\n",
    "dd_empty['fruits'] # no error raises"
   ]
  },
  {
   "cell_type": "code",
   "execution_count": 4,
   "id": "ef7c86b7",
   "metadata": {},
   "outputs": [
    {
     "name": "stdout",
     "output_type": "stream",
     "text": [
      "defaultdict(<class 'list'>, {'fruits': ['apple', 'banana'], 'vegetables': ['carrot']})\n"
     ]
    }
   ],
   "source": [
    "# Complete an example with defaultdict\n",
    "d = defaultdict(list)  # Automatically creates empty list for new keys\n",
    "\n",
    "# Add some values to unknown keys\n",
    "d['fruits'].append('apple')\n",
    "d['fruits'].append('banana')\n",
    "d['vegetables'].append('carrot')\n",
    "\n",
    "# Now, we have a list of apple and banana under the key fruits\n",
    "# and a list of carrot under the key vegetables\n",
    "print(d)"
   ]
  },
  {
   "cell_type": "markdown",
   "id": "9665f6e3",
   "metadata": {},
   "source": [
    "Now, we provide some useful examples of `defautldict`"
   ]
  },
  {
   "cell_type": "code",
   "execution_count": 5,
   "id": "9601225e",
   "metadata": {},
   "outputs": [
    {
     "name": "stdout",
     "output_type": "stream",
     "text": [
      "{'a': ['apple', 'ant'], 'b': ['banana', 'ball'], 'c': ['cat']}\n"
     ]
    }
   ],
   "source": [
    "# Group items based on collection of words with keys as alphabets\n",
    "\n",
    "# the list of words\n",
    "words = [('a', 'apple'), ('b', 'banana'), ('a', 'ant'), ('b', 'ball'), ('c', 'cat')]\n",
    "\n",
    "grouped = defaultdict(list)\n",
    "for key, value in words:\n",
    "    grouped[key].append(value)\n",
    "    \n",
    "# To have a more friendly print, we convert the defaultdict to the regular dict\n",
    "print(dict(grouped))"
   ]
  },
  {
   "cell_type": "code",
   "execution_count": 6,
   "id": "85023673",
   "metadata": {},
   "outputs": [
    {
     "name": "stdout",
     "output_type": "stream",
     "text": [
      "{'apple': 3, 'banana': 2, 'cherry': 1}\n"
     ]
    }
   ],
   "source": [
    "# Count things\n",
    "\n",
    "# The list of things\n",
    "words = ['apple', 'banana', 'apple', 'cherry', 'banana', 'apple']\n",
    "\n",
    "# default_factory is int, which is zero by default for a non-existing key\n",
    "count = defaultdict(int) \n",
    "for word in words:\n",
    "    count[word] += 1\n",
    "    \n",
    "# print after covnerting to regular dict\n",
    "print(dict(count))"
   ]
  },
  {
   "cell_type": "code",
   "execution_count": 7,
   "id": "9add4a7b",
   "metadata": {},
   "outputs": [
    {
     "name": "stdout",
     "output_type": "stream",
     "text": [
      "Words grouped by length:\n",
      "Length 1: ['a']\n",
      "Length 2: ['hi', 'go', 'to']\n",
      "Length 3: ['bat', 'car']\n",
      "Length 5: ['apple']\n",
      "Length 6: ['python']\n",
      "Length 8: ['elephant']\n"
     ]
    }
   ],
   "source": [
    "# Group words by their length\n",
    "\n",
    "# Sample data\n",
    "words = ['apple', 'bat', 'car', 'elephant', 'hi', 'go', 'python', 'a', 'to']\n",
    "\n",
    "# Create a defaultdict to group words by length\n",
    "words_by_length = defaultdict(list)\n",
    "\n",
    "for word in words:\n",
    "    words_by_length[len(word)].append(word)  # No checks needed!\n",
    "\n",
    "# Now words_by_length is a dict: {length: [words...]}\n",
    "print(\"Words grouped by length:\")\n",
    "for length, word_list in sorted(words_by_length.items()):\n",
    "    print(f\"Length {length}: {word_list}\")"
   ]
  },
  {
   "cell_type": "code",
   "execution_count": 8,
   "id": "0818714f",
   "metadata": {},
   "outputs": [
    {
     "name": "stdout",
     "output_type": "stream",
     "text": [
      "Value of the matrix for a non-existing key: 0\n",
      "Value of the matrix for an existing key: (row1, col1): 5\n"
     ]
    }
   ],
   "source": [
    "# We can also have multi-level dictionaries\n",
    "\n",
    "# defaultdict of defaultdict of int\n",
    "matrix = defaultdict(lambda: defaultdict(int))\n",
    "\n",
    "matrix['row1']['col1'] = 5\n",
    "matrix['row1']['col2'] = 3\n",
    "# → 0 (automatically created)\n",
    "print(f\"Value of the matrix for a non-existing key: {matrix['row1']['col3']}\") \n",
    "print(f\"Value of the matrix for an existing key: (row1, col1): {matrix['row1']['col1']}\")"
   ]
  },
  {
   "cell_type": "code",
   "execution_count": 9,
   "id": "a2614cd7",
   "metadata": {},
   "outputs": [
    {
     "name": "stdout",
     "output_type": "stream",
     "text": [
      "The defautl age for a non-exisitng key: 25\n"
     ]
    }
   ],
   "source": [
    "# Define your own default factory\n",
    "\n",
    "# Define default age for a defaultdict\n",
    "def default_age():\n",
    "    return 25\n",
    "\n",
    "# Define the defaultdict with our own default factory\n",
    "mydict=defaultdict(default_age)\n",
    "\n",
    "print(f\"The defautl age for a non-exisitng key: {mydict['Alice']}\")"
   ]
  },
  {
   "cell_type": "code",
   "execution_count": 10,
   "id": "3a115073",
   "metadata": {},
   "outputs": [
    {
     "name": "stdout",
     "output_type": "stream",
     "text": [
      "Any missing key gets this profile: {'name': 'Anonymous', 'age': 0, 'active': False}\n"
     ]
    }
   ],
   "source": [
    "# A more custom dict structure\n",
    "def default_user():\n",
    "    return {\n",
    "        'name': 'Anonymous',\n",
    "        'age': 0,\n",
    "        'active': False        \n",
    "    }\n",
    "\n",
    "users=defaultdict(default_user)\n",
    "\n",
    "print(f\"Any missing key gets this profile: {users['Alice']}\")"
   ]
  },
  {
   "cell_type": "code",
   "execution_count": 11,
   "id": "a9ce2273",
   "metadata": {},
   "outputs": [
    {
     "name": "stdout",
     "output_type": "stream",
     "text": [
      "Any missing key gets this new profile: Person(name=Unknown),tasks=[], logged_in=False\n",
      "--------------------------------------------------\n",
      "An updated existing key: Person(name=Alice Black),tasks=['Type letters'], logged_in=False\n"
     ]
    }
   ],
   "source": [
    "# We can even have a class for default factory\n",
    "class Person:\n",
    "    def __init__(self):\n",
    "        self.name='Unknown'\n",
    "        self.tasks=[]\n",
    "        self.logged_in=False\n",
    "    def __repr__(self):\n",
    "        return f\"Person(name={self.name}),tasks={self.tasks}, logged_in={self.logged_in}\"\n",
    "\n",
    "# Use the class as factory\n",
    "people=defaultdict(Person)\n",
    "\n",
    "print(f\"Any missing key gets this new profile: {people['Alice']}\")\n",
    "\n",
    "# Now, let's update this persons' data\n",
    "people['Alice'].name=\"Alice Black\"\n",
    "people['Alice'].tasks.append(\"Type letters\")\n",
    "\n",
    "print('-'*50)\n",
    "print(f\"An updated existing key: {people['Alice']}\")"
   ]
  },
  {
   "cell_type": "code",
   "execution_count": null,
   "id": "b85538a6",
   "metadata": {},
   "outputs": [],
   "source": []
  }
 ],
 "metadata": {
  "kernelspec": {
   "display_name": "Python 3 (ipykernel)",
   "language": "python",
   "name": "python3"
  },
  "language_info": {
   "codemirror_mode": {
    "name": "ipython",
    "version": 3
   },
   "file_extension": ".py",
   "mimetype": "text/x-python",
   "name": "python",
   "nbconvert_exporter": "python",
   "pygments_lexer": "ipython3",
   "version": "3.11.1"
  }
 },
 "nbformat": 4,
 "nbformat_minor": 5
}
