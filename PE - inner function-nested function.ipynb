{
 "cells": [
  {
   "cell_type": "markdown",
   "id": "184b5bb3",
   "metadata": {},
   "source": [
    "# Python everything:\n",
    "## Inner function (nested function) in Python\n",
    "In Python, defining a function inside another function is a powerful and common practice. The function inside another function, called **outer** function, is called the inner function (also called  nested function or helper function) is a function defined inside another function.\n",
    "This is a powerful programming technique with specific use cases and benefits such as:\n",
    "- **Encapsulation** and hiding inner functions\n",
    "- **Closure** and access to outer variables\n",
    "- **Factory functions** (returning functions)\n",
    "  - Factory functions are a powerful **functional programming** pattern that let you create specialized functions and objects without the overhead of classes. They're useful when you need to preset configuration or maintain private state through closures.\n",
    "- **Decorators** that change the behavior of functions.\n",
    "- **Avoiding code duplication**.\n",
    "\n",
    "<hr>  \n",
    "\n",
    "In the following, we review the benefits mentioned above by examples.\n",
    "<hr>\n",
    "<br>https://github.com/ostad-ai/Python-Everything\n",
    "<br>The Explanation in English: https://www.pinterest.com/HamedShahHosseini/programming-languages/python"
   ]
  },
  {
   "cell_type": "code",
   "execution_count": 1,
   "id": "f68ffecf",
   "metadata": {},
   "outputs": [],
   "source": [
    "# import required module\n",
    "import time"
   ]
  },
  {
   "cell_type": "code",
   "execution_count": 2,
   "id": "fd90eea8",
   "metadata": {},
   "outputs": [
    {
     "name": "stdout",
     "output_type": "stream",
     "text": [
      "Beginning of the outer function\n",
      "---Inside inner function\n",
      "End of the outer function\n"
     ]
    }
   ],
   "source": [
    "# The general structure of inner and outer functions\n",
    "def outer_function():\n",
    "    \"\"\"This is the outer function.\"\"\"    \n",
    "    print('Beginning of the outer function')\n",
    "    \n",
    "    def inner_function():\n",
    "        \"\"\"This is the inner function.\"\"\"\n",
    "        print(\"---Inside inner function\")\n",
    "    \n",
    "    # Call the inner function\n",
    "    inner_function()\n",
    "    \n",
    "    print('End of the outer function')\n",
    "\n",
    "# Usage\n",
    "outer_function() # calling outer function"
   ]
  },
  {
   "cell_type": "markdown",
   "id": "7b0e1e0b",
   "metadata": {},
   "source": [
    "### Encapsulation / Hiding Helper Functions\n",
    "- The inner function is not accessible outside the outer function.\n",
    "- It’s like a **private** helper.\n",
    "     "
   ]
  },
  {
   "cell_type": "code",
   "execution_count": 3,
   "id": "9addfedc",
   "metadata": {},
   "outputs": [
    {
     "ename": "NameError",
     "evalue": "name 'validate' is not defined",
     "output_type": "error",
     "traceback": [
      "\u001b[1;31m---------------------------------------------------------------------------\u001b[0m",
      "\u001b[1;31mNameError\u001b[0m                                 Traceback (most recent call last)",
      "Cell \u001b[1;32mIn[3], line 8\u001b[0m\n\u001b[0;32m      5\u001b[0m         \u001b[38;5;28;01mreturn\u001b[39;00m x \u001b[38;5;241m>\u001b[39m \u001b[38;5;241m0\u001b[39m\n\u001b[0;32m      6\u001b[0m     \u001b[38;5;28;01mreturn\u001b[39;00m [x \u001b[38;5;28;01mfor\u001b[39;00m x \u001b[38;5;129;01min\u001b[39;00m data \u001b[38;5;28;01mif\u001b[39;00m validate(x)]\n\u001b[1;32m----> 8\u001b[0m \u001b[43mvalidate\u001b[49m([\u001b[38;5;241m1\u001b[39m, \u001b[38;5;241m-\u001b[39m\u001b[38;5;241m1\u001b[39m])  \u001b[38;5;66;03m# ❌ NameError\u001b[39;00m\n",
      "\u001b[1;31mNameError\u001b[0m: name 'validate' is not defined"
     ]
    }
   ],
   "source": [
    "# Calling the inner function from outside raises error\n",
    "# so, the inner function is hidden from outside\n",
    "def process_data(data):\n",
    "    def validate(x):  # Hidden helper\n",
    "        return x > 0\n",
    "    return [x for x in data if validate(x)]\n",
    "\n",
    "validate([1, -1])  # ❌ NameError"
   ]
  },
  {
   "cell_type": "markdown",
   "id": "ce8ed452",
   "metadata": {},
   "source": [
    "### Factory Functions (Returning Functions) \n",
    "You can use inner functions to generate and return customized functions. "
   ]
  },
  {
   "cell_type": "code",
   "execution_count": 4,
   "id": "8fbb4378",
   "metadata": {},
   "outputs": [
    {
     "name": "stdout",
     "output_type": "stream",
     "text": [
      "Hello, Alice!\n",
      "Hola, Bob!\n"
     ]
    }
   ],
   "source": [
    "def create_greeting(greeting):\n",
    "    def greet(name):\n",
    "        return f\"{greeting}, {name}!\"\n",
    "    return greet # returing the function\n",
    "\n",
    "say_hello = create_greeting(\"Hello\")\n",
    "say_hola  = create_greeting(\"Hola\")\n",
    "\n",
    "print(say_hello(\"Alice\"))  # → \"Hello, Alice!\"\n",
    "print(say_hola(\"Bob\"))     # → \"Hola, Bob!\""
   ]
  },
  {
   "cell_type": "markdown",
   "id": "1cd5250a",
   "metadata": {},
   "source": [
    "### Closure & Access to Outer Variables \n",
    "An inner function can remember variables from the outer function’s scope, even after the outer function finishes. \n",
    "<br>This is called a **closure**. "
   ]
  },
  {
   "cell_type": "code",
   "execution_count": 5,
   "id": "678b8a79",
   "metadata": {},
   "outputs": [
    {
     "name": "stdout",
     "output_type": "stream",
     "text": [
      "Double of 5: 10\n",
      "Triple of 5: 15\n"
     ]
    }
   ],
   "source": [
    "def make_multiplier(n):\n",
    "    def multiply(x):  # Uses 'n' from outer scope\n",
    "        return x * n\n",
    "    return multiply  # Returns the inner function\n",
    "\n",
    "double = make_multiplier(2)\n",
    "print(f'Double of 5: {double(5)}')  # → 10\n",
    "\n",
    "triple = make_multiplier(3)\n",
    "print(f'Triple of 5: {triple(5)}')  # → 15"
   ]
  },
  {
   "cell_type": "markdown",
   "id": "16425dd9",
   "metadata": {},
   "source": [
    "### Decorators\n",
    "Decorators are functions that wrap other functions — they use nested functions heavily. "
   ]
  },
  {
   "cell_type": "code",
   "execution_count": 6,
   "id": "2cd87c44",
   "metadata": {},
   "outputs": [
    {
     "name": "stdout",
     "output_type": "stream",
     "text": [
      "Before function call\n",
      "Hello!\n",
      "After function call\n"
     ]
    }
   ],
   "source": [
    "def my_decorator(func):\n",
    "    def wrapper():\n",
    "        print(\"Before function call\")\n",
    "        func()\n",
    "        print(\"After function call\")\n",
    "    return wrapper\n",
    "\n",
    "@my_decorator\n",
    "def say_hello():\n",
    "    print(\"Hello!\")\n",
    "\n",
    "say_hello()"
   ]
  },
  {
   "cell_type": "markdown",
   "id": "216867cc",
   "metadata": {},
   "source": [
    "### Avoiding Code Duplication \n",
    "Use inner functions to avoid repeating logic. "
   ]
  },
  {
   "cell_type": "code",
   "execution_count": 7,
   "id": "6e3e9105",
   "metadata": {},
   "outputs": [
    {
     "data": {
      "text/plain": [
       "12"
      ]
     },
     "execution_count": 7,
     "metadata": {},
     "output_type": "execute_result"
    }
   ],
   "source": [
    "def calculate(operation, a, b):\n",
    "    def error_check(x):\n",
    "        if x < 0:\n",
    "            raise ValueError(\"Negative numbers not allowed\")\n",
    "    \n",
    "    error_check(a)\n",
    "    error_check(b)\n",
    "\n",
    "    if operation == 'add':\n",
    "        return a + b\n",
    "    elif operation == 'mul':\n",
    "        return a * b\n",
    "    \n",
    "# Example usage\n",
    "calculate('add',5,7)"
   ]
  },
  {
   "cell_type": "markdown",
   "id": "070c182f",
   "metadata": {},
   "source": [
    "### Attention:\n",
    "You can read outer variables, but to modify them in Python 3+, use `nonlocal`.\n",
    "<br>Python uses **lexical scoping** with these rules:\n",
    "- Inner functions can read outer variables\n",
    "- To reassign (change what the variable points to), you need `nonlocal` or `global`\n",
    "- Modifying **mutable** objects doesn't count as reassignment"
   ]
  },
  {
   "cell_type": "code",
   "execution_count": 8,
   "id": "dcce4989",
   "metadata": {},
   "outputs": [
    {
     "data": {
      "text/plain": [
       "(1, 2, 3, 4)"
      ]
     },
     "execution_count": 8,
     "metadata": {},
     "output_type": "execute_result"
    }
   ],
   "source": [
    "# Function to increment count by each call\n",
    "def outer():\n",
    "    count = 0\n",
    "    def increment():\n",
    "        nonlocal count\n",
    "        count += 1\n",
    "        return count\n",
    "    return increment\n",
    "\n",
    "# Usage\n",
    "inc=outer()\n",
    "inc(),inc(),inc(),inc()"
   ]
  },
  {
   "cell_type": "code",
   "execution_count": 9,
   "id": "cd2e33b5",
   "metadata": {},
   "outputs": [
    {
     "name": "stdout",
     "output_type": "stream",
     "text": [
      "10\n"
     ]
    }
   ],
   "source": [
    "# We can read variable x, inside of inner function\n",
    "def outer():\n",
    "    x = 10\n",
    "    \n",
    "    def inner():\n",
    "        print(x)  # Can access outer function's variables\n",
    "    \n",
    "    inner()\n",
    "\n",
    "outer()  # Output: 10\n",
    "\n",
    "# inner()  # ← ERROR: NameError: name 'inner' is not defined"
   ]
  },
  {
   "cell_type": "markdown",
   "id": "9665f6e3",
   "metadata": {},
   "source": [
    "In the following, we express a more advanved example of nested functions:\n",
    "- Here, we don't need `nonlocal`, because we are only modifying it (not reassigning it) in the inner function\n",
    "   - We don't need `nonlocal`, when we are modifying a **mutable** object in place."
   ]
  },
  {
   "cell_type": "code",
   "execution_count": 10,
   "id": "b85538a6",
   "metadata": {},
   "outputs": [],
   "source": [
    "# Define a memorized Fibonacci calculator\n",
    "def create_fibonacci_calculator():\n",
    "\n",
    "    cache = {}  # This dictionary persists between calls\n",
    "    \n",
    "    def fibonacci(n):\n",
    "        if n in cache: # if computed before, use it\n",
    "            return cache[n]\n",
    "        if n <= 1:\n",
    "            result = n\n",
    "        else:\n",
    "            result = fibonacci(n - 1) + fibonacci(n - 2)\n",
    "        cache[n] = result # Modifying the dictionary\n",
    "        return result\n",
    "    \n",
    "    return fibonacci\n",
    "\n",
    "# Usage\n",
    "fib = create_fibonacci_calculator()"
   ]
  },
  {
   "cell_type": "code",
   "execution_count": 11,
   "id": "af0312b0",
   "metadata": {},
   "outputs": [
    {
     "name": "stdout",
     "output_type": "stream",
     "text": [
      "Time to compute fib(1000): 0.0008502006530761719\n"
     ]
    }
   ],
   "source": [
    "# Comoute this fib first and measure time\n",
    "n=1000\n",
    "start=time.time()\n",
    "fib(n)\n",
    "duration=time.time()-start\n",
    "print(f'Time to compute fib({n}): {duration}')"
   ]
  },
  {
   "cell_type": "code",
   "execution_count": 12,
   "id": "0af4b6f1",
   "metadata": {},
   "outputs": [
    {
     "name": "stdout",
     "output_type": "stream",
     "text": [
      "Time to compute fib(1100): 9.918212890625e-05\n"
     ]
    }
   ],
   "source": [
    "# After computing fib above, computing this fib should take less time\n",
    "n=1100\n",
    "start=time.time()\n",
    "fib(n)\n",
    "duration=time.time()-start\n",
    "print(f'Time to compute fib({n}): {duration}')"
   ]
  },
  {
   "cell_type": "code",
   "execution_count": null,
   "id": "fc10626e",
   "metadata": {},
   "outputs": [],
   "source": []
  }
 ],
 "metadata": {
  "kernelspec": {
   "display_name": "Python 3 (ipykernel)",
   "language": "python",
   "name": "python3"
  },
  "language_info": {
   "codemirror_mode": {
    "name": "ipython",
    "version": 3
   },
   "file_extension": ".py",
   "mimetype": "text/x-python",
   "name": "python",
   "nbconvert_exporter": "python",
   "pygments_lexer": "ipython3",
   "version": "3.11.1"
  }
 },
 "nbformat": 4,
 "nbformat_minor": 5
}
