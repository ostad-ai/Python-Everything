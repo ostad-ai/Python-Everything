{
 "cells": [
  {
   "cell_type": "markdown",
   "id": "42a3fd00",
   "metadata": {},
   "source": [
    "# Python Everything\n",
    "- 32) **Enumeration in python**: Using the *enum* module in the standard library\n",
    "<br> https://github.com/ostad-ai/Python-Everything\n",
    "<br>https://www.pinterest.com/HamedShahHosseini/programming-languages/python"
   ]
  },
  {
   "cell_type": "markdown",
   "id": "c361779f",
   "metadata": {},
   "source": [
    "**Enumeration**: is a set of symbolic names (we call them members) that each is bounded to a unique value. \n",
    "- We can iterate over the members of an enumeration.\n",
    "- We can access the members by dot-syntax, function call-syntax, or index-syntax. "
   ]
  },
  {
   "cell_type": "code",
   "execution_count": 1,
   "id": "1f01481f",
   "metadata": {},
   "outputs": [],
   "source": [
    "# importing the required module\n",
    "from enum import Enum,auto,Flag"
   ]
  },
  {
   "cell_type": "code",
   "execution_count": 2,
   "id": "7013971c",
   "metadata": {},
   "outputs": [],
   "source": [
    "# creating an enumeration with class syntax:\n",
    "class Color(Enum):\n",
    "    RED=1\n",
    "    GREEN=2\n",
    "    BLUE=3    \n",
    "# creating the enumeraton above using functional syntax:\n",
    "# Color=Enum('Color',['RED','GREEN',\"BLUE\"])"
   ]
  },
  {
   "cell_type": "code",
   "execution_count": 3,
   "id": "5932e426",
   "metadata": {},
   "outputs": [
    {
     "name": "stdout",
     "output_type": "stream",
     "text": [
      "Name of the member: RED and its value: 1\n"
     ]
    }
   ],
   "source": [
    "# each memeber of an enumeration has *name* and *value* attributes\n",
    "# its name is of type string\n",
    "# its value is the value assigned in the enumeration\n",
    "print(f'Name of the member: {Color.RED.name} and its value: {Color.RED.value}')"
   ]
  },
  {
   "cell_type": "code",
   "execution_count": 4,
   "id": "5a5ede4b",
   "metadata": {},
   "outputs": [
    {
     "name": "stdout",
     "output_type": "stream",
     "text": [
      "Color.RED\n",
      "Color.RED\n",
      "Color.RED\n"
     ]
    }
   ],
   "source": [
    "# accessing members of enumeration class\n",
    "# by dot-syntax using the member\n",
    "print(Color.RED)\n",
    "# by call-syntax using value of a member\n",
    "print(Color(1))\n",
    "# by index-syntax using name of a member\n",
    "print(Color['RED'])"
   ]
  },
  {
   "cell_type": "code",
   "execution_count": 5,
   "id": "3f012ff4",
   "metadata": {},
   "outputs": [
    {
     "name": "stdout",
     "output_type": "stream",
     "text": [
      "Name of the member: RED and its value: 1\n",
      "Name of the member: GREEN and its value: 2\n",
      "Name of the member: BLUE and its value: 3\n"
     ]
    }
   ],
   "source": [
    "# to iterate over the members of an enumeration\n",
    "for member in Color:\n",
    "    print(f'Name of the member: {member.name} and its value: {member.value}')"
   ]
  },
  {
   "cell_type": "code",
   "execution_count": 6,
   "id": "7a4eb61c",
   "metadata": {},
   "outputs": [
    {
     "name": "stdout",
     "output_type": "stream",
     "text": [
      "Name of the member: RED and its value: 1\n",
      "Name of the member: GREEN and its value: 2\n",
      "Name of the member: BLUE and its value: 3\n"
     ]
    }
   ],
   "source": [
    "# assign value automatically by auto()\n",
    "# Hint: auto() returns the highest member value incremented by 1\n",
    "class Color2(Enum):\n",
    "    RED=auto()\n",
    "    GREEN=auto()\n",
    "    BLUE=auto()\n",
    "for member in Color2:\n",
    "    print(f'Name of the member: {member.name} and its value: {member.value}')"
   ]
  },
  {
   "cell_type": "code",
   "execution_count": 7,
   "id": "6b15a78c",
   "metadata": {},
   "outputs": [
    {
     "name": "stdout",
     "output_type": "stream",
     "text": [
      "purple does not contain green\n",
      "purple contains blue\n",
      "value of purple is: 5\n",
      "color name is: RED, and its value is: 1\n",
      "color name is: GREEN, and its value is: 2\n",
      "color name is: BLUE, and its value is: 4\n"
     ]
    }
   ],
   "source": [
    "#Flag is the same as Enum, but its members support the bitwise operators\n",
    "#The bitwise oeprations are: & (AND), | (OR), ^ (XOR), and ~ (INVERT)\n",
    "# values with auto() for Flag are given in powers of two\n",
    "class ColorF(Flag):\n",
    "    RED=auto()\n",
    "    GREEN=auto()\n",
    "    BLUE=auto()\n",
    "yellow=ColorF.RED | ColorF.GREEN\n",
    "cyan=ColorF.GREEN | ColorF.BLUE\n",
    "purple=ColorF.RED | ColorF.BLUE\n",
    "white = ColorF.RED | ColorF.GREEN | ColorF.BLUE\n",
    "if ColorF.GREEN in purple:\n",
    "    print('purple contains green')\n",
    "else:\n",
    "    print('purple does not contain green')\n",
    "if ColorF.BLUE in purple:\n",
    "    print('purple contains blue')\n",
    "else:\n",
    "    print('purple does not contain blue')\n",
    "print(f'value of purple is: {purple.value}')\n",
    "for color in ColorF:\n",
    "    print(f'color name is: {color.name}, and its value is: {color.value}')"
   ]
  },
  {
   "cell_type": "code",
   "execution_count": 8,
   "id": "75e03eae",
   "metadata": {},
   "outputs": [
    {
     "data": {
      "text/plain": [
       "(False, True)"
      ]
     },
     "execution_count": 8,
     "metadata": {},
     "output_type": "execute_result"
    }
   ],
   "source": [
    "# we can compare enumeration members in two ways:\n",
    "# identity: using *is* and *is not* oeprators\n",
    "# equality: using \"==\" and \"!=\" operators\n",
    "class Color(Enum):\n",
    "    RED=auto()\n",
    "    GREEN=auto()\n",
    "    BLUE=auto()\n",
    "    \n",
    "Color.RED==Color.BLUE, Color.RED!=Color.GREEN"
   ]
  },
  {
   "cell_type": "code",
   "execution_count": 9,
   "id": "29d32507",
   "metadata": {},
   "outputs": [
    {
     "name": "stdout",
     "output_type": "stream",
     "text": [
      "Today is FRIDAY\n"
     ]
    }
   ],
   "source": [
    "# example showing the weekday name of the current date\n",
    "from datetime import date\n",
    "\n",
    "class Day(Enum):\n",
    "    MONDAY=auto()\n",
    "    TUESDAY=auto()\n",
    "    WEDNESDAY=auto()\n",
    "    THURSDAY=auto()\n",
    "    FRIDAY=auto()\n",
    "    SATURDAY=auto()\n",
    "    SUNDAY=auto()\n",
    "    @classmethod\n",
    "    def today(cls):\n",
    "        return f'Today is {cls(date.today().isoweekday()).name}'\n",
    "    \n",
    "print(Day.today())"
   ]
  },
  {
   "cell_type": "code",
   "execution_count": null,
   "id": "f0220e8c",
   "metadata": {},
   "outputs": [],
   "source": []
  }
 ],
 "metadata": {
  "kernelspec": {
   "display_name": "Python 3 (ipykernel)",
   "language": "python",
   "name": "python3"
  },
  "language_info": {
   "codemirror_mode": {
    "name": "ipython",
    "version": 3
   },
   "file_extension": ".py",
   "mimetype": "text/x-python",
   "name": "python",
   "nbconvert_exporter": "python",
   "pygments_lexer": "ipython3",
   "version": "3.11.1"
  }
 },
 "nbformat": 4,
 "nbformat_minor": 5
}
