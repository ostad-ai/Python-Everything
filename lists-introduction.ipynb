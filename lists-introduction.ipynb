{
 "cells": [
  {
   "cell_type": "markdown",
   "id": "f189c3fd",
   "metadata": {},
   "source": [
    "# Python: Everything\n",
    "- 1) Lists: Introduction\n",
    "<br>----------------------------------------------\n",
    "<br> By Hamed Shah-Hosseini\n",
    "<br> https://github.com/ostad-ai/Python-Everything\n",
    "<br> https://www.pinterest.com/HamedShahHosseini/programming-languages/python"
   ]
  },
  {
   "cell_type": "markdown",
   "id": "78beeaf8",
   "metadata": {},
   "source": [
    "To define a list:"
   ]
  },
  {
   "cell_type": "code",
   "execution_count": 20,
   "id": "e2fa4e97",
   "metadata": {},
   "outputs": [
    {
     "name": "stdout",
     "output_type": "stream",
     "text": [
      "[1, 2, 3, 'hello', 'world']\n"
     ]
    }
   ],
   "source": [
    "mylist=[1,2,3,'hello','world']\n",
    "print(mylist)"
   ]
  },
  {
   "cell_type": "markdown",
   "id": "71985d4c",
   "metadata": {},
   "source": [
    "To change items of a list:"
   ]
  },
  {
   "cell_type": "code",
   "execution_count": 19,
   "id": "0ddc46e1",
   "metadata": {},
   "outputs": [
    {
     "name": "stdout",
     "output_type": "stream",
     "text": [
      "[27, 2, 3, 'hello', 'world']\n"
     ]
    }
   ],
   "source": [
    "mylist=[1,2,3,'hello','world']\n",
    "mylist[0]=27\n",
    "print(mylist)"
   ]
  },
  {
   "cell_type": "markdown",
   "id": "574d3a0b",
   "metadata": {},
   "source": [
    "To iterate over elements of a list:"
   ]
  },
  {
   "cell_type": "code",
   "execution_count": 30,
   "id": "b02995f7",
   "metadata": {},
   "outputs": [
    {
     "name": "stdout",
     "output_type": "stream",
     "text": [
      "1, 2, 3, hello, world, "
     ]
    }
   ],
   "source": [
    "mylist=[1,2,3,'hello','world']\n",
    "for item in mylist:\n",
    "    print(item,end=', ')"
   ]
  },
  {
   "cell_type": "markdown",
   "id": "b2062ed3",
   "metadata": {},
   "source": [
    "To iterate over elements of a list using indexes:"
   ]
  },
  {
   "cell_type": "code",
   "execution_count": 29,
   "id": "b808a005",
   "metadata": {},
   "outputs": [
    {
     "name": "stdout",
     "output_type": "stream",
     "text": [
      "1, 2, 3, hello, world, "
     ]
    }
   ],
   "source": [
    "mylist=[1,2,3,'hello','world']\n",
    "for i in range(len(mylist)):\n",
    "    print(mylist[i],end=', ') "
   ]
  },
  {
   "cell_type": "markdown",
   "id": "07db6c2b",
   "metadata": {},
   "source": [
    "Example: Let's separate numbers from non-numbers"
   ]
  },
  {
   "cell_type": "code",
   "execution_count": 48,
   "id": "1a74d1f2",
   "metadata": {},
   "outputs": [
    {
     "name": "stdout",
     "output_type": "stream",
     "text": [
      "Numbers: [1, 21, 3.7, (4+5.6j)]\n",
      "Not-numbers: ['hello', 'world']\n"
     ]
    }
   ],
   "source": [
    "mylist=[1,21,3.7, 4+5.6j,'hello','world']\n",
    "numbers=[]\n",
    "not_numbers=[]\n",
    "for item in mylist:\n",
    "    tp=type(item)\n",
    "    if tp==int or tp==float or tp==complex:\n",
    "        numbers.append(item)\n",
    "    else:\n",
    "        not_numbers.append(item)\n",
    "print('Numbers:',numbers)\n",
    "print('Not-numbers:',not_numbers)"
   ]
  },
  {
   "cell_type": "code",
   "execution_count": null,
   "id": "9dd1d861",
   "metadata": {},
   "outputs": [],
   "source": []
  }
 ],
 "metadata": {
  "kernelspec": {
   "display_name": "Python 3 (ipykernel)",
   "language": "python",
   "name": "python3"
  },
  "language_info": {
   "codemirror_mode": {
    "name": "ipython",
    "version": 3
   },
   "file_extension": ".py",
   "mimetype": "text/x-python",
   "name": "python",
   "nbconvert_exporter": "python",
   "pygments_lexer": "ipython3",
   "version": "3.8.10"
  }
 },
 "nbformat": 4,
 "nbformat_minor": 5
}
