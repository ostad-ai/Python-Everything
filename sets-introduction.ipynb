{
 "cells": [
  {
   "cell_type": "markdown",
   "id": "f189c3fd",
   "metadata": {},
   "source": [
    "# Python: Everything\n",
    "- 13) Sets in Python: Introduction\n",
    "    - With an example on Jaccard distance\n",
    "<br>----------------------------------------------\n",
    "## هنگت‌ها در پایتون: آشنایی\n",
    "    - با یک نمونه روی دوری جکارد\n",
    "---\n",
    "By Hamed Shah-Hosseini\n",
    "<br>The whole code:\n",
    "    - https://github.com/ostad-ai/Python-Everything\n",
    "\n",
    " Explanation in **English**:\n",
    "    -    https://www.pinterest.com/HamedShahHosseini/programming-languages/python\n",
    "\n",
    " Explanation in **Persian**:\n",
    "     - https://www.instagram.com/words.persian"
   ]
  },
  {
   "cell_type": "markdown",
   "id": "a92677dd",
   "metadata": {},
   "source": [
    "To create an empty set: There is only one way\n",
    "<br>  تنها یک راه برای آفریدن یک هنگت تهی داریم:"
   ]
  },
  {
   "cell_type": "code",
   "execution_count": 1,
   "id": "d6d42a98",
   "metadata": {},
   "outputs": [
    {
     "name": "stdout",
     "output_type": "stream",
     "text": [
      "The empty set:  set()\n",
      "Length of an empty set is: 0\n"
     ]
    }
   ],
   "source": [
    "myset=set()\n",
    "print('The empty set: ',myset)\n",
    "print(f'Length of an empty set is: {len(myset)}')"
   ]
  },
  {
   "cell_type": "markdown",
   "id": "78beeaf8",
   "metadata": {},
   "source": [
    "To create and initialize a set: using curly brackets *{ }* or *set(iterable)*\n",
    "<br> برای آفریدن و آغازدهی یک هنگت، دو راه داریم:"
   ]
  },
  {
   "cell_type": "code",
   "execution_count": 3,
   "id": "e2fa4e97",
   "metadata": {},
   "outputs": [
    {
     "name": "stdout",
     "output_type": "stream",
     "text": [
      "{'egg', 'tomato', 'oil', 'potato'}\n",
      "{'onion', 'meat', 'oil'}\n"
     ]
    }
   ],
   "source": [
    "myset={'potato','tomato','oil','egg'}\n",
    "print(myset)\n",
    "myset2=set(['meat','oil','onion'])\n",
    "print(myset2)"
   ]
  },
  {
   "cell_type": "markdown",
   "id": "71985d4c",
   "metadata": {},
   "source": [
    "To access elements: using *for-loop*:<br>\n",
    "دسترسی سازه‌ها در یک هنگت را میتوان در یک چنبر، انجام داد:"
   ]
  },
  {
   "cell_type": "code",
   "execution_count": 7,
   "id": "0ddc46e1",
   "metadata": {},
   "outputs": [
    {
     "name": "stdout",
     "output_type": "stream",
     "text": [
      "It contains egg,\n",
      "It contains tomato,\n",
      "It contains oil,\n",
      "It contains potato,\n"
     ]
    }
   ],
   "source": [
    "# using for-loop\n",
    "myset={'potato','tomato','oil','egg'}\n",
    "for elem in myset:\n",
    "    print(f'It contains {elem},')"
   ]
  },
  {
   "cell_type": "markdown",
   "id": "574d3a0b",
   "metadata": {},
   "source": [
    "To add elements or remove them, we use *add* and *remove* (or *discard*): <br>\n",
    "افزودن  یا کاستن سازه‌ها:"
   ]
  },
  {
   "cell_type": "code",
   "execution_count": 14,
   "id": "f82c994a",
   "metadata": {},
   "outputs": [
    {
     "name": "stdout",
     "output_type": "stream",
     "text": [
      "The set before adding:  {'egg', 'tomato', 'oil', 'potato'}\n",
      "The set after adding meat:  {'potato', 'egg', 'oil', 'meat', 'tomato'}\n",
      "The set after removing egg:  {'potato', 'oil', 'meat', 'tomato'}\n"
     ]
    }
   ],
   "source": [
    "myset={'potato','tomato','oil','egg'}\n",
    "print('The set before adding: ',myset)\n",
    "elem='meat'\n",
    "myset.add(elem)\n",
    "print(f'The set after adding {elem}: ',myset)\n",
    "elem='egg'\n",
    "myset.remove(elem) # could use discard\n",
    "print(f'The set after removing {elem}: ',myset)"
   ]
  },
  {
   "cell_type": "markdown",
   "id": "e7fc17b5",
   "metadata": {},
   "source": [
    "We can do set operations on sets in Python:<br>\n",
    "میتوانیم راه‌اندازشهای هنگت را، روی هنگت‌ها در پایتون انجام دهیم:"
   ]
  },
  {
   "cell_type": "code",
   "execution_count": 24,
   "id": "b5b46206",
   "metadata": {},
   "outputs": [
    {
     "name": "stdout",
     "output_type": "stream",
     "text": [
      "Union of the sets:  {'onion', 'oil', 'potato', 'meat', 'egg', 'tomato'}\n",
      "Intersection of the sets:  {'oil'}\n",
      "Set difference:  {'egg', 'tomato', 'potato'}\n",
      "symmetric set difference:  {'potato', 'egg', 'onion', 'meat', 'tomato'}\n"
     ]
    }
   ],
   "source": [
    "A={'potato','tomato','oil','egg'}\n",
    "B={'meat','oil','onion'}\n",
    "print('Union of the sets: ',A|B)\n",
    "print('Intersection of the sets: ',A&B)\n",
    "print('Set difference: ',A-B)\n",
    "print('symmetric set difference: ',A^B)"
   ]
  },
  {
   "cell_type": "markdown",
   "id": "8dbe6fc4",
   "metadata": {},
   "source": [
    "We may use functions such as *union*, *intersection* instead of operators:<br>\n",
    "ما میتوانیم از کارکنش‌ها بهره بگیریم، به جای راه‌اندازگرها:"
   ]
  },
  {
   "cell_type": "code",
   "execution_count": 50,
   "id": "b35f1f65",
   "metadata": {},
   "outputs": [
    {
     "name": "stdout",
     "output_type": "stream",
     "text": [
      "Union of the sets:  {'onion', 'oil', 'potato', 'meat', 'egg', 'tomato'}\n",
      "Intersection of the sets:  {'oil'}\n",
      "Set difference:  {'egg', 'tomato', 'potato'}\n",
      "symmetric set difference:  {'potato', 'egg', 'onion', 'meat', 'tomato'}\n"
     ]
    }
   ],
   "source": [
    "A={'potato','tomato','oil','egg'}\n",
    "B={'meat','oil','onion'}\n",
    "print('Union of the sets: ',A.union(B))\n",
    "print('Intersection of the sets: ',A.intersection(B))\n",
    "print('Set difference: ',A.difference(B))\n",
    "print('symmetric set difference: ',A.symmetric_difference(B))"
   ]
  },
  {
   "cell_type": "markdown",
   "id": "136b1de1",
   "metadata": {},
   "source": [
    "To copy a set, or clear a set:<br>\n",
    "    برای رونوشت از یک هنگت، یا پاک کردن آن"
   ]
  },
  {
   "cell_type": "code",
   "execution_count": 29,
   "id": "b02995f7",
   "metadata": {},
   "outputs": [
    {
     "name": "stdout",
     "output_type": "stream",
     "text": [
      "ID=82184224 for {'one', 'three', 'two'}\n",
      "ID=82184448 for {'one', 'three', 'two'}\n",
      "The set after clearing becomes empty:  set()\n"
     ]
    }
   ],
   "source": [
    "#using built-in function copy()\n",
    "myset={'one','two','three'}\n",
    "myset2=myset.copy()\n",
    "print(f'ID={id(myset)} for {myset}')\n",
    "print(f'ID={id(myset2)} for {myset2}')\n",
    "#--to clear a set\n",
    "myset.clear()\n",
    "print('The set after clearing becomes empty: ',myset)"
   ]
  },
  {
   "cell_type": "markdown",
   "id": "948b2468",
   "metadata": {},
   "source": [
    "## Jaccard distance\n",
    "Let's compute Jaccard distance between two sets:<br>\n",
    "$distance(A,B)=1-\\frac{|A \\cap B|}{|A \\cup B|}$<br>\n",
    "The more similar the two sets, the closer the distance to zero. The maximum value of Jaccard distance is one.<br>\n",
    "بیاییم دوری جکارد میان دو هنگت را رایانش کنیم:<br>\n",
    "هر چه دو هنگت، مانندتر باشند؛ دوری جکارد، به صفر، نزدیکتر خواهد بود<br>\n",
    "ارزش بیشینه دوری جکارد، یک است"
   ]
  },
  {
   "cell_type": "code",
   "execution_count": 55,
   "id": "39ad342c",
   "metadata": {},
   "outputs": [
    {
     "name": "stdout",
     "output_type": "stream",
     "text": [
      "Set 1:  {'make', 'with', 'sentence', 'this', 'no', 'is', 'it', 'to', 'simple', 'punctuations'}\n",
      "------\n",
      "Set 2:  {'next', 'results', 'on', 'the', 'sentence', 'mentioned', 'this', 'is', 'in', 'topic'}\n",
      "---------------\n",
      "Jaccard distance between the two sets:  0.8235294117647058\n"
     ]
    }
   ],
   "source": [
    "# Jaccard distance\n",
    "def JaccardD(A,B): #A and B are sets\n",
    "    return 1-len(A&B)/len(A|B)\n",
    "# let's compare the distance between the two following sentences\n",
    "# بیاییم دوری میان دو سَهمان زیر را رایانش کنیم\n",
    "sentence1='This is sentence with no punctuations to make it simple'\n",
    "sentence2='The results on this topic is mentioned in the next sentence'\n",
    "#---converting sentence to set\n",
    "set1=set(sentence1.lower().split())\n",
    "print('Set 1: ',set1)\n",
    "print('------')\n",
    "set2=set(sentence2.lower().split())\n",
    "print('Set 2: ',set2)\n",
    "print('---------------')\n",
    "print(\"Jaccard distance between the two sets: \", JaccardD(set1,set2))"
   ]
  },
  {
   "cell_type": "markdown",
   "id": "99ae0a1d",
   "metadata": {},
   "source": [
    "## frozenset in Python\n",
    "Let's mention about the frozenset, which is set in Python, which after creation, you cannot even remove or add elements:<br>\n",
    "بیاببم درباره هنگت‌یخزده، یادآوری کنیم که گونه‌ای هنگت در پایتون است، که پس از آفریده شدن، نمیتوان سازه به آن افزود، و یا سازه از آن برداشت:"
   ]
  },
  {
   "cell_type": "code",
   "execution_count": 59,
   "id": "099dc3e2",
   "metadata": {},
   "outputs": [],
   "source": [
    "fset=frozenset(['hello','world','you', 'cannot', 'change', 'me'])\n",
    "# the following statement gives AttributeError\n",
    "#fset.add('bye')"
   ]
  },
  {
   "cell_type": "code",
   "execution_count": null,
   "id": "e43c1dc1",
   "metadata": {},
   "outputs": [],
   "source": []
  }
 ],
 "metadata": {
  "kernelspec": {
   "display_name": "Python 3 (ipykernel)",
   "language": "python",
   "name": "python3"
  },
  "language_info": {
   "codemirror_mode": {
    "name": "ipython",
    "version": 3
   },
   "file_extension": ".py",
   "mimetype": "text/x-python",
   "name": "python",
   "nbconvert_exporter": "python",
   "pygments_lexer": "ipython3",
   "version": "3.8.10"
  }
 },
 "nbformat": 4,
 "nbformat_minor": 5
}
