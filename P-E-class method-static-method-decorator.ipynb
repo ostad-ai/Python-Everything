{
 "cells": [
  {
   "cell_type": "markdown",
   "id": "36a1f299",
   "metadata": {},
   "source": [
    "# Python Everything\n",
    "- 16) **Types of methods in python**: Instance method, class method, and static method\n",
    "Instagram: @words.persian\n",
    "<br> https://github.com/ostad-ai/Python-Everything\n",
    "<br>https://www.pinterest.com/HamedShahHosseini/programming-languages/python"
   ]
  },
  {
   "cell_type": "markdown",
   "id": "b10838cc",
   "metadata": {},
   "source": [
    "**Instance method**: is a function that takes the class instance as its first parameter, and it may take more parameters. An instance method has access to all methods and variables of the same instance, as well as access to the class itself.<br>\n",
    "روش گونه‌سار: یک کارکنشی است که گونه‌سار رده را به نشانِ نخستینِ پَراسنجه خود میگیرد، و شاید پراسنجه‌های دیگری هم بگیرد. یک روش گونه‌سار، به همه روشها و دگرنده‌های همان گونه‌سار، دسترسی دارد؛ همچنین، به خود رده دسترسی دارد"
   ]
  },
  {
   "cell_type": "code",
   "execution_count": 1,
   "id": "1dc4554d",
   "metadata": {},
   "outputs": [],
   "source": [
    "# A class with instance methods\n",
    "# رده‌ای با روشهای گونه‌سار\n",
    "class Person:    \n",
    "    def __init__(self,name,age): #instance (contructor) method\n",
    "        self.name=name #instance variable\n",
    "        self.age=age   #instance variable\n",
    "    def display(self): #instance method\n",
    "        print(f'name is: {self.name}, and age is: {self.age}')"
   ]
  },
  {
   "cell_type": "code",
   "execution_count": 2,
   "id": "05dbef14",
   "metadata": {},
   "outputs": [
    {
     "name": "stdout",
     "output_type": "stream",
     "text": [
      "name is: Bahram, and age is: 27\n"
     ]
    }
   ],
   "source": [
    "# Creating an instance of the class\n",
    "# and calling an instance method of it\n",
    "# آفریدن یک گونه‌سار از رده\n",
    "# و فراخوانیِ یک روش گونه‌ساز از آن\n",
    "person1=Person('Bahram','27')\n",
    "person1.display()"
   ]
  },
  {
   "cell_type": "markdown",
   "id": "fc596058",
   "metadata": {},
   "source": [
    "**Class method:** is a function that is shared by all instances of the class and can only access class variables. The first paremeter is the **class** itself.<br>\n",
    "روش رده: یک کارکنش که با همه گونه‌سارهای رده، همبخشی میشود؛ و تنها به دگرنده‌های رده، دسترسی دارد. نخستین پَراسنجه آن، خود رده است\n",
    "<br>**Static method:** is a function that is shared by all instances of the class but can not access any variables of the class.<br>\n",
    "روش ایستا: یک کارکنش که با همه گونه‌سارهای رده، همبخشی میشود؛ ولی به هیچ دگرنده‌ای از رده، دسترسی ندارد\n",
    "<br>**Decorator:** is used to modify the behavior of a function (method) or class.<br>\n",
    "آذینگر: برای سنجیده‌سازی رفتار یک کارکنش (روش) یا رده، به کار میرود\n",
    "<br>Here, we use decorators *@classmethod* and *@staticmethod* to modify the functions to become class method and static method, respectively.<br>\n",
    "اینجا، از آذینگرهای کلس‌متد و استتیک‌متد برای سنجیده‌سازی کارکنشها (روشها) بهره میگیریم تا به چیدمان، آنها، روشِ رده و روشِ ایستا، بشوند"
   ]
  },
  {
   "cell_type": "code",
   "execution_count": 3,
   "id": "de551617",
   "metadata": {},
   "outputs": [],
   "source": [
    "import datetime\n",
    "# A class with class and static methods\n",
    "# رده‌ای با روشهای رده و ایستا\n",
    "class WeekDays:\n",
    "    wk={'Saturday':'شنبه', 'Sunday':'یکشنبه','Monday':'دوشنبه',\n",
    "    'Tuesday':'سه‌شنبه','Wednesday':'چهارشنبه','Thurdays':'پنجشنبه',\n",
    "    'Friday':'آدینه'}   #class variable\n",
    "    @classmethod\n",
    "    def today_persian(cls): #class method\n",
    "        print('امروز %s است' % cls.wk[datetime.datetime.now().strftime('%A')])\n",
    "    @staticmethod\n",
    "    def today_english():  #static method\n",
    "        print('Today is %s' % datetime.datetime.now().strftime('%A'))"
   ]
  },
  {
   "cell_type": "code",
   "execution_count": 4,
   "id": "e88eca26",
   "metadata": {},
   "outputs": [
    {
     "name": "stdout",
     "output_type": "stream",
     "text": [
      "امروز سه‌شنبه است\n",
      "Today is Tuesday\n"
     ]
    }
   ],
   "source": [
    "# Calling class method, then static method\n",
    "# فراخوانی روشِ رده، و سپس، روش ایستا\n",
    "WeekDays.today_persian()\n",
    "WeekDays.today_english()"
   ]
  },
  {
   "cell_type": "code",
   "execution_count": null,
   "id": "32418798",
   "metadata": {},
   "outputs": [],
   "source": []
  }
 ],
 "metadata": {
  "kernelspec": {
   "display_name": "Python 3 (ipykernel)",
   "language": "python",
   "name": "python3"
  },
  "language_info": {
   "codemirror_mode": {
    "name": "ipython",
    "version": 3
   },
   "file_extension": ".py",
   "mimetype": "text/x-python",
   "name": "python",
   "nbconvert_exporter": "python",
   "pygments_lexer": "ipython3",
   "version": "3.8.10"
  }
 },
 "nbformat": 4,
 "nbformat_minor": 5
}
