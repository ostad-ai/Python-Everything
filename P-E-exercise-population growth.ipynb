{
 "cells": [
  {
   "cell_type": "markdown",
   "id": "301cc665",
   "metadata": {},
   "source": [
    "# Python Everything, exercise\n",
    "- 33) **Population growth in python** using the following formula:\n",
    "\n",
    "$p(n)=(1+r)^np_0$\n",
    "<br>Here, $p(n)$ is the population after $n$ years. $p_0$ is the current population.\n",
    "<br>$r$ is the growth rate. And $n$ is the number of years from now.\n",
    "<br> https://github.com/ostad-ai/Python-Everything\n",
    "<br>Explanation in **Persian** at Instagram: **@words.persian**"
   ]
  },
  {
   "cell_type": "code",
   "execution_count": 1,
   "id": "38209f73",
   "metadata": {},
   "outputs": [],
   "source": [
    "from math import log"
   ]
  },
  {
   "cell_type": "code",
   "execution_count": 2,
   "id": "d30da102",
   "metadata": {},
   "outputs": [],
   "source": [
    "# the growth rate is in percentage, and is for a year\n",
    "# so, in the functions below, we divide it by 100\n",
    "\n",
    "# what is the population with \n",
    "# this growth rate after these years\n",
    "def pop_future(growth_rate_percent=1,p0=10,next_years=2):\n",
    "    p_new=1+growth_rate_percent/100\n",
    "    return p0*p_new**next_years\n",
    "\n",
    "# how many years from now with this growth rate, \n",
    "# the population reaches the future population\n",
    "def when_pop_future(growth_rate_percent=1,p0=10,p_future=20):\n",
    "    return (log(p_future)-log(p0))/log(1+growth_rate_percent/100)"
   ]
  },
  {
   "cell_type": "code",
   "execution_count": 3,
   "id": "8d858a4c",
   "metadata": {},
   "outputs": [
    {
     "name": "stdout",
     "output_type": "stream",
     "text": [
      "The population after 9 years is: 100.60851509373732\n",
      "---------------------------------\n",
      "The population with the growth rate 1.06,\n",
      "becomes double after 65.73720798278373 years!\n"
     ]
    }
   ],
   "source": [
    "p_init=91.5 # initial population\n",
    "gRate=1.06 # the growth rate percentage\n",
    "years=9\n",
    "print(f'The population after {years} years is: {pop_future(gRate,p_init,years)}')\n",
    "print('---------------------------------')\n",
    "print(f'The population with the growth rate {gRate},')\n",
    "print(f'becomes double after {when_pop_future(gRate)} years!')"
   ]
  },
  {
   "cell_type": "code",
   "execution_count": null,
   "id": "1e4479bb",
   "metadata": {},
   "outputs": [],
   "source": []
  }
 ],
 "metadata": {
  "kernelspec": {
   "display_name": "Python 3 (ipykernel)",
   "language": "python",
   "name": "python3"
  },
  "language_info": {
   "codemirror_mode": {
    "name": "ipython",
    "version": 3
   },
   "file_extension": ".py",
   "mimetype": "text/x-python",
   "name": "python",
   "nbconvert_exporter": "python",
   "pygments_lexer": "ipython3",
   "version": "3.11.1"
  }
 },
 "nbformat": 4,
 "nbformat_minor": 5
}
