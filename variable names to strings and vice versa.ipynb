{
 "cells": [
  {
   "cell_type": "markdown",
   "metadata": {},
   "source": [
    "# Python: Everything\n",
    "- 11) Exercise: converting variable name to string and vice versa using *globals()*\n",
    "## وَرزه: دگرسان کردن نام دگرنده به رشته، و وارونه اینکار\n",
    "<br>----------------------------------------------\n",
    "<br> By Hamed Shah-Hosseini\n",
    "<br> https://github.com/ostad-ai/Python-Everything"
   ]
  },
  {
   "cell_type": "markdown",
   "metadata": {},
   "source": [
    "To convert string to variable name and vice versa<br>\n",
    "برای دگرسان کردن یک رشته به نام دگرنده، و وارونه اینکار"
   ]
  },
  {
   "cell_type": "code",
   "execution_count": null,
   "metadata": {},
   "outputs": [],
   "source": [
    "#convert variable name, var_name, to its string format\n",
    "def varname2string(var_name):\n",
    "    return [key for key,value in globals().items() if value is var_name][0]\n",
    "\n",
    "#to convert a string to a variable name, and assgin a value to it\n",
    "def string2varname(str_name,value=None):\n",
    "    globals()[str_name]=value"
   ]
  },
  {
   "cell_type": "markdown",
   "metadata": {},
   "source": [
    "ٍExample: variable name to string<br>\n",
    "نمونه: نام دگرنده به رشته"
   ]
  },
  {
   "cell_type": "code",
   "execution_count": 12,
   "metadata": {},
   "outputs": [
    {
     "data": {
      "text/plain": [
       "'hello'"
      ]
     },
     "execution_count": 12,
     "metadata": {},
     "output_type": "execute_result"
    }
   ],
   "source": [
    "hello=[1,2,3,4,5]\n",
    "varname2string(hello)"
   ]
  },
  {
   "cell_type": "markdown",
   "metadata": {},
   "source": [
    "Example: string to variable name<br>\n",
    "نمونه: رشته به نام دگرنده"
   ]
  },
  {
   "cell_type": "code",
   "execution_count": 13,
   "metadata": {},
   "outputs": [
    {
     "data": {
      "text/plain": [
       "[6, 7, 8, 9, 10]"
      ]
     },
     "execution_count": 13,
     "metadata": {},
     "output_type": "execute_result"
    }
   ],
   "source": [
    "string2varname('world',[6,7,8,9,10])\n",
    "world"
   ]
  },
  {
   "cell_type": "markdown",
   "metadata": {},
   "source": [
    "Example: another example to show variable name to string<br>\n",
    "نمونه: نمونه دیگری برای نمایش نام دگرنده به رشته"
   ]
  },
  {
   "cell_type": "code",
   "execution_count": 17,
   "metadata": {},
   "outputs": [
    {
     "name": "stdout",
     "output_type": "stream",
     "text": [
      "negative + positive: [-3, -2, -1, 1, 2, 3]\n"
     ]
    }
   ],
   "source": [
    "negative=[-3,-2,-1]\n",
    "positive=[1,2,3]\n",
    "print(varname2string(negative)+' + '+varname2string(positive)+':',negative+positive)"
   ]
  },
  {
   "cell_type": "code",
   "execution_count": null,
   "metadata": {},
   "outputs": [],
   "source": []
  }
 ],
 "metadata": {
  "kernelspec": {
   "display_name": "Python 3",
   "language": "python",
   "name": "python3"
  },
  "language_info": {
   "codemirror_mode": {
    "name": "ipython",
    "version": 3
   },
   "file_extension": ".py",
   "mimetype": "text/x-python",
   "name": "python",
   "nbconvert_exporter": "python",
   "pygments_lexer": "ipython3",
   "version": "3.8.3"
  }
 },
 "nbformat": 4,
 "nbformat_minor": 5
}
