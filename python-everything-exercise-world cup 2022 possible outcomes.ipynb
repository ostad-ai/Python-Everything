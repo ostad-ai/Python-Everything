{
 "cells": [
  {
   "cell_type": "markdown",
   "id": "0da41340",
   "metadata": {},
   "source": [
    "# Python: Everything\n",
    "- 17) **Exercise:** Computing the probability of the final ranking for the FIFA World cup 2022, knowing semifinal matches:<br>\n",
    "ورزه: رایانش شکیبمندی رده‌بندی پایانی جام جهانی پاتوپ دو هزار و بیست و دو، با دانستن پیکارهای نیمه-پایانی\n",
    "<br>----------------------------------------------\n",
    "<br>https://github.com/ostad-ai/Python-Everything"
   ]
  },
  {
   "cell_type": "code",
   "execution_count": 1,
   "id": "b21c1b53",
   "metadata": {},
   "outputs": [],
   "source": [
    "# importing modules\n",
    "# درونبری سنجانه‌ها\n",
    "from itertools import permutations\n",
    "from fractions import Fraction"
   ]
  },
  {
   "cell_type": "code",
   "execution_count": 2,
   "id": "d1dc4bb4",
   "metadata": {},
   "outputs": [],
   "source": [
    "# computing permutations of ranking of four teams\n",
    "# then excluding impossible outcomes based on semi-final matches\n",
    "# رایانش جایگشت رده‌بندی چهار تیم\n",
    "# سپس، برون‌گذاری پیشامدهای نشدنی، برپایه پیکارهای نیمه-پایانی\n",
    "def prob_knowing_semifinals(elements,semi_finals):\n",
    "    pers=list(permutations(elements))\n",
    "    excludes=[]\n",
    "    for outcome in pers:\n",
    "        for match in semi_finals:\n",
    "            if (outcome[0]==match[0] and outcome[1]==match[1]) or\\\n",
    "               (outcome[0]==match[1] and outcome[1]==match[0]):\n",
    "                excludes.append(outcome)    \n",
    "    valids=set(pers)-set(excludes)\n",
    "    return valids,Fraction(1,len(valids))"
   ]
  },
  {
   "cell_type": "code",
   "execution_count": 3,
   "id": "ef0692c9",
   "metadata": {},
   "outputs": [
    {
     "name": "stdout",
     "output_type": "stream",
     "text": [
      "Probability of a ranking event: 1/16\n",
      "Valid outcomes:\n",
      " {('CRO', 'MAR', 'ARG', 'FRA'), ('FRA', 'CRO', 'MAR', 'ARG'), ('MAR', 'CRO', 'ARG', 'FRA'), ('ARG', 'FRA', 'CRO', 'MAR'), ('ARG', 'FRA', 'MAR', 'CRO'), ('MAR', 'ARG', 'CRO', 'FRA'), ('ARG', 'MAR', 'FRA', 'CRO'), ('CRO', 'FRA', 'MAR', 'ARG'), ('ARG', 'MAR', 'CRO', 'FRA'), ('FRA', 'ARG', 'CRO', 'MAR'), ('FRA', 'ARG', 'MAR', 'CRO'), ('MAR', 'ARG', 'FRA', 'CRO'), ('CRO', 'FRA', 'ARG', 'MAR'), ('MAR', 'CRO', 'FRA', 'ARG'), ('FRA', 'CRO', 'ARG', 'MAR'), ('CRO', 'MAR', 'FRA', 'ARG')}\n"
     ]
    }
   ],
   "source": [
    "# using above function\n",
    "# بهره‌گیری از کارکنش بالا\n",
    "# FRA=France, ARG=Argentina, CRO=Croatia, MAR=Morocco\n",
    "elements=['FRA','ARG','CRO','MAR']\n",
    "semi_finals=[['FRA','MAR'],['ARG','CRO']]\n",
    "valids,prob=prob_knowing_semifinals(elements,semi_finals)\n",
    "print('Probability of a ranking event:',prob)\n",
    "print('Valid outcomes:\\n',valids)"
   ]
  },
  {
   "cell_type": "code",
   "execution_count": null,
   "id": "511a84bc",
   "metadata": {},
   "outputs": [],
   "source": []
  }
 ],
 "metadata": {
  "kernelspec": {
   "display_name": "Python 3",
   "language": "python",
   "name": "python3"
  },
  "language_info": {
   "codemirror_mode": {
    "name": "ipython",
    "version": 3
   },
   "file_extension": ".py",
   "mimetype": "text/x-python",
   "name": "python",
   "nbconvert_exporter": "python",
   "pygments_lexer": "ipython3",
   "version": "3.8.3"
  }
 },
 "nbformat": 4,
 "nbformat_minor": 5
}
