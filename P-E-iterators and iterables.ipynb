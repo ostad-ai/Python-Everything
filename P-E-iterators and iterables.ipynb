{
 "cells": [
  {
   "cell_type": "markdown",
   "id": "b3c0145c",
   "metadata": {},
   "source": [
    "# Python: Everything\n",
    "- 25) **Iterators and iterables:** \n",
    "<br>----------------------------------------------\n",
    "<br> https://www.pinterest.com/HamedShahHosseini/programming-languages/\n",
    "<br>https://github.com/ostad-ai/Python-Everything"
   ]
  },
  {
   "cell_type": "markdown",
   "id": "35474859",
   "metadata": {},
   "source": [
    "**Iterator:** is an object that allows us to iterate over collections of data. Therefore, the data is traversed or accessed one item at a time by an iterator.\n",
    "<br>An iterator class must implement two special methods **iter** and **next**.\n",
    "<br> **iter** is called to initialize the iterator, and it must return the iterator object.\n",
    "<br> **next** is called to iterate over the iterator, and must return the next value in the given data stream."
   ]
  },
  {
   "cell_type": "markdown",
   "id": "68263de5",
   "metadata": {},
   "source": [
    "In contrast, we have iterables, which we can get an iterator from by using the iter() method. it also supports next() method, which returns the next value in the iterable.\n",
    "<br> Lists, sets, tuples, strings, and dictionaries are all iterables."
   ]
  },
  {
   "cell_type": "markdown",
   "id": "8d2a1b9c",
   "metadata": {},
   "source": [
    "In the following, we define a list, and see the use of iter() and next() methods"
   ]
  },
  {
   "cell_type": "code",
   "execution_count": 1,
   "id": "a32fc742",
   "metadata": {},
   "outputs": [
    {
     "name": "stdout",
     "output_type": "stream",
     "text": [
      "hello, world, then, bye, "
     ]
    }
   ],
   "source": [
    "mylist=['hello','world','then','bye']\n",
    "myiter=iter(mylist)\n",
    "while True:\n",
    "    try:\n",
    "        print(next(myiter),end=', ')\n",
    "    except:\n",
    "        break"
   ]
  },
  {
   "cell_type": "markdown",
   "id": "e8735221",
   "metadata": {},
   "source": [
    "The easy way to traverse over elements of an iterable is using for-loop"
   ]
  },
  {
   "cell_type": "code",
   "execution_count": 2,
   "id": "221b79d6",
   "metadata": {},
   "outputs": [
    {
     "name": "stdout",
     "output_type": "stream",
     "text": [
      "hello, world, then, bye, "
     ]
    }
   ],
   "source": [
    "mylist=['hello','world','then','bye']\n",
    "for el in mylist:\n",
    "    print(el,end=', ')"
   ]
  },
  {
   "cell_type": "markdown",
   "id": "1d60f725",
   "metadata": {},
   "source": [
    "Let's define an iterator class, which must implement iter() and next() methods.\n",
    "<br> We may have at least three different types of custom iterators:\n",
    "1. Take a data sequence, and return its items, one at a time\n",
    "2. Take a data sequence, transform each item, and return the trasnformed item, one after the other.\n",
    "3. Generate a new sequence of data, and return its items one after the other."
   ]
  },
  {
   "cell_type": "code",
   "execution_count": 3,
   "id": "f0078a85",
   "metadata": {},
   "outputs": [
    {
     "name": "stdout",
     "output_type": "stream",
     "text": [
      "1, 3, 5, 7, 9, 11, 13, 15, 17, 19, "
     ]
    }
   ],
   "source": [
    "# a class that generates odd numbers\n",
    "class oddNumbers:\n",
    "    def __init__(self,start=1):\n",
    "        self._number=start\n",
    "    def __iter__(self):\n",
    "        return self\n",
    "    def __next__(self):\n",
    "        item=self._number\n",
    "        self._number+=2\n",
    "        return item\n",
    "odds=iter(oddNumbers())\n",
    "for i in range(10):\n",
    "    print(next(odds),end=', ')"
   ]
  },
  {
   "cell_type": "markdown",
   "id": "9f3ea82d",
   "metadata": {},
   "source": [
    "The oodNumbers class runs for ever, so if we use it in a for loop, it never ends. <br> To have a limit on the length of the sequence, we may use **StopIteration** with keyword raise."
   ]
  },
  {
   "cell_type": "code",
   "execution_count": 4,
   "id": "87da7a5d",
   "metadata": {},
   "outputs": [
    {
     "name": "stdout",
     "output_type": "stream",
     "text": [
      "1, 3, 5, 7, 9, 11, 13, 15, 17, 19, "
     ]
    }
   ],
   "source": [
    "# a class that generates odd numbers with a limit\n",
    "class oddNumbers2:\n",
    "    def __init__(self,start=1,Nelements=10):\n",
    "        self._number=start\n",
    "        self._length=Nelements\n",
    "        self._index=0\n",
    "    def __iter__(self):\n",
    "        return self\n",
    "    def __next__(self):\n",
    "        if self._index<self._length:\n",
    "            item=self._number\n",
    "            self._number+=2\n",
    "            self._index+=1\n",
    "            return item\n",
    "        else:\n",
    "            raise StopIteration\n",
    "odds2=oddNumbers2()\n",
    "for odd in odds2:\n",
    "    print(odd,end=', ')"
   ]
  },
  {
   "cell_type": "code",
   "execution_count": null,
   "id": "22275727",
   "metadata": {},
   "outputs": [],
   "source": []
  }
 ],
 "metadata": {
  "kernelspec": {
   "display_name": "Python 3 (ipykernel)",
   "language": "python",
   "name": "python3"
  },
  "language_info": {
   "codemirror_mode": {
    "name": "ipython",
    "version": 3
   },
   "file_extension": ".py",
   "mimetype": "text/x-python",
   "name": "python",
   "nbconvert_exporter": "python",
   "pygments_lexer": "ipython3",
   "version": "3.11.1"
  }
 },
 "nbformat": 4,
 "nbformat_minor": 5
}
