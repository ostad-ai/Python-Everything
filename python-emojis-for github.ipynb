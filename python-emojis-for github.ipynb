{
 "cells": [
  {
   "cell_type": "markdown",
   "metadata": {},
   "source": [
    "### Python Everything:\n",
    "# 7) Emojis in Python\n",
    "\n",
    "# فَرتورَک‌ها در پایتون \n",
    "The code is at: https://github.com/ostad-ai/Python-Everything"
   ]
  },
  {
   "cell_type": "markdown",
   "metadata": {},
   "source": [
    "We can use hexadecimal unicodes<br>\n",
    "  میتوانیم یک-شناسه‌های شانزده-دهگانی را به کار ببریم "
   ]
  },
  {
   "cell_type": "code",
   "execution_count": 98,
   "metadata": {},
   "outputs": [
    {
     "name": "stdout",
     "output_type": "stream",
     "text": [
      "🦁 🦁 🦁 🦁 🦁 🦁 🦁 🦁 🦁 🦁 "
     ]
    }
   ],
   "source": [
    "# with hexadecimal unicode\n",
    "for i in range(10):\n",
    "    print('\\U0001F981',end=' ')"
   ]
  },
  {
   "cell_type": "markdown",
   "metadata": {},
   "source": [
    "Alos, we can use decimal unicodes<br>\n",
    "  همچنین، میتوانیم یک-شناسه‌های دهگانی را به کار ببریم"
   ]
  },
  {
   "cell_type": "code",
   "execution_count": 120,
   "metadata": {},
   "outputs": [
    {
     "name": "stdout",
     "output_type": "stream",
     "text": [
      "🦁 🦁 🦁 🦁 🦁 🦁 🦁 🦁 🦁 🦁 "
     ]
    }
   ],
   "source": [
    "# chr() returns the character specified \n",
    "# by the integer unicode\n",
    "for i in range(10):\n",
    "    print(chr(129409),end=' ')"
   ]
  },
  {
   "cell_type": "code",
   "execution_count": 122,
   "metadata": {},
   "outputs": [
    {
     "name": "stdout",
     "output_type": "stream",
     "text": [
      "🦁\n",
      "🦂 🦂\n",
      "🦃 🦃 🦃\n",
      "🦄 🦄 🦄 🦄\n",
      "🦅 🦅 🦅 🦅 🦅\n",
      "🦆\n",
      "🦇 🦇\n",
      "🦈 🦈 🦈\n",
      "🦉 🦉 🦉 🦉\n",
      "🦊 🦊 🦊 🦊 🦊\n",
      "🦋\n",
      "🦌 🦌\n",
      "🦍 🦍 🦍\n",
      "🦎 🦎 🦎 🦎\n",
      "🦏 🦏 🦏 🦏 🦏\n"
     ]
    }
   ],
   "source": [
    "# playing with the code\n",
    "for i in range(15):\n",
    "    print(*[chr(129409+i)]*(1+i%5))"
   ]
  },
  {
   "cell_type": "markdown",
   "metadata": {},
   "source": [
    "Using HTML to display Emojis\n",
    "<br> بهره‌گیری از اچ-تی-ام-ال برای نمایش فَرتورَک‌ها"
   ]
  },
  {
   "cell_type": "code",
   "execution_count": 179,
   "metadata": {},
   "outputs": [
    {
     "data": {
      "text/html": [
       "<span style=\"font-size:14.0px;\">&#128517;</span><span style=\"font-size:17.35597877022942px;\">&#128517;</span><span style=\"font-size:19.890296893655275px;\">&#128517;</span><span style=\"font-size:20.98246490622838px;\">&#128517;</span><span style=\"font-size:20.36508198777977px;\">&#128517;</span><span style=\"font-size:18.189305008727693px;\">&#128517;</span><span style=\"font-size:14.98784005641907px;\">&#128517;</span><span style=\"font-size:11.54451740617266px;\">&#128517;</span><span style=\"font-size:8.702382532844503px;\">&#128517;</span><span style=\"font-size:7.157289176344321px;\">&#128517;</span><span style=\"font-size:7.2875300773580305px;\">&#128517;</span><span style=\"font-size:9.061217721007257px;\">&#128517;</span><span style=\"font-size:12.044091512607519px;\">&#128517;</span><span style=\"font-size:15.505839916614708px;\">&#128517;</span><span style=\"font-size:18.598906191031524px;\">&#128517;</span><span style=\"font-size:20.56599983742317px;\">&#128517;</span><span style=\"font-size:20.925507726363673px;\">&#128517;</span><span style=\"font-size:19.58940978836443px;\">&#128517;</span><span style=\"font-size:16.884829396692297px;\">&#128517;</span><span style=\"font-size:13.473942156767334px;\">&#128517;</span><span style=\"font-size:10.191852223774411px;\">&#128517;</span><span style=\"font-size:7.84212968019831px;\">&#128517;</span><span style=\"font-size:7.000068554145075px;\">&#128517;</span><span style=\"font-size:7.871834777181px;\">&#128517;</span><span style=\"font-size:10.243989573996956px;\">&#128517;</span><span style=\"font-size:13.535746718541596px;\">&#128517;</span>"
      ],
      "text/plain": [
       "<IPython.core.display.HTML object>"
      ]
     },
     "metadata": {},
     "output_type": "display_data"
    },
    {
     "data": {
      "text/html": [
       "<span style=\"font-size:14.0px;\">&#128518;</span><span style=\"font-size:17.35597877022942px;\">&#128518;</span><span style=\"font-size:19.890296893655275px;\">&#128518;</span><span style=\"font-size:20.98246490622838px;\">&#128518;</span><span style=\"font-size:20.36508198777977px;\">&#128518;</span><span style=\"font-size:18.189305008727693px;\">&#128518;</span><span style=\"font-size:14.98784005641907px;\">&#128518;</span><span style=\"font-size:11.54451740617266px;\">&#128518;</span><span style=\"font-size:8.702382532844503px;\">&#128518;</span><span style=\"font-size:7.157289176344321px;\">&#128518;</span><span style=\"font-size:7.2875300773580305px;\">&#128518;</span><span style=\"font-size:9.061217721007257px;\">&#128518;</span><span style=\"font-size:12.044091512607519px;\">&#128518;</span><span style=\"font-size:15.505839916614708px;\">&#128518;</span><span style=\"font-size:18.598906191031524px;\">&#128518;</span><span style=\"font-size:20.56599983742317px;\">&#128518;</span><span style=\"font-size:20.925507726363673px;\">&#128518;</span><span style=\"font-size:19.58940978836443px;\">&#128518;</span><span style=\"font-size:16.884829396692297px;\">&#128518;</span><span style=\"font-size:13.473942156767334px;\">&#128518;</span><span style=\"font-size:10.191852223774411px;\">&#128518;</span><span style=\"font-size:7.84212968019831px;\">&#128518;</span><span style=\"font-size:7.000068554145075px;\">&#128518;</span><span style=\"font-size:7.871834777181px;\">&#128518;</span><span style=\"font-size:10.243989573996956px;\">&#128518;</span><span style=\"font-size:13.535746718541596px;\">&#128518;</span>"
      ],
      "text/plain": [
       "<IPython.core.display.HTML object>"
      ]
     },
     "metadata": {},
     "output_type": "display_data"
    },
    {
     "data": {
      "text/html": [
       "<span style=\"font-size:14.0px;\">&#128519;</span><span style=\"font-size:17.35597877022942px;\">&#128519;</span><span style=\"font-size:19.890296893655275px;\">&#128519;</span><span style=\"font-size:20.98246490622838px;\">&#128519;</span><span style=\"font-size:20.36508198777977px;\">&#128519;</span><span style=\"font-size:18.189305008727693px;\">&#128519;</span><span style=\"font-size:14.98784005641907px;\">&#128519;</span><span style=\"font-size:11.54451740617266px;\">&#128519;</span><span style=\"font-size:8.702382532844503px;\">&#128519;</span><span style=\"font-size:7.157289176344321px;\">&#128519;</span><span style=\"font-size:7.2875300773580305px;\">&#128519;</span><span style=\"font-size:9.061217721007257px;\">&#128519;</span><span style=\"font-size:12.044091512607519px;\">&#128519;</span><span style=\"font-size:15.505839916614708px;\">&#128519;</span><span style=\"font-size:18.598906191031524px;\">&#128519;</span><span style=\"font-size:20.56599983742317px;\">&#128519;</span><span style=\"font-size:20.925507726363673px;\">&#128519;</span><span style=\"font-size:19.58940978836443px;\">&#128519;</span><span style=\"font-size:16.884829396692297px;\">&#128519;</span><span style=\"font-size:13.473942156767334px;\">&#128519;</span><span style=\"font-size:10.191852223774411px;\">&#128519;</span><span style=\"font-size:7.84212968019831px;\">&#128519;</span><span style=\"font-size:7.000068554145075px;\">&#128519;</span><span style=\"font-size:7.871834777181px;\">&#128519;</span><span style=\"font-size:10.243989573996956px;\">&#128519;</span><span style=\"font-size:13.535746718541596px;\">&#128519;</span>"
      ],
      "text/plain": [
       "<IPython.core.display.HTML object>"
      ]
     },
     "metadata": {},
     "output_type": "display_data"
    },
    {
     "data": {
      "text/html": [
       "<span style=\"font-size:14.0px;\">&#128520;</span><span style=\"font-size:17.35597877022942px;\">&#128520;</span><span style=\"font-size:19.890296893655275px;\">&#128520;</span><span style=\"font-size:20.98246490622838px;\">&#128520;</span><span style=\"font-size:20.36508198777977px;\">&#128520;</span><span style=\"font-size:18.189305008727693px;\">&#128520;</span><span style=\"font-size:14.98784005641907px;\">&#128520;</span><span style=\"font-size:11.54451740617266px;\">&#128520;</span><span style=\"font-size:8.702382532844503px;\">&#128520;</span><span style=\"font-size:7.157289176344321px;\">&#128520;</span><span style=\"font-size:7.2875300773580305px;\">&#128520;</span><span style=\"font-size:9.061217721007257px;\">&#128520;</span><span style=\"font-size:12.044091512607519px;\">&#128520;</span><span style=\"font-size:15.505839916614708px;\">&#128520;</span><span style=\"font-size:18.598906191031524px;\">&#128520;</span><span style=\"font-size:20.56599983742317px;\">&#128520;</span><span style=\"font-size:20.925507726363673px;\">&#128520;</span><span style=\"font-size:19.58940978836443px;\">&#128520;</span><span style=\"font-size:16.884829396692297px;\">&#128520;</span><span style=\"font-size:13.473942156767334px;\">&#128520;</span><span style=\"font-size:10.191852223774411px;\">&#128520;</span><span style=\"font-size:7.84212968019831px;\">&#128520;</span><span style=\"font-size:7.000068554145075px;\">&#128520;</span><span style=\"font-size:7.871834777181px;\">&#128520;</span><span style=\"font-size:10.243989573996956px;\">&#128520;</span><span style=\"font-size:13.535746718541596px;\">&#128520;</span>"
      ],
      "text/plain": [
       "<IPython.core.display.HTML object>"
      ]
     },
     "metadata": {},
     "output_type": "display_data"
    },
    {
     "data": {
      "text/html": [
       "<span style=\"font-size:14.0px;\">&#128521;</span><span style=\"font-size:17.35597877022942px;\">&#128521;</span><span style=\"font-size:19.890296893655275px;\">&#128521;</span><span style=\"font-size:20.98246490622838px;\">&#128521;</span><span style=\"font-size:20.36508198777977px;\">&#128521;</span><span style=\"font-size:18.189305008727693px;\">&#128521;</span><span style=\"font-size:14.98784005641907px;\">&#128521;</span><span style=\"font-size:11.54451740617266px;\">&#128521;</span><span style=\"font-size:8.702382532844503px;\">&#128521;</span><span style=\"font-size:7.157289176344321px;\">&#128521;</span><span style=\"font-size:7.2875300773580305px;\">&#128521;</span><span style=\"font-size:9.061217721007257px;\">&#128521;</span><span style=\"font-size:12.044091512607519px;\">&#128521;</span><span style=\"font-size:15.505839916614708px;\">&#128521;</span><span style=\"font-size:18.598906191031524px;\">&#128521;</span><span style=\"font-size:20.56599983742317px;\">&#128521;</span><span style=\"font-size:20.925507726363673px;\">&#128521;</span><span style=\"font-size:19.58940978836443px;\">&#128521;</span><span style=\"font-size:16.884829396692297px;\">&#128521;</span><span style=\"font-size:13.473942156767334px;\">&#128521;</span><span style=\"font-size:10.191852223774411px;\">&#128521;</span><span style=\"font-size:7.84212968019831px;\">&#128521;</span><span style=\"font-size:7.000068554145075px;\">&#128521;</span><span style=\"font-size:7.871834777181px;\">&#128521;</span><span style=\"font-size:10.243989573996956px;\">&#128521;</span><span style=\"font-size:13.535746718541596px;\">&#128521;</span>"
      ],
      "text/plain": [
       "<IPython.core.display.HTML object>"
      ]
     },
     "metadata": {},
     "output_type": "display_data"
    }
   ],
   "source": [
    "from IPython.display import HTML,display\n",
    "from math import sin\n",
    "for k in range(5):\n",
    "    s=''; unicode=str(128517+k)\n",
    "    for i in range(26):\n",
    "        s+=f'<span style=\"font-size:{14+7*sin(i/2)}px;\">&#{unicode};</span>'\n",
    "    display(HTML(s))"
   ]
  },
  {
   "cell_type": "code",
   "execution_count": null,
   "metadata": {},
   "outputs": [],
   "source": []
  }
 ],
 "metadata": {
  "kernelspec": {
   "display_name": "Python 3",
   "language": "python",
   "name": "python3"
  },
  "language_info": {
   "codemirror_mode": {
    "name": "ipython",
    "version": 3
   },
   "file_extension": ".py",
   "mimetype": "text/x-python",
   "name": "python",
   "nbconvert_exporter": "python",
   "pygments_lexer": "ipython3",
   "version": "3.8.3"
  }
 },
 "nbformat": 4,
 "nbformat_minor": 4
}
