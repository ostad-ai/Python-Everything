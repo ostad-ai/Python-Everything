{
 "cells": [
  {
   "cell_type": "markdown",
   "metadata": {},
   "source": [
    "# Python: Everything\n",
    "- 4) Example: Solving Quadratic equation\n",
    "<br>----------------------------------------------\n",
    "<br> By Hamed Shah-Hosseini\n",
    "<br> https://github.com/ostad-ai/Python-Everything"
   ]
  },
  {
   "cell_type": "markdown",
   "metadata": {},
   "source": [
    "Quadratic equation: $ax^{2}+bx+c=0$ <br> is solved by: $x=\\frac{-b\\pm\\sqrt{b^{2}-4ac}}{2a}$"
   ]
  },
  {
   "cell_type": "code",
   "execution_count": 8,
   "metadata": {},
   "outputs": [],
   "source": [
    "from math import sqrt\n",
    "\n",
    "def quadratic(x,a,b,c):\n",
    "    return a*x**2+b*x+c\n",
    "\n",
    "def solveQ(a,b,c):\n",
    "    x=[None]*2\n",
    "    if a==0:\n",
    "        if b!=0:\n",
    "            x[0]=x[1]=-c/b\n",
    "    else:\n",
    "        delta=b**2-4*a*c\n",
    "        if delta>=0:\n",
    "            temp=sqrt(delta)\n",
    "            x[0]=(-b+temp)/(2*a)\n",
    "            x[1]=(-b-temp)/(2*a)\n",
    "    return x"
   ]
  },
  {
   "cell_type": "code",
   "execution_count": 13,
   "metadata": {},
   "outputs": [
    {
     "name": "stdout",
     "output_type": "stream",
     "text": [
      "solutions:  -3.0 -5.0\n"
     ]
    }
   ],
   "source": [
    "a,b,c=[1,8,15]\n",
    "x=solveQ(a,b,c)\n",
    "if x[0] is None:\n",
    "    print('No real solution')\n",
    "else:\n",
    "    print('solutions: ',x[0],x[1])"
   ]
  },
  {
   "cell_type": "code",
   "execution_count": null,
   "metadata": {},
   "outputs": [],
   "source": []
  }
 ],
 "metadata": {
  "kernelspec": {
   "display_name": "Python 3",
   "language": "python",
   "name": "python3"
  },
  "language_info": {
   "codemirror_mode": {
    "name": "ipython",
    "version": 3
   },
   "file_extension": ".py",
   "mimetype": "text/x-python",
   "name": "python",
   "nbconvert_exporter": "python",
   "pygments_lexer": "ipython3",
   "version": "3.8.3"
  }
 },
 "nbformat": 4,
 "nbformat_minor": 5
}
