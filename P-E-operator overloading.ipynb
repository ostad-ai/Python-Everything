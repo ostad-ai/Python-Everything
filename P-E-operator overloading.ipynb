{
 "cells": [
  {
   "cell_type": "markdown",
   "id": "676f2fa1",
   "metadata": {},
   "source": [
    "# Python: Everything\n",
    "- 22) **Operator overloading:** Defining custom behaviors for built-in operators <br>\n",
    "سَربارکردن راه‌اندازگر: شناساندن رفتارهای سفارشی برای راه‌اندازگرهای درون-ساخته\n",
    "<br>----------------------------------------------\n",
    "<br> Instagram: @words.persian\n",
    "<br>https://github.com/ostad-ai/Python-Everything\n",
    "<br>https://www.pinterest.com/HamedShahHosseini/programming-languages/python"
   ]
  },
  {
   "cell_type": "code",
   "execution_count": 75,
   "id": "6744d3bb",
   "metadata": {},
   "outputs": [
    {
     "data": {
      "text/plain": [
       "(True, True)"
      ]
     },
     "execution_count": 75,
     "metadata": {},
     "output_type": "execute_result"
    }
   ],
   "source": [
    "# operator == invokes its special method --eq--\n",
    "# راه‌اندازگر ==، روش ویژه خود را درمیخواند\n",
    "5==(2+3) , (5).__eq__(2+3) "
   ]
  },
  {
   "cell_type": "markdown",
   "id": "416dd72f",
   "metadata": {},
   "source": [
    "Let's define an *equality* operator, which returns *True* if two values are *almost equal*. <br>\n",
    "We need to implement method *--eq--* in our class to replace the normal operator ==<br>\n",
    "بیاییم یک راه‌اندازگر برابری، ==، بشناسانیم، که اگر دو ارزش، برابر بودند، ارزشِ درست بازگرداند\n",
    "<br> برای اینکار، روش ای-کیو را در رده خودمان، پیاده‌سازی میکنیم، تا جایگزین راه‌اندازگر بهنجار == شود"
   ]
  },
  {
   "cell_type": "code",
   "execution_count": 7,
   "id": "0bb4291e",
   "metadata": {},
   "outputs": [],
   "source": [
    "# we include our almost-equal method in the class\n",
    "# در رده زیر، روش کموبیش-برابر را میآوریم\n",
    "class Eq:\n",
    "    def __init__(self,me,epsilon=1e-7):\n",
    "        self.me=me\n",
    "        self.epsilon=epsilon\n",
    "    def __eq__(self,other): #replaces ==\n",
    "        if abs(self.me-other.me)<=self.epsilon:\n",
    "            return True\n",
    "        else:\n",
    "            return False"
   ]
  },
  {
   "cell_type": "code",
   "execution_count": 76,
   "id": "b09bf742",
   "metadata": {},
   "outputs": [
    {
     "name": "stdout",
     "output_type": "stream",
     "text": [
      "You're wrong\n",
      "تو در زَسپان هستی\n",
      "-----------------------------\n",
      "Now, you are making progress!!!\n",
      "اینک، داری پیشرفت میکنی\n"
     ]
    }
   ],
   "source": [
    "# example of our almost-equal\n",
    "# نمونه کموبیش-برابر ما\n",
    "if .2+.2+.2==.6:\n",
    "    print('Right answer')\n",
    "    print('پاسخ درست')\n",
    "else:\n",
    "    print('You\\'re wrong')\n",
    "    print('تو در زَسپان هستی')\n",
    "print('-----------------------------')\n",
    "if Eq(.2+.2+.2)==Eq(.6):\n",
    "    print('Now, you are making progress!!!')\n",
    "    print('اینک، داری پیشرفت میکنی')\n",
    "else:\n",
    "    print('Now, you are not good enough yet!!!')\n",
    "    print('اینک، بسنده خووب نیستی هنوز')"
   ]
  },
  {
   "cell_type": "markdown",
   "id": "dbef2d33",
   "metadata": {},
   "source": [
    "**Example:** Defining a custom vector class: To overload summation operator +, and also, built-in function --str-- <br>\n",
    "نمونه: شناساندن یک رده سفارشی برای بُردار: برای سربار کردن راه‌اندازگر افزودن + و کارکنش درون-ساخته اس-تی-آر"
   ]
  },
  {
   "cell_type": "code",
   "execution_count": 77,
   "id": "7be5e05a",
   "metadata": {},
   "outputs": [
    {
     "data": {
      "text/plain": [
       "('12345', '12345')"
      ]
     },
     "execution_count": 77,
     "metadata": {},
     "output_type": "execute_result"
    }
   ],
   "source": [
    "# when we call str(val), in fact, we call (val).__str__()\n",
    "str(12345), (12345).__str__()"
   ]
  },
  {
   "cell_type": "code",
   "execution_count": 72,
   "id": "fffce221",
   "metadata": {},
   "outputs": [],
   "source": [
    "# class to add two vectors, and also to implement --str--\n",
    "# رده‌ای برای اقزودن دو بردار، و همچنین، پیاده‌ساری کارکنش ساخته‌شده اس-تی-آر\n",
    "class Vector:\n",
    "    def __init__(self,components):\n",
    "        self.components=list(components)\n",
    "    def __add__(self,other):\n",
    "        if len(self.components)!=len(other.components):\n",
    "            print('Error: lengths must be the same')\n",
    "            return None\n",
    "        else:\n",
    "            me=self.components.copy()\n",
    "            for i,v in enumerate(other.components):\n",
    "                me[i]+=v\n",
    "            return Vector(me)\n",
    "    def __str__(self): #string version of our class\n",
    "        return '['+','.join([str(i) for i in self.components])+']'"
   ]
  },
  {
   "cell_type": "code",
   "execution_count": 73,
   "id": "01dabe0e",
   "metadata": {},
   "outputs": [
    {
     "data": {
      "text/plain": [
       "'[6,6,6,6,6]'"
      ]
     },
     "execution_count": 73,
     "metadata": {},
     "output_type": "execute_result"
    }
   ],
   "source": [
    "# example of summing two vectors\n",
    "# نمونه‎ ای برای اقزودن دو بردار\n",
    "U=Vector([1,2,3,4,5])\n",
    "V=Vector([5,4,3,2,1])\n",
    "W=U+V\n",
    "str(W)"
   ]
  },
  {
   "cell_type": "code",
   "execution_count": null,
   "id": "e072ac32",
   "metadata": {},
   "outputs": [],
   "source": []
  }
 ],
 "metadata": {
  "kernelspec": {
   "display_name": "Python 3 (ipykernel)",
   "language": "python",
   "name": "python3"
  },
  "language_info": {
   "codemirror_mode": {
    "name": "ipython",
    "version": 3
   },
   "file_extension": ".py",
   "mimetype": "text/x-python",
   "name": "python",
   "nbconvert_exporter": "python",
   "pygments_lexer": "ipython3",
   "version": "3.8.10"
  }
 },
 "nbformat": 4,
 "nbformat_minor": 5
}
