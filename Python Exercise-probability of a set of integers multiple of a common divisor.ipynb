{
 "cells": [
  {
   "cell_type": "markdown",
   "id": "075b1ef9",
   "metadata": {},
   "source": [
    "## Python Exercise: \n",
    "### The probability that a set of integers are multiple of a common divisor\n",
    "The code is at: https://github.com/ostad-ai/Python-Everything\n",
    "<br>LinkedIn: https://www.linkedin.com/in/dr-hamed-shah-hosseini/"
   ]
  },
  {
   "cell_type": "code",
   "execution_count": 1,
   "id": "4f1da33b",
   "metadata": {},
   "outputs": [],
   "source": [
    "# probability that an integer less than or equal to a number\n",
    "# is divisible by k\n",
    "def prob_div(number,k):\n",
    "    count=number//k\n",
    "    return count, count/number"
   ]
  },
  {
   "cell_type": "code",
   "execution_count": 2,
   "id": "4aaad961",
   "metadata": {},
   "outputs": [
    {
     "name": "stdout",
     "output_type": "stream",
     "text": [
      "Total probability: 0.0013565159425209575\n"
     ]
    }
   ],
   "source": [
    "numbers=[100,1000,10000,100000,1000000,10000000]; k=3\n",
    "total_prob=1\n",
    "for number in numbers:\n",
    "    total_prob*=prob_div(number,k)[1]\n",
    "print(f'Total probability: {total_prob}')"
   ]
  },
  {
   "cell_type": "code",
   "execution_count": null,
   "id": "c1e3994b",
   "metadata": {},
   "outputs": [],
   "source": []
  }
 ],
 "metadata": {
  "kernelspec": {
   "display_name": "Python 3 (ipykernel)",
   "language": "python",
   "name": "python3"
  },
  "language_info": {
   "codemirror_mode": {
    "name": "ipython",
    "version": 3
   },
   "file_extension": ".py",
   "mimetype": "text/x-python",
   "name": "python",
   "nbconvert_exporter": "python",
   "pygments_lexer": "ipython3",
   "version": "3.11.1"
  }
 },
 "nbformat": 4,
 "nbformat_minor": 5
}
