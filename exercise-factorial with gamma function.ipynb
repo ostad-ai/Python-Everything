{
 "cells": [
  {
   "cell_type": "markdown",
   "id": "8ad8def8",
   "metadata": {},
   "source": [
    "# Python: Everything\n",
    "- 20) **Exercise:** factorial with gamma function $\\Gamma$ for non-negative float numbers <br>\n",
    "وَرزه: ساختگرین با کارکنش گاما، برای شماره‌های نا-ناینده شناور\n",
    "<br>https://github.com/ostad-ai/Python-Everything"
   ]
  },
  {
   "cell_type": "markdown",
   "id": "62d92e50",
   "metadata": {},
   "source": [
    "$x!=\\Gamma(x+1)=\\int_{0}^{\\infty} t^x e^{-t} dt ,  x>=0$"
   ]
  },
  {
   "cell_type": "code",
   "execution_count": 5,
   "id": "608fffd8",
   "metadata": {},
   "outputs": [],
   "source": [
    "from math import gamma,factorial"
   ]
  },
  {
   "cell_type": "code",
   "execution_count": 55,
   "id": "8d0159cb",
   "metadata": {},
   "outputs": [],
   "source": [
    "#defining factorial for non-negative integer and float numbers\n",
    "# شناساندن ساختگرین، برای شماره‌های نا-ناینده دُریَست و شناور \n",
    "def factorial_int_float(x):\n",
    "    if x<0:\n",
    "        raise ValueError('You must use a non-negative number')\n",
    "    elif x==0 or x==1:\n",
    "        return 1\n",
    "    elif type(x)==int: # if type of x is integer (دُریَست)\n",
    "        return factorial(x)\n",
    "    else:\n",
    "        return gamma(x+1) # x!=gamma(x+1)"
   ]
  },
  {
   "cell_type": "code",
   "execution_count": 56,
   "id": "603321e1",
   "metadata": {},
   "outputs": [
    {
     "name": "stdout",
     "output_type": "stream",
     "text": [
      "0.6!=0.8935153492876903\n",
      "1!=1\n",
      "1.4!=1.2421693445043052\n",
      "2!=2\n",
      "2.5!=3.323350970447842\n",
      "3!=6\n",
      "3.9!=20.667385961857857\n",
      "4!=24\n"
     ]
    }
   ],
   "source": [
    "numbers=[.6,1,1.4,2,2.5,3,3.9,4]\n",
    "for x in numbers:\n",
    "    print(f'{x}!={factorial_int_float(x)}')"
   ]
  },
  {
   "cell_type": "code",
   "execution_count": null,
   "id": "5385adfd",
   "metadata": {},
   "outputs": [],
   "source": []
  }
 ],
 "metadata": {
  "kernelspec": {
   "display_name": "Python 3",
   "language": "python",
   "name": "python3"
  },
  "language_info": {
   "codemirror_mode": {
    "name": "ipython",
    "version": 3
   },
   "file_extension": ".py",
   "mimetype": "text/x-python",
   "name": "python",
   "nbconvert_exporter": "python",
   "pygments_lexer": "ipython3",
   "version": "3.8.15"
  }
 },
 "nbformat": 4,
 "nbformat_minor": 5
}
