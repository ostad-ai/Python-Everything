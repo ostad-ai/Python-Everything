{
 "cells": [
  {
   "cell_type": "markdown",
   "id": "b3c0145c",
   "metadata": {},
   "source": [
    "# Python: Everything\n",
    "- 27) **List comprehension** \n",
    "    - Definition of a list comprehension\n",
    "    - Example: to squares numbers in a list\n",
    "    - Example: using if-clause to separate odd and even numbers of a list\n",
    "    - Nested list comprehensions\n",
    "    - Example: transposing a matrix or ordering a matrix in row major or column-major\n",
    "    - Hint: loop control variables in list comprehensions are local\n",
    "    - Example: dot product and Cartesian product of two lists\n",
    "<br>----------------------------------------------\n",
    "<br> https://www.pinterest.com/HamedShahHosseini/programming-languages/\n",
    "<br>https://github.com/ostad-ai/Python-Everything"
   ]
  },
  {
   "cell_type": "markdown",
   "id": "35474859",
   "metadata": {},
   "source": [
    "**List comprehension:** is a concise way to create lists. We usually create new lists from some operations on the members of another iterable. We also may make a subsequence from the given iterable. An iterable could be a set, list, tuple, or etc.\n",
    "**The syntax:** is given below, which returns a new list without changing the original iterable.\n",
    "<br>$newlist=[expression\\; for\\; item\\; in\\; iterable\\; if\\; condition]$\n",
    "<br> We could use more if or for clauses."
   ]
  },
  {
   "cell_type": "markdown",
   "id": "b1ade53a",
   "metadata": {},
   "source": [
    "Example below implements two ways to square numbers of a list: first with an ordinary function, the second is using list comprehension."
   ]
  },
  {
   "cell_type": "code",
   "execution_count": 1,
   "id": "c819d4a6",
   "metadata": {},
   "outputs": [
    {
     "name": "stdout",
     "output_type": "stream",
     "text": [
      "Original list: [2, 3, 5, 7, 11]\n",
      "Squared list: [4, 9, 25, 49, 121]\n"
     ]
    }
   ],
   "source": [
    "mylist=[2,3,5,7,11]\n",
    "# doing the squares with list comprehension\n",
    "squares=[x**2 for x in mylist]\n",
    "print(f'Original list: {mylist}')\n",
    "print(f'Squared list: {squares}')"
   ]
  },
  {
   "cell_type": "code",
   "execution_count": 2,
   "id": "0ca133a8",
   "metadata": {},
   "outputs": [
    {
     "name": "stdout",
     "output_type": "stream",
     "text": [
      "Original list: [2, 3, 5, 7, 11]\n",
      "Squared list: [4, 9, 25, 49, 121]\n",
      "Squared with list comprehension: [4, 9, 25, 49, 121]\n"
     ]
    }
   ],
   "source": [
    "# fucntion to square elements of list of numbers\n",
    "def square_x(xs):\n",
    "    result=[]\n",
    "    for x in xs:\n",
    "        result.append(x**2)\n",
    "    return result\n",
    "\n",
    "mylist=[2,3,5,7,11]\n",
    "squares=square_x(mylist)\n",
    "# doing the squares with list comprehension\n",
    "squares2=[x**2 for x in mylist]\n",
    "print(f'Original list: {mylist}')\n",
    "print(f'Squared list: {squares}')\n",
    "print(f'Squared with list comprehension: {squares2}')"
   ]
  },
  {
   "cell_type": "markdown",
   "id": "b6165847",
   "metadata": {},
   "source": [
    "An example to separate odd and even numbers from a list using *if clause* in list comprehension."
   ]
  },
  {
   "cell_type": "code",
   "execution_count": 3,
   "id": "b2c7aee2",
   "metadata": {},
   "outputs": [
    {
     "name": "stdout",
     "output_type": "stream",
     "text": [
      "Original list: [0, 1, 2, 3, 4, 5, 6, 7, 8, 9, 10, 11, 12, 13, 14, 15, 16, 17]\n",
      "Even numbers of the list: [0, 2, 4, 6, 8, 10, 12, 14, 16]\n",
      "Odd numbers of the list: [1, 3, 5, 7, 9, 11, 13, 15, 17]\n"
     ]
    }
   ],
   "source": [
    "mylist=list(range(18))\n",
    "evens=[n for n in mylist if n%2==0]\n",
    "odds=[n for n in mylist if n%2!=0]\n",
    "print(f'Original list: {mylist}')\n",
    "print(f'Even numbers of the list: {evens}')\n",
    "print(f'Odd numbers of the list: {odds}')"
   ]
  },
  {
   "cell_type": "markdown",
   "id": "5353c8ff",
   "metadata": {},
   "source": [
    "**Nested list comprehension:** An example to transpose a matrix with list comprehension. This time we use nested list comprehension."
   ]
  },
  {
   "cell_type": "code",
   "execution_count": 4,
   "id": "f956e098",
   "metadata": {},
   "outputs": [
    {
     "name": "stdout",
     "output_type": "stream",
     "text": [
      "Original matrix: [[1, 2, 3], [4, 5, 6]]\n",
      "Transposed matrix: [[1, 4], [2, 5], [3, 6]]\n"
     ]
    }
   ],
   "source": [
    "matrix=[[1,2,3],[4,5,6]]\n",
    "transposed=[[row[i] for row in matrix] for i in range(len(matrix[0]))]\n",
    "print(f'Original matrix: {matrix}')\n",
    "print(f'Transposed matrix: {transposed}')"
   ]
  },
  {
   "cell_type": "markdown",
   "id": "43996787",
   "metadata": {},
   "source": [
    "A example to flatten a nested list, here a matrix to **row-major order** and **column-major order**. We also use the function-based computation of these ordering to compare the results."
   ]
  },
  {
   "cell_type": "code",
   "execution_count": 5,
   "id": "57c3787b",
   "metadata": {},
   "outputs": [
    {
     "name": "stdout",
     "output_type": "stream",
     "text": [
      "The matrix: [[1, 2, 3], [4, 5, 6]]\n",
      "row-major order: [1, 2, 3, 4, 5, 6]\n",
      "row-major order with list comrpehension: [1, 2, 3, 4, 5, 6]\n",
      "column-major order: [1, 4, 2, 5, 3, 6]\n",
      "column-major order with list comrpehension: [1, 4, 2, 5, 3, 6]\n"
     ]
    }
   ],
   "source": [
    "def row_major_order(matrix):\n",
    "    result=[]\n",
    "    for row in matrix:\n",
    "        for col in row:\n",
    "            result.append(col)\n",
    "    return result\n",
    "\n",
    "def column_major_order(matrix):\n",
    "    result=[]\n",
    "    for col_index in range(len(matrix[0])):\n",
    "        for row in matrix:\n",
    "            result.append(row[col_index])\n",
    "    return result\n",
    "\n",
    "matrix=[[1,2,3],[4,5,6]]\n",
    "# using list comprehensions\n",
    "row_major_lc=[element for row in matrix for element in row]\n",
    "column_major_lc=[row[i] for i in range(len(matrix[0])) for row in matrix]\n",
    "#---------------\n",
    "print(f'The matrix: {matrix}')\n",
    "print(f'row-major order: {row_major_order(matrix)}')\n",
    "print(f'row-major order with list comrpehension: {row_major_lc}')\n",
    "print(f'column-major order: {column_major_order(matrix)}')\n",
    "print(f'column-major order with list comrpehension: {column_major_lc}')"
   ]
  },
  {
   "cell_type": "markdown",
   "id": "2530340e",
   "metadata": {},
   "source": [
    "**Attention:** *loop control variable* in list comprehension is **local**, so it does not change the variable with the same name outside of list comprehension."
   ]
  },
  {
   "cell_type": "code",
   "execution_count": 6,
   "id": "079f2aa3",
   "metadata": {},
   "outputs": [
    {
     "name": "stdout",
     "output_type": "stream",
     "text": [
      "variable x before list comprehension: hello world\n",
      "result of list comrpehension: [0, 1, 2, 3, 4, 5, 6, 7, 8, 9]\n",
      "variable x after list comprehension: hello world\n"
     ]
    }
   ],
   "source": [
    "# a string variable\n",
    "x='hello world'\n",
    "print(f'variable x before list comprehension: {x}')\n",
    "N=10\n",
    "# x here is local variable\n",
    "xs=[x for x in range(N)]\n",
    "print(f'result of list comrpehension: {xs}')\n",
    "print(f'variable x after list comprehension: {x}')"
   ]
  },
  {
   "cell_type": "markdown",
   "id": "f040af3e",
   "metadata": {},
   "source": [
    "We can implement **dot product**, and **Cartesian product** with list comprehension:"
   ]
  },
  {
   "cell_type": "code",
   "execution_count": 7,
   "id": "7230fdf7",
   "metadata": {},
   "outputs": [
    {
     "name": "stdout",
     "output_type": "stream",
     "text": [
      "vector x: [1, 2, 3]\n",
      "vector y: [4, 5, 6]\n",
      "dot product x with y: 32\n",
      "Cartesian product x with y: [(1, 4), (1, 5), (1, 6), (2, 4), (2, 5), (2, 6), (3, 4), (3, 5), (3, 6)]\n"
     ]
    }
   ],
   "source": [
    "x=[1,2,3]\n",
    "y=[4,5,6]\n",
    "x_dot_y=sum([xi*yi for xi,yi in zip(x,y)])\n",
    "x_cartesian_y=[(xi,yi) for xi in x for yi in y]\n",
    "print(f'vector x: {x}')\n",
    "print(f'vector y: {y}')\n",
    "print(f'dot product x with y: {x_dot_y}')\n",
    "print(f'Cartesian product x with y: {x_cartesian_y}')"
   ]
  },
  {
   "cell_type": "code",
   "execution_count": null,
   "id": "22275727",
   "metadata": {},
   "outputs": [],
   "source": []
  }
 ],
 "metadata": {
  "kernelspec": {
   "display_name": "Python 3 (ipykernel)",
   "language": "python",
   "name": "python3"
  },
  "language_info": {
   "codemirror_mode": {
    "name": "ipython",
    "version": 3
   },
   "file_extension": ".py",
   "mimetype": "text/x-python",
   "name": "python",
   "nbconvert_exporter": "python",
   "pygments_lexer": "ipython3",
   "version": "3.8.10"
  }
 },
 "nbformat": 4,
 "nbformat_minor": 5
}
