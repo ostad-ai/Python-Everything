{
 "cells": [
  {
   "cell_type": "markdown",
   "metadata": {},
   "source": [
    "# Python: Everything\n",
    "- 12) Frequency count of words (or letters) with Dictionaries in Python\n",
    "<br>----------------------------------------------\n",
    "## شمارش فراوانی واژه‌ها (یا وات‌ها) با واژه‌نامه ها در پایتون\n",
    "---\n",
    "By Hamed Shah-Hosseini\n",
    "<br>The whole code:\n",
    "    - https://github.com/ostad-ai/Python-Everything\n",
    "\n",
    " Explanation in **English**:\n",
    "    -    https://www.pinterest.com/HamedShahHosseini/programming-languages/python\n",
    "\n",
    " Explanation in **Persian**:\n",
    "     - https://www.instagram.com/words.persian"
   ]
  },
  {
   "cell_type": "markdown",
   "metadata": {},
   "source": [
    "Imagine, we have a text, and we want to count its words (or letters).\n",
    "<br>For this, we should remove punctuations first as mentioned in previous posts.<br>\n",
    "پندارید که یک متیان داریم، و میخواهیم شمار واژه (یا وات) های آن را بیابیم<br>\n",
    "برای این، بهتر است که نخست نقطه‌گون ها را ورداریم، همانگونه که در فرستارهای پیشین یادآوری شده"
   ]
  },
  {
   "cell_type": "code",
   "execution_count": 2,
   "metadata": {},
   "outputs": [],
   "source": [
    "# mentioned in an earlier post\n",
    "# simple function to include only alphanumeric\n",
    "def only_alphanumeric(text):\n",
    "    return ''.join([letter for letter in text\\\n",
    "                if letter.isalnum() or letter.isspace()])"
   ]
  },
  {
   "cell_type": "code",
   "execution_count": 18,
   "metadata": {},
   "outputs": [],
   "source": [
    "# sample text (متیان نمونه)\n",
    "text='Hello world, '\n",
    "text+='this time, we are going to count the number of words in this text. '\n",
    "text+='So, let us do this step by step. Good luck and good day'"
   ]
  },
  {
   "cell_type": "markdown",
   "metadata": {},
   "source": [
    "To remove punctuations:<br>\n",
    "برای ورداشتن نقطه‌گون ها:"
   ]
  },
  {
   "cell_type": "code",
   "execution_count": 40,
   "metadata": {},
   "outputs": [
    {
     "name": "stdout",
     "output_type": "stream",
     "text": [
      "Hello world this time we are going to count the number of words in this text So let us do this step by step Good luck and good day\n"
     ]
    }
   ],
   "source": [
    "text_new=only_alphanumeric(text)\n",
    "print(text_new)"
   ]
  },
  {
   "cell_type": "markdown",
   "metadata": {},
   "source": [
    "To count the frequecy of words:<br>\n",
    "برای شمردن فراوانی واژه‌ها:"
   ]
  },
  {
   "cell_type": "code",
   "execution_count": 31,
   "metadata": {},
   "outputs": [
    {
     "name": "stdout",
     "output_type": "stream",
     "text": [
      "{'hello': 1, 'world': 1, 'this': 3, 'time': 1, 'we': 1, 'are': 1, 'going': 1, 'to': 1, 'count': 1, 'the': 1, 'number': 1, 'of': 1, 'words': 1, 'in': 1, 'text': 1, 'so': 1, 'let': 1, 'us': 1, 'do': 1, 'step': 2, 'by': 1, 'good': 2, 'luck': 1, 'and': 1, 'day': 1}\n"
     ]
    }
   ],
   "source": [
    "freq_words={}\n",
    "for word in text_new.lower().split():\n",
    "    freq_words[word]=1+freq_words.get(word,0)\n",
    "print(freq_words)"
   ]
  },
  {
   "cell_type": "markdown",
   "metadata": {},
   "source": [
    "To count the frequecy of letters:<br>\n",
    "برای شمردن فراوانی وات‌ها:"
   ]
  },
  {
   "cell_type": "code",
   "execution_count": 17,
   "metadata": {},
   "outputs": [
    {
     "name": "stdout",
     "output_type": "stream",
     "text": [
      "{'h': 5, 'e': 10, 'l': 5, 'o': 13, 'w': 3, 'r': 4, 'd': 7, 't': 12, 'i': 6, 's': 8, 'm': 2, 'a': 3, 'g': 4, 'n': 5, 'c': 2, 'u': 4, 'b': 2, 'f': 1, 'x': 1, 'p': 2, 'y': 2, 'k': 1}\n"
     ]
    }
   ],
   "source": [
    "freq_letters={}\n",
    "for word in text_new.lower().split():\n",
    "    for letter in word:\n",
    "        freq_letters[letter]=1+freq_letters.get(letter,0)\n",
    "print(freq_letters)"
   ]
  },
  {
   "cell_type": "markdown",
   "metadata": {},
   "source": [
    "Let's show the frequencies of letters:<br>\n",
    "بیاییم فراوانی وات‌ها را نمایش دهیم:"
   ]
  },
  {
   "cell_type": "code",
   "execution_count": 48,
   "metadata": {},
   "outputs": [
    {
     "name": "stdout",
     "output_type": "stream",
     "text": [
      "o:  * * * * * * * * * * * * *\n",
      "t:  * * * * * * * * * * * *\n",
      "e:  * * * * * * * * * *\n",
      "s:  * * * * * * * *\n",
      "d:  * * * * * * *\n",
      "i:  * * * * * *\n",
      "h:  * * * * *\n",
      "l:  * * * * *\n",
      "n:  * * * * *\n",
      "r:  * * * *\n",
      "g:  * * * *\n",
      "u:  * * * *\n",
      "w:  * * *\n",
      "a:  * * *\n",
      "m:  * *\n",
      "c:  * *\n",
      "b:  * *\n",
      "p:  * *\n",
      "y:  * *\n",
      "f:  *\n",
      "x:  *\n",
      "k:  *\n"
     ]
    }
   ],
   "source": [
    "sorted_freq_letters=sorted(freq_letters.items(),\n",
    "          key=lambda item: item[1],reverse=True)\n",
    "for k,v in sorted_freq_letters:\n",
    "    print(f'{k}: ',*['*']*v)"
   ]
  },
  {
   "cell_type": "markdown",
   "metadata": {},
   "source": [
    "Let's do the above procedure for a real text. We download it from the Internet as we did in an earlier post.<br>\n",
    "بیاییم روند بالا را روی یک متیان راستین انجام دهیم. ما آنرا از اندرتور بارگیری میکنیم؛ همانگونه که در یکی از فرستارهای پیشین، چنین کردیم"
   ]
  },
  {
   "cell_type": "code",
   "execution_count": 19,
   "metadata": {},
   "outputs": [
    {
     "name": "stdout",
     "output_type": "stream",
     "text": [
      "file is downloaded\n"
     ]
    }
   ],
   "source": [
    "from urllib import request\n",
    "file_url='https://raw.githubusercontent.com/ostad-ai/'+\\\n",
    "'Machine-Learning/main/alice_in_wonderland.txt'\n",
    "with request.urlopen(file_url) as file:\n",
    "    alice=file.read().decode('utf-8')\n",
    "    print('file is downloaded')"
   ]
  },
  {
   "cell_type": "markdown",
   "metadata": {},
   "source": [
    "Counting words (and letters) of text alice:<br>\n",
    "شمارش واژه‌ها (و وات‌ها) از متیان الیس:"
   ]
  },
  {
   "cell_type": "code",
   "execution_count": 27,
   "metadata": {},
   "outputs": [],
   "source": [
    "text_alice=only_alphanumeric(alice)\n",
    "freq_words_alice={}\n",
    "for word in text_alice.lower().split():\n",
    "    freq_words_alice[word]=1+freq_words_alice.get(word,0)\n",
    "#print(freq_words_alice)\n",
    "freq_letters_alice={}\n",
    "for word in text_alice.lower().split():\n",
    "    for letter in word:\n",
    "        freq_letters_alice[letter]=1+freq_letters_alice.get(letter,0)\n",
    "#print(freq_letters_alice)"
   ]
  },
  {
   "cell_type": "markdown",
   "metadata": {},
   "source": [
    "Words are sored based on their frequencies:<br>\n",
    "واژه‌ها برپایه فراوانی، سرده میشوند:"
   ]
  },
  {
   "cell_type": "code",
   "execution_count": 44,
   "metadata": {},
   "outputs": [
    {
     "name": "stdout",
     "output_type": "stream",
     "text": [
      "[('the', 1637), ('and', 846), ('to', 721), ('a', 632), ('she', 537), ('it', 526), ('of', 509), ('said', 462), ('i', 401), ('alice', 385)]\n"
     ]
    }
   ],
   "source": [
    "#sorting the words based on their frequencies\n",
    "sorted_freq_words_alice=sorted(freq_words_alice.items(),\n",
    "                        key=lambda item: item[1],reverse=True)\n",
    "print(sorted_freq_words_alice[:10])"
   ]
  },
  {
   "cell_type": "markdown",
   "metadata": {},
   "source": [
    "Letters are sored based on their frequencies:<br>\n",
    "وات‌ها برپایه فراوانی، سرده میشوند:"
   ]
  },
  {
   "cell_type": "code",
   "execution_count": 43,
   "metadata": {},
   "outputs": [
    {
     "name": "stdout",
     "output_type": "stream",
     "text": [
      "[('e', 13618), ('t', 10726), ('a', 8826), ('o', 8159), ('i', 7539), ('h', 7396), ('n', 7025), ('s', 6514), ('r', 5467), ('d', 4939)]\n"
     ]
    }
   ],
   "source": [
    "#sorting the letters based on their frequencies\n",
    "sorted_freq_letters_alice=sorted(freq_letters_alice.items(),\n",
    "                        key=lambda item: item[1],reverse=True)\n",
    "print(sorted_freq_letters_alice[:10])"
   ]
  },
  {
   "cell_type": "markdown",
   "metadata": {},
   "source": [
    "Using *bar* in *matplotlib* to plot the frequencies<br>\n",
    "بهره‌گیری از *میله* در *متپلاتلیب* برای نمایش فراوانیها"
   ]
  },
  {
   "cell_type": "code",
   "execution_count": 39,
   "metadata": {},
   "outputs": [
    {
     "data": {
      "image/png": "[encoded data removed]",
      "text/plain": [
       "<Figure size 432x288 with 1 Axes>"
      ]
     },
     "metadata": {
      "needs_background": "light"
     },
     "output_type": "display_data"
    }
   ],
   "source": [
    "from matplotlib import pyplot as plt\n",
    "x,y=zip(*sorted_freq_letters_alice)\n",
    "plt.bar(x,y,label='Al\n",
    "        ice\\'s letter frequecies')\n",
    "plt.legend()\n",
    "plt.xlabel('letters')\n",
    "plt.ylabel('frequencies')\n",
    "plt.show()"
   ]
  },
  {
   "cell_type": "code",
   "execution_count": null,
   "metadata": {},
   "outputs": [],
   "source": []
  }
 ],
 "metadata": {
  "kernelspec": {
   "display_name": "Python 3",
   "language": "python",
   "name": "python3"
  },
  "language_info": {
   "codemirror_mode": {
    "name": "ipython",
    "version": 3
   },
   "file_extension": ".py",
   "mimetype": "text/x-python",
   "name": "python",
   "nbconvert_exporter": "python",
   "pygments_lexer": "ipython3",
   "version": "3.8.3"
  }
 },
 "nbformat": 4,
 "nbformat_minor": 5
}
